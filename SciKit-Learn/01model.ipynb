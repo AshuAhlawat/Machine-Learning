{
 "cells": [
  {
   "cell_type": "code",
   "execution_count": null,
   "source": [
    "from sklearn.datasets import load_boston\r\n",
    "from sklearn.linear_model import LinearRegression\r\n",
    "from sklearn.neighbors import KNeighborsRegressor"
   ],
   "outputs": [],
   "metadata": {}
  },
  {
   "cell_type": "code",
   "execution_count": null,
   "source": [
    "inputs, targets = load_boston(return_X_y = True)\r\n",
    "\r\n",
    "print(type(inputs),inputs.dtype, inputs.shape)\r\n",
    "\r\n",
    "linear_model = LinearRegression()\r\n",
    "neighbor_model = KNeighborsRegressor()"
   ],
   "outputs": [],
   "metadata": {}
  },
  {
   "cell_type": "code",
   "execution_count": null,
   "source": [
    "linear_model.fit(inputs, targets)"
   ],
   "outputs": [],
   "metadata": {}
  },
  {
   "cell_type": "code",
   "execution_count": null,
   "source": [
    "preds = linear_model.predict(inputs)\r\n",
    "# print(preds)\r\n",
    "# print(targets)\r\n",
    "\r\n",
    "loss_array = (preds-targets)**2\r\n",
    "# print(loss_array)\r\n",
    "loss = sum(loss_array)\r\n",
    "print(loss)"
   ],
   "outputs": [],
   "metadata": {}
  },
  {
   "cell_type": "code",
   "execution_count": null,
   "source": [
    "neighbor_model.fit(inputs, targets)"
   ],
   "outputs": [],
   "metadata": {}
  },
  {
   "cell_type": "code",
   "execution_count": null,
   "source": [
    "preds = neighbor_model.predict(inputs)\r\n",
    "# print(preds)\r\n",
    "# print(targets)\r\n",
    "\r\n",
    "loss_array = (preds-targets)**2\r\n",
    "# print(loss_array)\r\n",
    "loss = sum(loss_array)\r\n",
    "print(loss)"
   ],
   "outputs": [],
   "metadata": {}
  }
 ],
 "metadata": {
  "orig_nbformat": 4,
  "language_info": {
   "name": "python",
   "version": "3.9.1",
   "mimetype": "text/x-python",
   "codemirror_mode": {
    "name": "ipython",
    "version": 3
   },
   "pygments_lexer": "ipython3",
   "nbconvert_exporter": "python",
   "file_extension": ".py"
  },
  "kernelspec": {
   "name": "python3",
   "display_name": "Python 3.9.1 64-bit"
  },
  "interpreter": {
   "hash": "2f97e602bf3efd1202fb41503b5059ddd336053f3958a92ca7b4a7a1e22459bb"
  }
 },
 "nbformat": 4,
 "nbformat_minor": 2
}
{
 "cells": [
  {
   "cell_type": "code",
   "execution_count": 9,
   "source": [
    "#importing useful modules\r\n",
    "\r\n",
    "import pandas as pd\r\n",
    "import numpy as np\r\n",
    "\r\n",
    "import torch"
   ],
   "outputs": [],
   "metadata": {}
  },
  {
   "cell_type": "code",
   "execution_count": 10,
   "source": [
    "#loading csv data in variables\r\n",
    "\r\n",
    "train_data = np.array(pd.read_csv(\"./fashion-mnist-train.csv\")).astype(np.float32)\r\n",
    "test_data = np.array(pd.read_csv(\"./fashion-mnist-test.csv\")).astype(np.float32)"
   ],
   "outputs": [],
   "metadata": {}
  },
  {
   "cell_type": "code",
   "execution_count": 11,
   "source": [
    "#converting data to tensors\r\n",
    "\r\n",
    "train_data = torch.from_numpy(train_data)\r\n",
    "test_data = torch.from_numpy(test_data)"
   ],
   "outputs": [],
   "metadata": {}
  },
  {
   "cell_type": "code",
   "execution_count": 12,
   "source": [
    "#creating dataloader objects to load data in batches of 100 to save cpu power and time\r\n",
    "\r\n",
    "train_loader = torch.utils.data.DataLoader(train_data, batch_size=100, shuffle=True)\r\n",
    "test_loader = torch.utils.data.DataLoader(test_data, batch_size=100, shuffle=True)"
   ],
   "outputs": [],
   "metadata": {}
  },
  {
   "cell_type": "code",
   "execution_count": 13,
   "source": [
    "#making Neural network using layered linear model\r\n",
    "#using relu func to erase linearity in model\r\n",
    "#using softmax to change predictions into probabilities\r\n",
    "\r\n",
    "class FashionNetwork(torch.nn.Module):\r\n",
    "    def __init__(self, input_dim, layer_dim, out_dim):\r\n",
    "        super().__init__()\r\n",
    "        self.linear1 = torch.nn.Linear(input_dim, layer_dim)\r\n",
    "        self.linear2 = torch.nn.Linear(layer_dim, out_dim)\r\n",
    "    \r\n",
    "    def forward(self, inputs):\r\n",
    "        inputs = inputs/255\r\n",
    "        out = self.linear1(inputs)\r\n",
    "        out = torch.relu(out)\r\n",
    "        out = self.linear2(out)\r\n",
    "        targets_pred = torch.softmax(out, dim=-1)\r\n",
    "        \r\n",
    "        return targets_pred\r\n",
    "    \r\n",
    "\r\n",
    "model = FashionNetwork(784,100,10)"
   ],
   "outputs": [],
   "metadata": {}
  },
  {
   "cell_type": "code",
   "execution_count": 14,
   "source": [
    "#using binary cross entropy function to calculate loss\r\n",
    "\r\n",
    "loss_fn = torch.nn.BCELoss()"
   ],
   "outputs": [],
   "metadata": {}
  },
  {
   "cell_type": "code",
   "execution_count": 15,
   "source": [
    "#optimizer to do gradient decent\r\n",
    "\r\n",
    "opt = torch.optim.SGD(model.parameters(), lr = 0.5)\r\n",
    "# opt = torch.optim.Adam(model.parameters(), lr=0.005)"
   ],
   "outputs": [],
   "metadata": {}
  },
  {
   "cell_type": "code",
   "execution_count": 16,
   "source": [
    "# Training Loop\r\n",
    "\r\n",
    "epochs = 3\r\n",
    "for epoch in range(epochs):\r\n",
    "    for batch in train_loader:\r\n",
    "        \r\n",
    "        #taking inputs out of batch of the training dataset\r\n",
    "        inputs = batch[:,1:785]\r\n",
    "        \r\n",
    "        #one hot encoding the targets after taking them out of the training dataset\r\n",
    "        targets_cls = batch[:,0]\r\n",
    "        targets = []\r\n",
    "        for target in targets_cls:\r\n",
    "            x = np.zeros(10)\r\n",
    "            x[int(target)] = 1\r\n",
    "            \r\n",
    "            targets.append(x.astype(np.float32))\r\n",
    "        \r\n",
    "        #converting encoded targets to tensor\r\n",
    "        targets = torch.tensor(targets)\r\n",
    "        \r\n",
    "        #putting inputs in model to get preds\r\n",
    "        preds = model(inputs)\r\n",
    "        #putting preds in loss_fn to get loss\r\n",
    "        loss = loss_fn(preds, targets)\r\n",
    "        \r\n",
    "        loss.backward()\r\n",
    "        #reducing the loss \r\n",
    "        opt.step()\r\n",
    "        opt.zero_grad()\r\n",
    "    \r\n",
    "    print(\"Epoch:\",epoch+1,\" Loss:\",round(loss.item(),4))\r\n",
    "    \r\n",
    "    #Accuracy Calcution on the test dataset by unpacking it and aplying trained models\r\n",
    "    correct = 0\r\n",
    "    with torch.no_grad():\r\n",
    "        for batch in test_loader:\r\n",
    "            inputs_test = batch[:,1:785]\r\n",
    "            targets_cls = batch[:,0]\r\n",
    "            \r\n",
    "            pred = model(inputs_test)\r\n",
    "            for i in range(len(batch)):\r\n",
    "                if (pred[i]==pred[i].max()).nonzero().item() == targets_cls[i]:\r\n",
    "                    correct += 1\r\n",
    "        \r\n",
    "        acc = correct/len(test_data)\r\n",
    "        print(\"Accuracy: \",round(acc*100,1),\"%\")\r\n",
    "          "
   ],
   "outputs": [
    {
     "output_type": "stream",
     "name": "stdout",
     "text": [
      "Epoch: 1  Loss: 0.0882\n",
      "Accuracy:  80.2 %\n",
      "Epoch: 2  Loss: 0.0722\n",
      "Accuracy:  82.8 %\n",
      "Epoch: 3  Loss: 0.089\n",
      "Accuracy:  83.7 %\n",
      "Epoch: 4  Loss: 0.0564\n",
      "Accuracy:  85.0 %\n",
      "Epoch: 5  Loss: 0.0987\n",
      "Accuracy:  84.9 %\n"
     ]
    }
   ],
   "metadata": {}
  },
  {
   "cell_type": "code",
   "execution_count": 17,
   "source": [
    "# The Function to load weights and bias's you like\r\n",
    "\r\n",
    "# torch.save(model.state_dict(),'FashionMNIST-NeuralNetwork.pth')\r\n",
    "\r\n",
    "model_pred = FashionNetwork(784,100,10)\r\n",
    "try:\r\n",
    "    model_pred.load_state_dict(torch.load(\"./saved_models/FashionMNIST-NeuralNetwork.pth\"))\r\n",
    "except:\r\n",
    "    print(\"Error Occured in loading saved weights, using defaults\")\r\n",
    "    model_pred = model"
   ],
   "outputs": [],
   "metadata": {}
  },
  {
   "cell_type": "code",
   "execution_count": 18,
   "source": [
    "#Predict the class using the fully trained model\r\n",
    "import matplotlib.pyplot as plt\r\n",
    "\r\n",
    "index = 123\r\n",
    "\r\n",
    "test_input = test_data[index,1:785]\r\n",
    "pred = model_pred(test_input)\r\n",
    "\r\n",
    "print(\"Prediction: \",(pred==pred.max()).nonzero().item())\r\n",
    "\r\n",
    "target = test_data[index,0]\r\n",
    "print(\"Target: \", int(target))\r\n",
    "print(\"\"\"\r\n",
    "0 T-shirt/top, \r\n",
    "1 Trouser, \r\n",
    "2 Pullover,\r\n",
    "3 Dress,\r\n",
    "4 Coat,\r\n",
    "5 Sandal,\r\n",
    "6 Shirt,\r\n",
    "7 Sneaker,\r\n",
    "8 Bag,\r\n",
    "9 Ankle boot\r\n",
    "\"\"\")\r\n",
    "\r\n",
    "#converting array to image and seeing it on a graph\r\n",
    "plt.imshow(test_input.reshape(28,28),cmap=\"gray\")"
   ],
   "outputs": [
    {
     "output_type": "stream",
     "name": "stdout",
     "text": [
      "Prediction:  4\n",
      "Target:  4\n",
      "\n",
      "0 T-shirt/top, \n",
      "1 Trouser, \n",
      "2 Pullover,\n",
      "3 Dress,\n",
      "4 Coat,\n",
      "5 Sandal,\n",
      "6 Shirt,\n",
      "7 Sneaker,\n",
      "8 Bag,\n",
      "9 Ankle boot\n",
      "\n"
     ]
    },
    {
     "output_type": "execute_result",
     "data": {
      "text/plain": [
       "<matplotlib.image.AxesImage at 0x2190076cd30>"
      ]
     },
     "metadata": {},
     "execution_count": 18
    },
    {
     "output_type": "display_data",
     "data": {
      "text/plain": [
       "<Figure size 432x288 with 1 Axes>"
      ],
      "image/png": "[encoded data removed]"
     },
     "metadata": {
      "needs_background": "light"
     }
    }
   ],
   "metadata": {}
  }
 ],
 "metadata": {
  "orig_nbformat": 4,
  "language_info": {
   "name": "python",
   "version": "3.9.1",
   "mimetype": "text/x-python",
   "codemirror_mode": {
    "name": "ipython",
    "version": 3
   },
   "pygments_lexer": "ipython3",
   "nbconvert_exporter": "python",
   "file_extension": ".py"
  },
  "kernelspec": {
   "name": "python3",
   "display_name": "Python 3.9.1 64-bit"
  },
  "interpreter": {
   "hash": "2f97e602bf3efd1202fb41503b5059ddd336053f3958a92ca7b4a7a1e22459bb"
  }
 },
 "nbformat": 4,
 "nbformat_minor": 2
}
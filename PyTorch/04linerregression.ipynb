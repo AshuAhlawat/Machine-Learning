{
 "metadata": {
  "language_info": {
   "codemirror_mode": {
    "name": "ipython",
    "version": 3
   },
   "file_extension": ".py",
   "mimetype": "text/x-python",
   "name": "python",
   "nbconvert_exporter": "python",
   "pygments_lexer": "ipython3",
   "version": "3.9.1"
  },
  "orig_nbformat": 4,
  "kernelspec": {
   "name": "python3",
   "display_name": "Python 3.9.1 64-bit"
  },
  "interpreter": {
   "hash": "2f97e602bf3efd1202fb41503b5059ddd336053f3958a92ca7b4a7a1e22459bb"
  }
 },
 "nbformat": 4,
 "nbformat_minor": 2,
 "cells": [
  {
   "cell_type": "code",
   "execution_count": 1,
   "metadata": {},
   "outputs": [],
   "source": [
    "import numpy as np\n",
    "import torch"
   ]
  },
  {
   "cell_type": "code",
   "execution_count": 2,
   "metadata": {},
   "outputs": [],
   "source": [
    "#Rating, Popularity\n",
    "inputs = np.array(\n",
    "    [\n",
    "        [9.17, 1/3],     \n",
    "        [9.10, 1/10],        \n",
    "        [7.99, 1/20],        \n",
    "        [8.77, 1/44],        \n",
    "        [8.82, 1/92],        \n",
    "        [8.25, 1/161],       \n",
    "        [8.60, 1/360],       \n",
    "        [7.83, 1/552]        \n",
    "    ],\n",
    "    dtype=\"float32\"\n",
    ")\n",
    "\n",
    "#Members, User-Ratings \n",
    "targets = np.array(\n",
    "     [\n",
    "         [2489000, 1514000],\n",
    "         [1958000, 1047000],\n",
    "         [1692000, 996400],\n",
    "         [1378400, 669000],\n",
    "         [983500, 595000],\n",
    "         [688000, 368000],\n",
    "         [415600, 83200],\n",
    "         [287500, 124000],\n",
    "     ],\n",
    "     dtype=\"float32\"\n",
    ")\n",
    "targets = targets/100000"
   ]
  },
  {
   "cell_type": "code",
   "execution_count": 3,
   "metadata": {},
   "outputs": [
    {
     "output_type": "stream",
     "name": "stdout",
     "text": [
      "tensor([[9.1700e+00, 3.3333e-01],\n        [9.1000e+00, 1.0000e-01],\n        [7.9900e+00, 5.0000e-02],\n        [8.7700e+00, 2.2727e-02],\n        [8.8200e+00, 1.0870e-02],\n        [8.2500e+00, 6.2112e-03],\n        [8.6000e+00, 2.7778e-03],\n        [7.8300e+00, 1.8116e-03]]) \n tensor([[24.8900, 15.1400],\n        [19.5800, 10.4700],\n        [16.9200,  9.9640],\n        [13.7840,  6.6900],\n        [ 9.8350,  5.9500],\n        [ 6.8800,  3.6800],\n        [ 4.1560,  0.8320],\n        [ 2.8750,  1.2400]], dtype=torch.float64)\n"
     ]
    }
   ],
   "source": [
    "inputs = torch.from_numpy(inputs)\n",
    "targets = torch.from_numpy(targets)\n",
    "\n",
    "print(inputs,\"\\n\", targets)"
   ]
  },
  {
   "cell_type": "code",
   "execution_count": 4,
   "metadata": {},
   "outputs": [
    {
     "output_type": "stream",
     "name": "stdout",
     "text": [
      "tensor([[0.4842, 0.0427],\n        [0.6786, 1.5920]], requires_grad=True) \n tensor([-0.7363, -0.6456], requires_grad=True)\n"
     ]
    }
   ],
   "source": [
    "#weights matrix\n",
    "w = torch.randn(2, 2, requires_grad=True)\n",
    "b = torch.randn(2, requires_grad=True)\n",
    "\n",
    "print(w, \"\\n\", b)"
   ]
  },
  {
   "cell_type": "code",
   "execution_count": 5,
   "metadata": {},
   "outputs": [],
   "source": [
    "def model(x):\n",
    "    return x @ w.t() + b"
   ]
  },
  {
   "cell_type": "code",
   "execution_count": 6,
   "metadata": {},
   "outputs": [
    {
     "output_type": "stream",
     "name": "stdout",
     "text": [
      "tensor([[3.7183, 6.1079],\n        [3.6744, 5.6889],\n        [3.1348, 4.8560],\n        [3.5113, 5.3419],\n        [3.5350, 5.3570],\n        [3.2588, 4.9628],\n        [3.4281, 5.1948],\n        [3.0553, 4.6708]], grad_fn=<AddBackward0>)\n"
     ]
    }
   ],
   "source": [
    "predictions = model(inputs)\n",
    "\n",
    "print(predictions)  "
   ]
  },
  {
   "cell_type": "code",
   "execution_count": 7,
   "metadata": {},
   "outputs": [],
   "source": [
    "#mean squared error\n",
    "def mse(t1, t2):\n",
    "    diff = t1 - t2\n",
    "    #error is squared and added and divided by total number of elements\n",
    "    return torch.sum(diff*diff)/diff.numel()"
   ]
  },
  {
   "cell_type": "code",
   "execution_count": 8,
   "metadata": {},
   "outputs": [
    {
     "output_type": "stream",
     "name": "stdout",
     "text": [
      "tensor(75.9565, dtype=torch.float64, grad_fn=<DivBackward0>)\n"
     ]
    }
   ],
   "source": [
    "loss = mse(predictions, targets)\n",
    "print(loss)"
   ]
  },
  {
   "cell_type": "code",
   "execution_count": 9,
   "metadata": {},
   "outputs": [],
   "source": [
    "loss.backward()"
   ]
  },
  {
   "cell_type": "code",
   "execution_count": 10,
   "metadata": {},
   "outputs": [
    {
     "output_type": "stream",
     "name": "stdout",
     "text": [
      "tensor([[0.4842, 0.0427],\n        [0.6786, 1.5920]], requires_grad=True)\ntensor([[-78.6762,  -1.2079],\n        [-13.6540,  -0.4694]])\ntensor([-0.7363, -0.6456], requires_grad=True)\ntensor([-8.9505, -1.4732])\n"
     ]
    }
   ],
   "source": [
    "print(w)\n",
    "print(w.grad)\n",
    "\n",
    "print(b)\n",
    "print(b.grad)\n"
   ]
  },
  {
   "cell_type": "code",
   "execution_count": 11,
   "metadata": {
    "tags": []
   },
   "outputs": [
    {
     "output_type": "stream",
     "name": "stdout",
     "text": [
      "tensor(75.9565, dtype=torch.float64, grad_fn=<DivBackward0>)\n",
      "tensor(69.3758, dtype=torch.float64, grad_fn=<DivBackward0>)\n",
      "tensor(64.2686, dtype=torch.float64, grad_fn=<DivBackward0>)\n",
      "tensor(59.8716, dtype=torch.float64, grad_fn=<DivBackward0>)\n",
      "tensor(56.0861, dtype=torch.float64, grad_fn=<DivBackward0>)\n",
      "tensor(52.8271, dtype=torch.float64, grad_fn=<DivBackward0>)\n",
      "tensor(50.0212, dtype=torch.float64, grad_fn=<DivBackward0>)\n",
      "tensor(47.6055, dtype=torch.float64, grad_fn=<DivBackward0>)\n",
      "tensor(45.5258, dtype=torch.float64, grad_fn=<DivBackward0>)\n",
      "tensor(43.7352, dtype=torch.float64, grad_fn=<DivBackward0>)\n",
      "tensor(42.1936, dtype=torch.float64, grad_fn=<DivBackward0>)\n",
      "tensor(40.8663, dtype=torch.float64, grad_fn=<DivBackward0>)\n",
      "tensor(39.7235, dtype=torch.float64, grad_fn=<DivBackward0>)\n",
      "tensor(38.7397, dtype=torch.float64, grad_fn=<DivBackward0>)\n",
      "tensor(37.8925, dtype=torch.float64, grad_fn=<DivBackward0>)\n",
      "tensor(37.1632, dtype=torch.float64, grad_fn=<DivBackward0>)\n",
      "tensor(36.5352, dtype=torch.float64, grad_fn=<DivBackward0>)\n",
      "tensor(35.9945, dtype=torch.float64, grad_fn=<DivBackward0>)\n",
      "tensor(35.5289, dtype=torch.float64, grad_fn=<DivBackward0>)\n",
      "tensor(35.1280, dtype=torch.float64, grad_fn=<DivBackward0>)\n",
      "tensor(34.7828, dtype=torch.float64, grad_fn=<DivBackward0>)\n",
      "tensor(34.4855, dtype=torch.float64, grad_fn=<DivBackward0>)\n",
      "tensor(34.2295, dtype=torch.float64, grad_fn=<DivBackward0>)\n",
      "tensor(34.0090, dtype=torch.float64, grad_fn=<DivBackward0>)\n",
      "tensor(33.8191, dtype=torch.float64, grad_fn=<DivBackward0>)\n",
      "tensor(33.6556, dtype=torch.float64, grad_fn=<DivBackward0>)\n",
      "tensor(33.5147, dtype=torch.float64, grad_fn=<DivBackward0>)\n",
      "tensor(33.3934, dtype=torch.float64, grad_fn=<DivBackward0>)\n",
      "tensor(33.2889, dtype=torch.float64, grad_fn=<DivBackward0>)\n",
      "tensor(33.1988, dtype=torch.float64, grad_fn=<DivBackward0>)\n",
      "tensor(33.1212, dtype=torch.float64, grad_fn=<DivBackward0>)\n",
      "tensor(33.0543, dtype=torch.float64, grad_fn=<DivBackward0>)\n",
      "tensor(32.9966, dtype=torch.float64, grad_fn=<DivBackward0>)\n",
      "tensor(32.9469, dtype=torch.float64, grad_fn=<DivBackward0>)\n",
      "tensor(32.9040, dtype=torch.float64, grad_fn=<DivBackward0>)\n",
      "tensor(32.8671, dtype=torch.float64, grad_fn=<DivBackward0>)\n",
      "tensor(32.8352, dtype=torch.float64, grad_fn=<DivBackward0>)\n",
      "tensor(32.8076, dtype=torch.float64, grad_fn=<DivBackward0>)\n",
      "tensor(32.7838, dtype=torch.float64, grad_fn=<DivBackward0>)\n",
      "tensor(32.7633, dtype=torch.float64, grad_fn=<DivBackward0>)\n",
      "tensor(32.7455, dtype=torch.float64, grad_fn=<DivBackward0>)\n",
      "tensor(32.7302, dtype=torch.float64, grad_fn=<DivBackward0>)\n",
      "tensor(32.7169, dtype=torch.float64, grad_fn=<DivBackward0>)\n",
      "tensor(32.7054, dtype=torch.float64, grad_fn=<DivBackward0>)\n",
      "tensor(32.6954, dtype=torch.float64, grad_fn=<DivBackward0>)\n",
      "tensor(32.6867, dtype=torch.float64, grad_fn=<DivBackward0>)\n",
      "tensor(32.6792, dtype=torch.float64, grad_fn=<DivBackward0>)\n",
      "tensor(32.6726, dtype=torch.float64, grad_fn=<DivBackward0>)\n",
      "tensor(32.6669, dtype=torch.float64, grad_fn=<DivBackward0>)\n",
      "tensor(32.6619, dtype=torch.float64, grad_fn=<DivBackward0>)\n",
      "tensor(32.6575, dtype=torch.float64, grad_fn=<DivBackward0>)\n",
      "tensor(32.6537, dtype=torch.float64, grad_fn=<DivBackward0>)\n",
      "tensor(32.6503, dtype=torch.float64, grad_fn=<DivBackward0>)\n",
      "tensor(32.6473, dtype=torch.float64, grad_fn=<DivBackward0>)\n",
      "tensor(32.6447, dtype=torch.float64, grad_fn=<DivBackward0>)\n",
      "tensor(32.6424, dtype=torch.float64, grad_fn=<DivBackward0>)\n",
      "tensor(32.6403, dtype=torch.float64, grad_fn=<DivBackward0>)\n",
      "tensor(32.6384, dtype=torch.float64, grad_fn=<DivBackward0>)\n",
      "tensor(32.6368, dtype=torch.float64, grad_fn=<DivBackward0>)\n",
      "tensor(32.6352, dtype=torch.float64, grad_fn=<DivBackward0>)\n"
     ]
    }
   ],
   "source": [
    "for i in range(600):\n",
    "    preds = model(inputs)\n",
    "    loss = mse(preds, targets)\n",
    "\n",
    "    if(i%10==0):\n",
    "        print(loss)\n",
    "\n",
    "    loss.backward()\n",
    "    \n",
    "    with torch.no_grad():\n",
    "        w -= w.grad * 1e-4\n",
    "        b -= b.grad * 1e-4\n",
    "        w.grad.zero_()\n",
    "        b.grad.zero_()"
   ]
  },
  {
   "cell_type": "code",
   "execution_count": 12,
   "metadata": {},
   "outputs": [
    {
     "output_type": "stream",
     "name": "stdout",
     "text": [
      "tensor([[1.5281, 0.0855],\n        [0.8601, 1.6151]], requires_grad=True)\ntensor([[13.4128,  7.7938],\n        [13.2859,  7.3568],\n        [11.5856,  6.3213],\n        [12.7751,  6.9481],\n        [12.8505,  6.9720],\n        [11.9791,  6.4742],\n        [12.5136,  6.7697],\n        [11.3370,  6.1059]], grad_fn=<AddBackward0>)\n"
     ]
    }
   ],
   "source": [
    "print(w)\n",
    "print(preds)"
   ]
  },
  {
   "cell_type": "code",
   "execution_count": 13,
   "metadata": {},
   "outputs": [
    {
     "output_type": "stream",
     "name": "stdout",
     "text": [
      "tensor([[1341282.1250,  779381.9375],\n        [1328592.2500,  735677.1250],\n        [1158558.5000,  632133.0625],\n        [1277508.3750,  694814.6875],\n        [1285046.7500,  697199.9375],\n        [1197911.8750,  647423.0625],\n        [1251362.1250,  676971.3750],\n        [1133698.8750,  610589.1875]], grad_fn=<MulBackward0>)\ntensor([[1.5281, 0.0855],\n        [0.8601, 1.6151]], requires_grad=True)\ntensor([-0.6273, -0.6315], requires_grad=True)\n"
     ]
    }
   ],
   "source": [
    "predictions = preds*100000\n",
    "print(predictions)\n",
    "\n",
    "print(w)\n",
    "print(b)"
   ]
  },
  {
   "cell_type": "code",
   "execution_count": 17,
   "metadata": {},
   "outputs": [
    {
     "output_type": "stream",
     "name": "stdout",
     "text": [
      "1219334.4\n2220799.2\n"
     ]
    }
   ],
   "source": [
    "members = (8.92 *  1.2807 + 9 *0.0855) * 100000\n",
    "users = (8.92*0.8601 +9*1.6151)*100000\n",
    "print(members)\n",
    "print(users)"
   ]
  },
  {
   "cell_type": "code",
   "execution_count": null,
   "metadata": {},
   "outputs": [],
   "source": []
  }
 ]
}
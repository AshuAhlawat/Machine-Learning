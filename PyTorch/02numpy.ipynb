{
 "metadata": {
  "language_info": {
   "codemirror_mode": {
    "name": "ipython",
    "version": 3
   },
   "file_extension": ".py",
   "mimetype": "text/x-python",
   "name": "python",
   "nbconvert_exporter": "python",
   "pygments_lexer": "ipython3",
   "version": "3.9.1"
  },
  "orig_nbformat": 4,
  "kernelspec": {
   "name": "python3",
   "display_name": "Python 3.9.1 64-bit"
  },
  "interpreter": {
   "hash": "2f97e602bf3efd1202fb41503b5059ddd336053f3958a92ca7b4a7a1e22459bb"
  }
 },
 "nbformat": 4,
 "nbformat_minor": 2,
 "cells": [
  {
   "cell_type": "code",
   "execution_count": 6,
   "metadata": {},
   "outputs": [],
   "source": [
    "import numpy as np\n",
    "import torch"
   ]
  },
  {
   "cell_type": "code",
   "execution_count": 7,
   "metadata": {},
   "outputs": [
    {
     "output_type": "stream",
     "name": "stdout",
     "text": [
      "[[[1.2 2. ]\n  [2.  4. ]\n  [4.  3. ]]\n\n [[3.  2. ]\n  [5.  1. ]\n  [4.  4. ]]]\nfloat64\n"
     ]
    }
   ],
   "source": [
    "x = np.array([\n",
    "     [[1.2,2], [2,4], [4,3]],\n",
    "     [[3,2], [5,1], [4,4]]\n",
    "    ])\n",
    "print(x)\n",
    "print(x.dtype)"
   ]
  },
  {
   "cell_type": "code",
   "execution_count": 8,
   "metadata": {},
   "outputs": [
    {
     "output_type": "stream",
     "name": "stdout",
     "text": [
      "tensor([[[1.2000, 2.0000],\n         [2.0000, 4.0000],\n         [4.0000, 3.0000]],\n\n        [[3.0000, 2.0000],\n         [5.0000, 1.0000],\n         [4.0000, 4.0000]]], dtype=torch.float64)\ntorch.float64\n"
     ]
    }
   ],
   "source": [
    "y = torch.from_numpy(x)\n",
    "print(y)\n",
    "print(y.dtype)"
   ]
  },
  {
   "cell_type": "code",
   "execution_count": 9,
   "metadata": {},
   "outputs": [
    {
     "output_type": "stream",
     "name": "stdout",
     "text": [
      "[[[1.2 2. ]\n  [2.  4. ]\n  [4.  3. ]]\n\n [[3.  2. ]\n  [5.  1. ]\n  [4.  4. ]]]\nfloat64\n"
     ]
    }
   ],
   "source": [
    "z = y.numpy()\n",
    "print(z)\n",
    "print(z.dtype)"
   ]
  }
 ]
}
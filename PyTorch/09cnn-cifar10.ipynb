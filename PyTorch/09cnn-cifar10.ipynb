{
 "cells": [
  {
   "cell_type": "code",
   "execution_count": null,
   "metadata": {},
   "outputs": [],
   "source": [
    "# DATASET download link\n",
    "# https://www.cs.toronto.edu/~kriz/cifar-10-python.tar.gz\n",
    "\n",
    "# import tarfile\n",
    "\n",
    "# with tarfile.open('/path/to/cifar10.tgz', 'r:gz') as tar:\n",
    "#     tar.extractall(path=\"./data/cifar10\")"
   ]
  },
  {
   "cell_type": "code",
   "execution_count": null,
   "metadata": {},
   "outputs": [],
   "source": [
    "\n",
    "from torchvision.datasets import ImageFolder\n",
    "from torchvision.transforms import ToTensor\n",
    "\n",
    "train_ds = ImageFolder(\"./data/cifar10/train\",transform=ToTensor())\n",
    "test_ds = ImageFolder(\"./data/cifar10/test\", transform=ToTensor())\n",
    "\n",
    "img_cls = train_ds.classes"
   ]
  },
  {
   "cell_type": "code",
   "execution_count": null,
   "metadata": {},
   "outputs": [],
   "source": [
    "from torch.utils.data.dataloader import DataLoader\n",
    "\n",
    "train_dl = DataLoader(train_ds,100,shuffle=1)\n",
    "test_dl = DataLoader(test_ds,100)"
   ]
  },
  {
   "cell_type": "code",
   "execution_count": null,
   "metadata": {},
   "outputs": [],
   "source": [
    "import torch.nn as nn\n",
    "\n",
    "class CifarModel(nn.Module):\n",
    "    def __init__(self):\n",
    "        super().__init__()\n",
    "        self.network = nn.Sequential(\n",
    "            # 3 32 32\n",
    "            nn.Conv2d(3,16,kernel_size=3,padding=1),\n",
    "            nn.ReLU(),\n",
    "            nn.MaxPool2d(2,2),\n",
    "            # 16 16 16\n",
    "            nn.Conv2d(16,32,kernel_size=3,padding=1),\n",
    "            nn.ReLU(),\n",
    "            nn.MaxPool2d(2,2),\n",
    "            # 32 8 8\n",
    "            nn.Conv2d(32,64,kernel_size=3,padding=1),\n",
    "            nn.ReLU(),\n",
    "            nn.MaxPool2d(2,2),\n",
    "            #64 4 4\n",
    "            nn.Flatten(),\n",
    "            #64*4*4\n",
    "            nn.Linear(64*4*4, 128),\n",
    "            nn.ReLU(),\n",
    "            #128\n",
    "            nn.Linear(128,10)\n",
    "            #10\n",
    "        )\n",
    "    \n",
    "    def forward(self,data):\n",
    "        out = self.network(data)\n",
    "        out = nn.Softmax(out, dim=-1)\n",
    "        \n",
    "        return out\n",
    "    \n",
    "\n"
   ]
  },
  {
   "cell_type": "code",
   "execution_count": null,
   "metadata": {},
   "outputs": [],
   "source": [
    "device = torch.device(\"cuda\" if torch.cuda.is_available() else \"cpu\")\n",
    "print(device)\n",
    "\n",
    "model = CifarModel().to(device)\n",
    "loss_fn = nn.BCELoss()\n",
    "opt = torch.optim.SGD(model.parameters(), lr = 0.001)"
   ]
  },
  {
   "cell_type": "code",
   "execution_count": null,
   "metadata": {},
   "outputs": [],
   "source": [
    "\n",
    "import numpy as np\n",
    "import torch\n",
    "\n",
    "def fit(epochs):\n",
    "    \n",
    "    for epoch in range(epochs):\n",
    "        print(\"Epoch: \",epoch)\n",
    "        \n",
    "        for images, labels in train_dl:\n",
    "            \n",
    "            targets = []\n",
    "            for label in labels:\n",
    "                x = np.zeros(len(img_cls))\n",
    "                \n",
    "                x[int(label)] = 1\n",
    "                targets.append(x.astype(np.float32))\n",
    "            \n",
    "            targets = torch.Tensor(targets)\n",
    "\n",
    "            preds = model(images.to(device))\n",
    "            \n",
    "            loss = loss_fn(preds.to(device), targets.to(device))\n",
    "            loss.backward()  \n",
    "            \n",
    "            opt.step()\n",
    "            opt.zero_grad()\n",
    "            \n",
    "        print(\"Loss: \",round(loss.item(), 4))\n",
    "        \n",
    "        with torch.no_grad():\n",
    "            correct = 0\n",
    "            for images,labels in test_dl:\n",
    "                preds = model(images.to(device))\n",
    "        \n",
    "                for i in range(len(labels)):\n",
    "                    if (round(preds[i][labels[i]].item()) == 1):\n",
    "                        correct+=1\n",
    "      \n",
    "        acc = correct/len(test_ds)\n",
    "        print(\"Accuracy: \",round(acc*100,2))               "
   ]
  },
  {
   "cell_type": "code",
   "execution_count": null,
   "metadata": {},
   "outputs": [],
   "source": [
    "\n",
    "from PIL import Image\n",
    "import matplotlib.pyplot as plt\n",
    "\n",
    "def predict(path):\n",
    "    img = Image.open(path)\n",
    "    \n",
    "    if img.size != (32,32):\n",
    "        img.resize((32,32))\n",
    "    \n",
    "    img_arr = np.asarray(img)\n",
    "    plt.imshow(img_arr)\n",
    "    \n",
    "    img_arr = img_arr/255\n",
    "    img_tsr = torch.Tensor([img_arr])\n",
    "    img_tsr = img_tsr.permute(0,3,2,1)\n",
    "    \n",
    "    pred = model(img_tsr)\n",
    "    pred = np.array(pred[0])\n",
    "    pred_index = np.where(pred==max(pred))[0][0]\n",
    "    \n",
    "    print(\"Prediction: \",img_cls[pred_index])\n",
    "    \n",
    "    "
   ]
  }
 ],
 "metadata": {
  "interpreter": {
   "hash": "916dbcbb3f70747c44a77c7bcd40155683ae19c65e1c03b4aa3499c5328201f1"
  },
  "kernelspec": {
   "display_name": "Python 3.9.7 64-bit",
   "name": "python3"
  },
  "language_info": {
   "codemirror_mode": {
    "name": "ipython",
    "version": 3
   },
   "file_extension": ".py",
   "mimetype": "text/x-python",
   "name": "python",
   "nbconvert_exporter": "python",
   "pygments_lexer": "ipython3",
   "version": "3.9.7"
  },
  "orig_nbformat": 4
 },
 "nbformat": 4,
 "nbformat_minor": 2
}

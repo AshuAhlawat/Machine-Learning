{
 "cells": [
  {
   "cell_type": "code",
   "execution_count": 2,
   "source": [
    "\r\n",
    "from torchvision.datasets import ImageFolder\r\n",
    "from torchvision.transforms import ToTensor\r\n",
    "\r\n",
    "train_ds = ImageFolder(\"./data/cifar10/train\",transform=ToTensor())\r\n",
    "test_ds = ImageFolder(\"./data/cifar10/test\", transform=ToTensor())\r\n",
    "\r\n",
    "img_cls = train_ds.classes"
   ],
   "outputs": [
    {
     "output_type": "stream",
     "name": "stdout",
     "text": [
      "['airplane', 'automobile', 'bird', 'cat', 'deer', 'dog', 'frog', 'horse', 'ship', 'truck']\n"
     ]
    }
   ],
   "metadata": {}
  },
  {
   "cell_type": "code",
   "execution_count": 2,
   "source": [
    "from torch.utils.data.dataloader import DataLoader\r\n",
    "\r\n",
    "train_dl = DataLoader(train_ds,100,shuffle=1)\r\n",
    "test_dl = DataLoader(test_ds,100)"
   ],
   "outputs": [],
   "metadata": {}
  },
  {
   "cell_type": "code",
   "execution_count": 3,
   "source": [
    "import torch.nn as nn\r\n",
    "\r\n",
    "class CifarModel(nn.Module):\r\n",
    "    def __init__(self):\r\n",
    "        super().__init__()\r\n",
    "        self.network = nn.Sequential(\r\n",
    "            # 3 32 32\r\n",
    "            nn.Conv2d(3,16,kernel_size=3,padding=1),\r\n",
    "            nn.ReLU(),\r\n",
    "            nn.MaxPool2d(2,2),\r\n",
    "            # 16 16 16\r\n",
    "            nn.Conv2d(16,32,kernel_size=3,padding=1),\r\n",
    "            nn.ReLU(),\r\n",
    "            nn.MaxPool2d(2,2),\r\n",
    "            # 32 8 8\r\n",
    "            nn.Conv2d(32,64,kernel_size=3,padding=1),\r\n",
    "            nn.ReLU(),\r\n",
    "            nn.MaxPool2d(2,2),\r\n",
    "            #64 4 4\r\n",
    "            nn.Flatten(),\r\n",
    "            #64*4*4\r\n",
    "            nn.Linear(64*4*4, 128),\r\n",
    "            nn.ReLU(),\r\n",
    "            #128\r\n",
    "            nn.Linear(128,10)\r\n",
    "            #10\r\n",
    "        )\r\n",
    "    \r\n",
    "    def forward(self,data):\r\n",
    "        out = self.network(data)\r\n",
    "        out = nn.Softmax(out, dim=-1)\r\n",
    "        \r\n",
    "        return out\r\n",
    "    \r\n",
    "\r\n"
   ],
   "outputs": [],
   "metadata": {}
  },
  {
   "cell_type": "code",
   "execution_count": null,
   "source": [
    "device = torch.device(\"cuda\" if torch.cuda.is_available() else \"cpu\")\r\n",
    "print(device)\r\n",
    "\r\n",
    "model = CifarModel().to(device)\r\n",
    "loss_fn = nn.BCELoss()\r\n",
    "opt = torch.optim.SGD(model.parameters(), lr = 0.001)"
   ],
   "outputs": [],
   "metadata": {}
  },
  {
   "cell_type": "code",
   "execution_count": null,
   "source": [
    "\r\n",
    "import numpy as np\r\n",
    "import torch\r\n",
    "\r\n",
    "def fit(epochs):\r\n",
    "    \r\n",
    "    for epoch in range(epochs):\r\n",
    "        print(\"Epoch: \",epoch)\r\n",
    "        \r\n",
    "        for images, labels in train_dl:\r\n",
    "            \r\n",
    "            targets = []\r\n",
    "            for label in labels:\r\n",
    "                x = np.zeros(len(img_cls))\r\n",
    "                \r\n",
    "                x[int(label)] = 1\r\n",
    "                targets.append(x.astype(np.float32))\r\n",
    "            \r\n",
    "            targets = torch.Tensor(targets)\r\n",
    "\r\n",
    "            preds = model(images.to(device))\r\n",
    "            \r\n",
    "            loss = loss_fn(preds.to(device), targets.to(device))\r\n",
    "            loss.backward()  \r\n",
    "            \r\n",
    "            opt.step()\r\n",
    "            opt.zero_grad()\r\n",
    "            \r\n",
    "        print(\"Loss: \",round(loss.item(), 4))\r\n",
    "        \r\n",
    "        with torch.no_grad():\r\n",
    "            correct = 0\r\n",
    "            for images,labels in test_dl:\r\n",
    "                preds = model(images.to(device))\r\n",
    "        \r\n",
    "                for i in range(len(labels)):\r\n",
    "                    if (round(preds[i][labels[i]].item()) == 1):\r\n",
    "                        correct+=1\r\n",
    "      \r\n",
    "        acc = correct/len(test_ds)\r\n",
    "        print(\"Accuracy: \",round(acc*100,2))               "
   ],
   "outputs": [],
   "metadata": {}
  },
  {
   "cell_type": "code",
   "execution_count": null,
   "source": [
    "\r\n",
    "from PIL import Image\r\n",
    "import matplotlib.pyplot as plt\r\n",
    "\r\n",
    "def predict(path):\r\n",
    "    img = Image.open(path)\r\n",
    "    \r\n",
    "    if img.size != (32,32):\r\n",
    "        img.resize((32,32))\r\n",
    "    \r\n",
    "    img_arr = np.asarray(img)\r\n",
    "    plt.imshow(img_arr)\r\n",
    "    \r\n",
    "    img_arr = img_arr/255\r\n",
    "    img_tsr = torch.Tensor([img_arr])\r\n",
    "    img_tsr = img_tsr.permute(0,3,2,1)\r\n",
    "    \r\n",
    "    pred = model(img_tsr)\r\n",
    "    pred = np.array(pred[0])\r\n",
    "    pred_index = np.where(pred==max(pred))[0][0]\r\n",
    "    \r\n",
    "    print(\"Prediction: \",img_cls[pred_index])\r\n",
    "    \r\n",
    "    "
   ],
   "outputs": [],
   "metadata": {}
  }
 ],
 "metadata": {
  "orig_nbformat": 4,
  "language_info": {
   "name": "python",
   "version": "3.9.1",
   "mimetype": "text/x-python",
   "codemirror_mode": {
    "name": "ipython",
    "version": 3
   },
   "pygments_lexer": "ipython3",
   "nbconvert_exporter": "python",
   "file_extension": ".py"
  },
  "kernelspec": {
   "name": "python3",
   "display_name": "Python 3.9.1 64-bit"
  },
  "interpreter": {
   "hash": "2f97e602bf3efd1202fb41503b5059ddd336053f3958a92ca7b4a7a1e22459bb"
  }
 },
 "nbformat": 4,
 "nbformat_minor": 2
}
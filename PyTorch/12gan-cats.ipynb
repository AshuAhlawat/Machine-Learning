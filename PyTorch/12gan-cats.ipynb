{
  "cells": [
    {
      "cell_type": "code",
      "execution_count": 2,
      "metadata": {
        "id": "CKlaxSIYF-_a"
      },
      "outputs": [],
      "source": [
        "# Colab training\n",
        "\n",
        "# from google.colab import drive\n",
        "# drive.mount(\"/content/drive\")\n",
        "\n",
        "# import zipfile\n",
        "# with zipfile.ZipFile(\"./drive/MyDrive/cats.zip\") as f:\n",
        "#   f.extractall(\"./data\")"
      ]
    },
    {
      "cell_type": "code",
      "execution_count": 3,
      "metadata": {
        "id": "80y237I5F9J2"
      },
      "outputs": [],
      "source": [
        "# torchvision imports\n",
        "from torchvision.datasets import ImageFolder\n",
        "import torchvision.transforms as tt\n",
        "from torchvision.utils import save_image\n",
        "# torch imports\n",
        "import torch\n",
        "import torch.nn as nn\n",
        "from torch.utils.data import DataLoader"
      ]
    },
    {
      "cell_type": "code",
      "execution_count": 4,
      "metadata": {
        "id": "iS_aVpuwF9J9"
      },
      "outputs": [],
      "source": [
        "# CONSTANTS\n",
        "\n",
        "ROOT = \"./data/cats/train\"\n",
        "BATCH_SIZE = 100\n",
        "LATENT_SIZE = 100\n",
        "#calculated using ./normalizer.py over the whole cats dataset\n",
        "MEAN = (0.4819, 0.4325, 0.3845)\n",
        "DEVIATION = (0.2602, 0.2519, 0.2537)"
      ]
    },
    {
      "cell_type": "code",
      "execution_count": 5,
      "metadata": {
        "id": "4DE4cgtWF9J_"
      },
      "outputs": [],
      "source": [
        "# simple normalized transforms \n",
        "tfms = tt.Compose([\n",
        "    tt.ToTensor(),\n",
        "    tt.Normalize(MEAN,DEVIATION)\n",
        "])\n",
        "\n",
        "#creating dataloader\n",
        "train_ds = ImageFolder(ROOT,transform=tfms)\n",
        "train_dl = DataLoader(train_ds,BATCH_SIZE,num_workers= 2,pin_memory=True)"
      ]
    },
    {
      "cell_type": "code",
      "execution_count": 6,
      "metadata": {
        "colab": {
          "base_uri": "https://localhost:8080/"
        },
        "id": "5WuVdVLAF9KB",
        "outputId": "3a128390-724b-4639-bd95-6405a4f54502"
      },
      "outputs": [
        {
          "name": "stdout",
          "output_type": "stream",
          "text": [
            "cpu\n"
          ]
        }
      ],
      "source": [
        "#setting device\n",
        "device = torch.device('cuda' if torch.cuda.is_available() else 'cpu')\n",
        "print(device)"
      ]
    },
    {
      "cell_type": "code",
      "execution_count": 7,
      "metadata": {
        "id": "0KhbJL2_F9KG"
      },
      "outputs": [],
      "source": [
        "#Discriminator model simple 4 layer doubled\n",
        "D = nn.Sequential(\n",
        "    nn.Conv2d(3,60,4,2,1),#60 32 32\n",
        "    nn.BatchNorm2d(60),\n",
        "    nn.LeakyReLU(0.2),\n",
        "\n",
        "    nn.Conv2d(60,120,4,2,1),#120 16 16\n",
        "    nn.BatchNorm2d(120),\n",
        "    nn.LeakyReLU(0.2),\n",
        "\n",
        "    nn.Conv2d(120,250,4,2,1),#250 8 8\n",
        "    nn.BatchNorm2d(250),\n",
        "    nn.LeakyReLU(0.2),\n",
        "    \n",
        "    nn.Conv2d(250,500,4,2,1),#500 4 4\n",
        "    nn.BatchNorm2d(500),\n",
        "    nn.LeakyReLU(0.2),\n",
        "\n",
        "    nn.AdaptiveAvgPool2d(1),#500 1 1\n",
        "    nn.Flatten(),#500*1*1\n",
        "\n",
        "    nn.Linear(500,25),#25\n",
        "    nn.LeakyReLU(0.2),\n",
        "    nn.Linear(25,1),#1\n",
        "\n",
        "    nn.Sigmoid()#converted into probablity\n",
        ").to(device)\n",
        "\n",
        "#Generator model - inverse of Discriminator\n",
        "G = nn.Sequential(\n",
        "    nn.ConvTranspose2d(LATENT_SIZE,600,4,1,0),#600 4 \n",
        "    nn.BatchNorm2d(600),\n",
        "    nn.ReLU(),\n",
        "    nn.ConvTranspose2d(600,300,4,2,1),#300 8\n",
        "    nn.BatchNorm2d(300),\n",
        "    nn.ReLU(),\n",
        "    nn.ConvTranspose2d(300,150,4,2,1),#150 16\n",
        "    nn.BatchNorm2d(150),\n",
        "    nn.ReLU(),\n",
        "    nn.ConvTranspose2d(150,50,4,2,1),#60 32\n",
        "    nn.BatchNorm2d(50),\n",
        "    nn.ReLU(),\n",
        "    nn.ConvTranspose2d(50,3,4,2,1),#3 64\n",
        "    nn.Tanh()\n",
        ").to(device)"
      ]
    },
    {
      "cell_type": "code",
      "execution_count": 8,
      "metadata": {
        "id": "FGT8pvYlF9KI"
      },
      "outputs": [],
      "source": [
        "#using Binary cross entropy loss function\n",
        "loss_fn = nn.BCELoss()\n",
        "\n",
        "#setting discriminator learning rate less to give generator a head start\n",
        "d_opt = torch.optim.Adam(D.parameters(), lr=0.00001)\n",
        "g_opt = torch.optim.Adam(G.parameters(), lr=0.0001)"
      ]
    },
    {
      "cell_type": "code",
      "execution_count": 9,
      "metadata": {
        "id": "RIe2v7TGF9KK"
      },
      "outputs": [],
      "source": [
        "#declaring labels used to calculate loss by comparing against preds\n",
        "real_labels = torch.ones(BATCH_SIZE,1).to(device)\n",
        "fake_labels = torch.zeros(BATCH_SIZE,1).to(device)\n",
        "\n",
        "#Disciminator Function training\n",
        "def d_fit(real_images):\n",
        "    d_opt.zero_grad()\n",
        "\n",
        "    real_images = real_images.to(device)\n",
        "\n",
        "    #calculating loss on real images\n",
        "    real_preds = D(real_images)\n",
        "    real_loss = loss_fn(real_preds,real_labels)\n",
        "    \n",
        "    #calculating loss on real images \n",
        "    fake_images = G(torch.randn(BATCH_SIZE,LATENT_SIZE,1,1).to(device))\n",
        "    fake_preds = D(fake_images)\n",
        "    fake_loss = loss_fn(fake_preds,fake_labels)\n",
        "\n",
        "    #doing gradient descent on both losses\n",
        "    d_loss = real_loss + fake_loss\n",
        "    d_loss.backward()\n",
        "\n",
        "    d_opt.step()\n",
        "\n",
        "    #returning average probablies of the batch on both real and fake images \n",
        "    return d_loss,real_preds.mean().item(),fake_preds.mean().item()"
      ]
    },
    {
      "cell_type": "code",
      "execution_count": 10,
      "metadata": {
        "id": "CnvXOjehF9KL"
      },
      "outputs": [],
      "source": [
        "#Generator Model training function\n",
        "def g_fit():\n",
        "    g_opt.zero_grad()\n",
        "\n",
        "    #generating fake images and comparing the probality of them from discriminator to real labels\n",
        "    fake_images = G(torch.randn(BATCH_SIZE,LATENT_SIZE,1,1).to(device))\n",
        "    g_loss = loss_fn(D(fake_images), real_labels)\n",
        "\n",
        "    #optimizing for better Generator\n",
        "    g_loss.backward()\n",
        "\n",
        "    g_opt.step()\n",
        "\n",
        "    return g_loss"
      ]
    },
    {
      "cell_type": "code",
      "execution_count": 11,
      "metadata": {
        "id": "WMSPLiLhF9KM"
      },
      "outputs": [],
      "source": [
        "# random tensor to be used for refrence of images being generated per epoch\n",
        "gen = torch.randn(36,LATENT_SIZE,1,1).to(device)\n",
        "\n",
        "def save_fake_image(num):\n",
        "    images = G(gen)\n",
        "\n",
        "    #denormalizing generated images\n",
        "    for i in range(len(images)):\n",
        "        images[i][0]=images[i][0]*0.2602+0.4819\n",
        "        images[i][1]=images[i][1]*0.2519+0.4325\n",
        "        images[i][2]=images[i][2]*0.2537+0.3845\n",
        "\n",
        "    #saving images to make progess VIDEO\n",
        "    save_image(images,\"./data/MyDrive/cat_gan/epoch_\"+str(num)+\".png\",nrow=6)\n",
        "\n",
        "# save_fake_image(0)"
      ]
    },
    {
      "cell_type": "code",
      "execution_count": 12,
      "metadata": {
        "colab": {
          "base_uri": "https://localhost:8080/"
        },
        "id": "uRQnyxiRF9KO",
        "outputId": "65c2e1a9-d336-4178-f56c-24879f8aa271"
      },
      "outputs": [],
      "source": [
        "# main training fit funcion to train both D,G alternatively\n",
        "def fit(epochs):\n",
        "\n",
        "    for epoch in range(epochs):\n",
        "        print(\"Epoch: \", epoch+1)\n",
        "        \n",
        "        for images,_ in train_dl:\n",
        "            #condition to avoid error in case of last batch not being 100\n",
        "            if images.shape[0]==100:\n",
        "                d_loss,real_prob,fake_prob = d_fit(images)\n",
        "                g_loss = g_fit()\n",
        "            \n",
        "            #condition to give Generator a boost if its lagging behind\n",
        "            if real_prob >0.75:\n",
        "                g_loss = g_fit()\n",
        "\n",
        "        print(\"Real Pred: \",round(real_prob,4),\"Fake Pred: \",round(fake_prob,4))\n",
        "        print(\"D Loss: \",round(d_loss.item(),4),\"G Loss: \",round(g_loss.item(),4))\n",
        "\n",
        "        #saving images per epoch\n",
        "        with torch.no_grad():\n",
        "            save_fake_image(epoch+1)\n",
        "\n",
        "# trained 300 epoch on Colab\n",
        "# fit(300)"
      ]
    },
    {
      "cell_type": "code",
      "execution_count": 13,
      "metadata": {
        "id": "tic45SkrCh6J"
      },
      "outputs": [
        {
          "data": {
            "text/plain": [
              "<All keys matched successfully>"
            ]
          },
          "execution_count": 13,
          "metadata": {},
          "output_type": "execute_result"
        }
      ],
      "source": [
        "# torch.save(G.state_dict(),\"./drive/MyDrive/cat_model/CatGan.pth\")\n",
        "\n",
        "# Loading prior trained generator model\n",
        "G.load_state_dict(torch.load(\"./saved_models/CatGan.pth\", map_location=device))"
      ]
    },
    {
      "cell_type": "code",
      "execution_count": 20,
      "metadata": {},
      "outputs": [],
      "source": [
        "#final random cat images generating function\n",
        "def generate():\n",
        "    #random images every call\n",
        "    images = G(torch.randn(36,LATENT_SIZE,1,1).to(device))\n",
        "\n",
        "    #denorming\n",
        "    for i in range(len(images)):\n",
        "        images[i][0]=images[i][0]*0.2602+0.4819\n",
        "        images[i][1]=images[i][1]*0.2519+0.4325\n",
        "        images[i][2]=images[i][2]*0.2537+0.3845\n",
        "\n",
        "    #saving image to view\n",
        "    save_image(images,\"./data/cats/sample_gen.png\",nrow=6)\n",
        "\n",
        "generate()"
      ]
    }
  ],
  "metadata": {
    "accelerator": "GPU",
    "colab": {
      "collapsed_sections": [],
      "name": "12gan-cats.ipynb",
      "provenance": []
    },
    "interpreter": {
      "hash": "916dbcbb3f70747c44a77c7bcd40155683ae19c65e1c03b4aa3499c5328201f1"
    },
    "kernelspec": {
      "display_name": "Python 3.9.7 64-bit",
      "name": "python3"
    },
    "language_info": {
      "codemirror_mode": {
        "name": "ipython",
        "version": 3
      },
      "file_extension": ".py",
      "mimetype": "text/x-python",
      "name": "python",
      "nbconvert_exporter": "python",
      "pygments_lexer": "ipython3",
      "version": "3.9.7"
    },
    "orig_nbformat": 4
  },
  "nbformat": 4,
  "nbformat_minor": 0
}

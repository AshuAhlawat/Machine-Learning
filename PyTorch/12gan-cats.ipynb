{
 "cells": [
  {
   "cell_type": "code",
   "execution_count": 56,
   "source": [
    "from torchvision.datasets import ImageFolder\n",
    "import torchvision.transforms as tt\n",
    "from torchvision.utils import save_image\n",
    "import torch\n",
    "import torch.nn as nn\n",
    "from torch.utils.data import DataLoader"
   ],
   "outputs": [],
   "metadata": {}
  },
  {
   "cell_type": "code",
   "execution_count": 57,
   "source": [
    "ROOT = \"./data/cats/train\"\n",
    "BATCH_SIZE = 200\n",
    "LATENT_SIZE = 100\n",
    "TFMS = tt.Compose([\n",
    "    tt.ToTensor(),\n",
    "    tt.Normalize((0.4819, 0.4325, 0.3845),(0.2602, 0.2519, 0.2537))\n",
    "])"
   ],
   "outputs": [],
   "metadata": {}
  },
  {
   "cell_type": "code",
   "execution_count": 58,
   "source": [
    "train_ds = ImageFolder(ROOT,transform=TFMS)\n",
    "train_dl = DataLoader(train_ds,BATCH_SIZE,num_workers= 4,pin_memory=True)"
   ],
   "outputs": [],
   "metadata": {}
  },
  {
   "cell_type": "code",
   "execution_count": 59,
   "source": [
    "device = torch.device('cuda' if torch.cuda.is_available() else 'cpu')\n",
    "print(device)"
   ],
   "outputs": [
    {
     "output_type": "stream",
     "name": "stdout",
     "text": [
      "cpu\n"
     ]
    }
   ],
   "metadata": {}
  },
  {
   "cell_type": "code",
   "execution_count": 60,
   "source": [
    "D = nn.Sequential(\n",
    "    nn.Conv2d(3,15,3,1,1),#15 64 64\n",
    "    nn.BatchNorm2d(15),\n",
    "    nn.LeakyReLU(0.2),\n",
    "\n",
    "    nn.Conv2d(15,45,3,2,1),#45 32 32\n",
    "    nn.BatchNorm2d(45),\n",
    "    nn.LeakyReLU(0.2),\n",
    "    # nn.Conv2d(45,45,3,1,1),\n",
    "    # nn.LeakyReLU(0.2),\n",
    "\n",
    "    nn.Conv2d(45,135,3,2,1),#135 16 16\n",
    "    nn.BatchNorm2d(135),\n",
    "    nn.LeakyReLU(0.2),\n",
    "    # nn.Conv2d(135,135,3,1,1),\n",
    "    # nn.LeakyReLU(0.2),\n",
    "\n",
    "    nn.Conv2d(135,270,3,2,1),#270 8 8\n",
    "    nn.BatchNorm2d(270),\n",
    "    nn.LeakyReLU(0.2),\n",
    "    # nn.Conv2d(270,270,3,1,1),\n",
    "    # nn.LeakyRelU(0.2),\n",
    "    \n",
    "    nn.Conv2d(270,450,3,2,1),#450 4 4\n",
    "    nn.BatchNorm2d(450),\n",
    "    nn.LeakyReLU(0.2),\n",
    "\n",
    "    nn.AdaptiveAvgPool2d(1),#450 1 1\n",
    "    nn.Flatten(),\n",
    "\n",
    "    nn.Linear(450,25),\n",
    "    nn.LeakyReLU(0.2),\n",
    "    nn.Linear(25,1),\n",
    "\n",
    "    nn.Sigmoid()\n",
    ").to(device)\n",
    "\n",
    "G = nn.Sequential(\n",
    "    nn.BatchNorm2d(LATENT_SIZE),\n",
    "    nn.ConvTranspose2d(LATENT_SIZE,400,4,2,1),#400 2 2\n",
    "    nn.BatchNorm2d(400),\n",
    "    nn.ReLU(),\n",
    "    nn.ConvTranspose2d(400,200,4,2,1),#200 4 4\n",
    "    nn.BatchNorm2d(200),\n",
    "    nn.ReLU(),\n",
    "    nn.ConvTranspose2d(200,100,4,2,1),#100 8 8\n",
    "    nn.BatchNorm2d(100),\n",
    "    nn.ReLU(),\n",
    "    nn.ConvTranspose2d(100,50,4,2,1),#50 16 16\n",
    "    nn.BatchNorm2d(50),\n",
    "    nn.ReLU(),\n",
    "    nn.ConvTranspose2d(50,15,4,2,1),#15 32 32\n",
    "    nn.BatchNorm2d(15),\n",
    "    nn.ReLU(),\n",
    "    nn.ConvTranspose2d(15,3,4,2,1),#3 64 64\n",
    "    nn.Tanh()\n",
    ").to(device)"
   ],
   "outputs": [],
   "metadata": {}
  },
  {
   "cell_type": "code",
   "execution_count": 61,
   "source": [
    "loss_fn = nn.BCELoss()\n",
    "\n",
    "d_opt = torch.optim.Adam(D.parameters(), lr=0.0001)\n",
    "g_opt = torch.optim.Adam(G.parameters(), lr=0.0001)"
   ],
   "outputs": [],
   "metadata": {}
  },
  {
   "cell_type": "code",
   "execution_count": 62,
   "source": [
    "real_labels = torch.ones(BATCH_SIZE,1).to(device)\n",
    "fake_labels = torch.zeros(BATCH_SIZE,1).to(device)\n",
    "\n",
    "def d_fit(real_images):\n",
    "    real_images = real_images.to(device)\n",
    "\n",
    "    real_preds = D(real_images)\n",
    "    real_loss = loss_fn(real_preds,real_labels)\n",
    "    \n",
    "    fake_images = G(torch.randn(BATCH_SIZE,LATENT_SIZE,1,1).to(device))\n",
    "\n",
    "    fake_preds = D(fake_images)\n",
    "    fake_loss = loss_fn(fake_preds,fake_labels)\n",
    "\n",
    "    d_loss = real_loss + fake_loss\n",
    "\n",
    "    d_loss.backward()\n",
    "\n",
    "    d_opt.step()\n",
    "    d_opt.zero_grad()\n",
    "\n",
    "    return d_loss,real_preds,fake_preds"
   ],
   "outputs": [],
   "metadata": {}
  },
  {
   "cell_type": "code",
   "execution_count": 63,
   "source": [
    "def g_fit():\n",
    "\n",
    "    fake_images = G(torch.randn(BATCH_SIZE,LATENT_SIZE,1,1).to(device))\n",
    "    g_loss = loss_fn(D(fake_images), real_labels)\n",
    "\n",
    "    g_loss.backward()\n",
    "\n",
    "    g_opt.step()\n",
    "    g_opt.zero_grad()\n",
    "\n",
    "    return g_loss"
   ],
   "outputs": [],
   "metadata": {}
  },
  {
   "cell_type": "code",
   "execution_count": 64,
   "source": [
    "gen = torch.randn(36,LATENT_SIZE,1,1).to(device)\n",
    "\n",
    "def save_fake_image(num):\n",
    "    images = G(gen)\n",
    "\n",
    "    for i in range(len(images)):\n",
    "        images[i][0]=images[i][0]*0.2602+0.4819\n",
    "        images[i][1]=images[i][1]*0.2519+0.4325\n",
    "        images[i][2]=images[i][2]*0.2537+0.3845\n",
    "\n",
    "    save_image(images,\"./data/cats/gans_data/epoch_\"+str(num)+\".png\",nrow=6)\n",
    "\n",
    "save_fake_image(0)"
   ],
   "outputs": [],
   "metadata": {}
  },
  {
   "cell_type": "code",
   "execution_count": 65,
   "source": [
    "epochs = 5\n",
    "\n",
    "\n",
    "for epoch in range(epochs):\n",
    "    print(\"Epoch: \", epoch+1)\n",
    "    for images,_ in train_dl:\n",
    "        d_loss,real_preds,fake_preds = d_fit(images)\n",
    "        g_loss = g_fit()\n",
    "\n",
    "    print(real_preds.mean().item(),fake_preds.mean().item())\n",
    "    \n",
    "    with torch.no_grad():\n",
    "        save_fake_image(epoch+1)"
   ],
   "outputs": [
    {
     "output_type": "stream",
     "name": "stdout",
     "text": [
      "Epoch:  1\n"
     ]
    }
   ],
   "metadata": {}
  }
 ],
 "metadata": {
  "orig_nbformat": 4,
  "language_info": {
   "name": "python",
   "version": "3.8.10",
   "mimetype": "text/x-python",
   "codemirror_mode": {
    "name": "ipython",
    "version": 3
   },
   "pygments_lexer": "ipython3",
   "nbconvert_exporter": "python",
   "file_extension": ".py"
  },
  "kernelspec": {
   "name": "python3",
   "display_name": "Python 3.8.10 64-bit"
  },
  "interpreter": {
   "hash": "916dbcbb3f70747c44a77c7bcd40155683ae19c65e1c03b4aa3499c5328201f1"
  }
 },
 "nbformat": 4,
 "nbformat_minor": 2
}
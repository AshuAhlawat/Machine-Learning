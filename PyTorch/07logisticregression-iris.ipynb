{
 "cells": [
  {
   "cell_type": "code",
   "execution_count": 404,
   "source": [
    "import pandas as pd\r\n",
    "import numpy as np\r\n",
    "\r\n",
    "from sklearn.model_selection import train_test_split\r\n",
    "from sklearn.preprocessing import StandardScaler\r\n",
    "\r\n",
    "import torch"
   ],
   "outputs": [],
   "metadata": {}
  },
  {
   "cell_type": "code",
   "execution_count": 405,
   "source": [
    "inputs = pd.read_csv(\"iris.csv\")\r\n",
    "inputs.pop(\"Id\")\r\n",
    "\r\n",
    "targets = inputs.pop(\"Species\")\r\n",
    "\r\n",
    "inputs = np.array(inputs)\r\n",
    "targets = np.array(targets)\r\n",
    "\r\n",
    "new_targets = []\r\n",
    "\r\n",
    "for _ in range(len(targets)):\r\n",
    "    if targets[_]==\"Iris-setosa\":\r\n",
    "        new_targets.append([1,0,0])\r\n",
    "    elif targets[_]==\"Iris-versicolor\":\r\n",
    "        new_targets.append([0,1,0])\r\n",
    "    else:\r\n",
    "        new_targets.append([0,0,1])\r\n",
    "        \r\n",
    "targets = np.array(new_targets)\r\n",
    "\r\n",
    "print(targets.shape)\r\n"
   ],
   "outputs": [
    {
     "output_type": "stream",
     "name": "stdout",
     "text": [
      "(150, 3)\n"
     ]
    }
   ],
   "metadata": {}
  },
  {
   "cell_type": "code",
   "execution_count": 406,
   "source": [
    "inputs_train, inputs_test, targets_train, targets_test = train_test_split(inputs, targets, test_size= 0.33)\r\n",
    "\r\n",
    "print(inputs_train.shape, targets_train.shape)\r\n"
   ],
   "outputs": [
    {
     "output_type": "stream",
     "name": "stdout",
     "text": [
      "(100, 4) (100, 3)\n"
     ]
    }
   ],
   "metadata": {}
  },
  {
   "cell_type": "code",
   "execution_count": 407,
   "source": [
    "inputs_train = StandardScaler().fit_transform(inputs_train)\r\n",
    "inputs_test = StandardScaler().fit_transform(inputs_test)"
   ],
   "outputs": [],
   "metadata": {}
  },
  {
   "cell_type": "code",
   "execution_count": 408,
   "source": [
    "inputs_train = torch.from_numpy(inputs_train.astype(np.float32)) \r\n",
    "inputs_test = torch.from_numpy(inputs_test.astype(np.float32)) \r\n",
    "targets_train = torch.from_numpy(targets_train.astype(np.float32)) \r\n",
    "targets_test = torch.from_numpy(targets_test.astype(np.float32)) "
   ],
   "outputs": [],
   "metadata": {}
  },
  {
   "cell_type": "code",
   "execution_count": 409,
   "source": [
    "class IrisModel(torch.nn.Module):\r\n",
    "    def __init__(self,input_dim, output_dim):\r\n",
    "        super().__init__()\r\n",
    "        self.linear = torch.nn.Linear(input_dim, output_dim)\r\n",
    "    \r\n",
    "    def forward(self, inputs):\r\n",
    "        targets_pred = torch.softmax(self.linear(inputs),dim=1) \r\n",
    "        return targets_pred\r\n",
    "        "
   ],
   "outputs": [],
   "metadata": {}
  },
  {
   "cell_type": "code",
   "execution_count": 410,
   "source": [
    "#pipeline\r\n",
    "\r\n",
    "logistic_model = IrisModel(4,3)\r\n",
    "\r\n",
    "loss_fn = torch.nn.BCELoss()\r\n",
    "\r\n",
    "opt = torch.optim.SGD(logistic_model.parameters(), lr=1e-2)"
   ],
   "outputs": [],
   "metadata": {}
  },
  {
   "cell_type": "code",
   "execution_count": 411,
   "source": [
    "epochs = 1000\r\n",
    "\r\n",
    "for epoch in range(epochs):\r\n",
    "    targets_pred = logistic_model(inputs_train)\r\n",
    "    \r\n",
    "    loss = loss_fn(targets_pred, targets_train)\r\n",
    "    \r\n",
    "    loss.backward()\r\n",
    "    \r\n",
    "    opt.step()\r\n",
    "    opt.zero_grad()\r\n",
    "    \r\n",
    "    if (epoch+1)%10 == 0:\r\n",
    "        print(\"Epoch: \", epoch+1, \"  Loss: \", loss.item())\r\n",
    "        \r\n",
    "        with torch.no_grad():\r\n",
    "            targets_test_pred = logistic_model(inputs_test)\r\n",
    "            targets_test_cls = targets_test_pred.detach().clone()\r\n",
    "            for i in range(len(targets_test_cls)):\r\n",
    "                for j in range(len(targets_test_cls[i])):\r\n",
    "                    if targets_test_cls[i][j] == max(targets_test_cls[i]):\r\n",
    "                        targets_test_cls[i][j] = 1\r\n",
    "                    else:\r\n",
    "                        targets_test_cls[i][j] = 0\r\n",
    "            \r\n",
    "            targets_test_temp = targets_test.detach().clone()\r\n",
    "            \r\n",
    "        \r\n",
    "            \r\n",
    "            correct = 0.0\r\n",
    "            \r\n",
    "            for i in range(len(targets_test_temp)):\r\n",
    "                if targets_test_temp[i].eq(targets_test_cls[i]).sum()==3:\r\n",
    "                    correct += 1\r\n",
    "            \r\n",
    "            acc = correct/len(targets_test)\r\n",
    "            \r\n",
    "            print(acc)                        \r\n",
    "                               \r\n",
    "            \r\n",
    "            \r\n",
    "            \r\n",
    "            "
   ],
   "outputs": [
    {
     "output_type": "stream",
     "name": "stdout",
     "text": [
      "Epoch:  10   Loss:  0.5604709982872009\n",
      "0.24\n",
      "Epoch:  20   Loss:  0.5411829352378845\n",
      "0.26\n",
      "Epoch:  30   Loss:  0.5233309864997864\n",
      "0.28\n",
      "Epoch:  40   Loss:  0.5067867636680603\n",
      "0.3\n",
      "Epoch:  50   Loss:  0.4914374351501465\n",
      "0.38\n",
      "Epoch:  60   Loss:  0.477183073759079\n",
      "0.46\n",
      "Epoch:  70   Loss:  0.4639344811439514\n",
      "0.48\n",
      "Epoch:  80   Loss:  0.45161107182502747\n",
      "0.48\n",
      "Epoch:  90   Loss:  0.4401394724845886\n",
      "0.5\n",
      "Epoch:  100   Loss:  0.4294525682926178\n",
      "0.52\n",
      "Epoch:  110   Loss:  0.41948869824409485\n",
      "0.52\n",
      "Epoch:  120   Loss:  0.41019099950790405\n",
      "0.52\n",
      "Epoch:  130   Loss:  0.40150681138038635\n",
      "0.52\n",
      "Epoch:  140   Loss:  0.39338764548301697\n",
      "0.52\n",
      "Epoch:  150   Loss:  0.3857887089252472\n",
      "0.52\n",
      "Epoch:  160   Loss:  0.3786686062812805\n",
      "0.52\n",
      "Epoch:  170   Loss:  0.37198925018310547\n",
      "0.52\n",
      "Epoch:  180   Loss:  0.3657155930995941\n",
      "0.52\n",
      "Epoch:  190   Loss:  0.3598153293132782\n",
      "0.54\n",
      "Epoch:  200   Loss:  0.3542589843273163\n",
      "0.54\n",
      "Epoch:  210   Loss:  0.34901946783065796\n",
      "0.54\n",
      "Epoch:  220   Loss:  0.3440718650817871\n",
      "0.54\n",
      "Epoch:  230   Loss:  0.3393935561180115\n",
      "0.54\n",
      "Epoch:  240   Loss:  0.33496370911598206\n",
      "0.54\n",
      "Epoch:  250   Loss:  0.33076339960098267\n",
      "0.54\n",
      "Epoch:  260   Loss:  0.32677531242370605\n",
      "0.54\n",
      "Epoch:  270   Loss:  0.32298359274864197\n",
      "0.54\n",
      "Epoch:  280   Loss:  0.3193736970424652\n",
      "0.56\n",
      "Epoch:  290   Loss:  0.3159325122833252\n",
      "0.56\n",
      "Epoch:  300   Loss:  0.31264784932136536\n",
      "0.56\n",
      "Epoch:  310   Loss:  0.3095088303089142\n",
      "0.56\n",
      "Epoch:  320   Loss:  0.30650511384010315\n",
      "0.56\n",
      "Epoch:  330   Loss:  0.3036275804042816\n",
      "0.56\n",
      "Epoch:  340   Loss:  0.3008677661418915\n",
      "0.56\n",
      "Epoch:  350   Loss:  0.2982178330421448\n",
      "0.56\n",
      "Epoch:  360   Loss:  0.29567068815231323\n",
      "0.58\n",
      "Epoch:  370   Loss:  0.29321977496147156\n",
      "0.58\n",
      "Epoch:  380   Loss:  0.2908591330051422\n",
      "0.58\n",
      "Epoch:  390   Loss:  0.2885831594467163\n",
      "0.58\n",
      "Epoch:  400   Loss:  0.2863868176937103\n",
      "0.6\n",
      "Epoch:  410   Loss:  0.2842654287815094\n",
      "0.62\n",
      "Epoch:  420   Loss:  0.28221458196640015\n",
      "0.64\n",
      "Epoch:  430   Loss:  0.2802303433418274\n",
      "0.64\n",
      "Epoch:  440   Loss:  0.27830907702445984\n",
      "0.64\n",
      "Epoch:  450   Loss:  0.27644720673561096\n",
      "0.64\n",
      "Epoch:  460   Loss:  0.274641752243042\n",
      "0.62\n",
      "Epoch:  470   Loss:  0.272889643907547\n",
      "0.62\n",
      "Epoch:  480   Loss:  0.27118822932243347\n",
      "0.62\n",
      "Epoch:  490   Loss:  0.2695349156856537\n",
      "0.62\n",
      "Epoch:  500   Loss:  0.2679274380207062\n",
      "0.62\n"
     ]
    }
   ],
   "metadata": {}
  },
  {
   "cell_type": "code",
   "execution_count": null,
   "source": [],
   "outputs": [],
   "metadata": {}
  }
 ],
 "metadata": {
  "orig_nbformat": 4,
  "language_info": {
   "name": "python",
   "version": "3.9.1",
   "mimetype": "text/x-python",
   "codemirror_mode": {
    "name": "ipython",
    "version": 3
   },
   "pygments_lexer": "ipython3",
   "nbconvert_exporter": "python",
   "file_extension": ".py"
  },
  "kernelspec": {
   "name": "python3",
   "display_name": "Python 3.9.1 64-bit"
  },
  "interpreter": {
   "hash": "2f97e602bf3efd1202fb41503b5059ddd336053f3958a92ca7b4a7a1e22459bb"
  }
 },
 "nbformat": 4,
 "nbformat_minor": 2
}
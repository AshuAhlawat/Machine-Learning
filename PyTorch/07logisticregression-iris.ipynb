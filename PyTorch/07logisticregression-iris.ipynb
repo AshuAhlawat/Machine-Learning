{
 "cells": [
  {
   "cell_type": "code",
   "execution_count": 93,
   "source": [
    "import pandas as pd\r\n",
    "import numpy as np\r\n",
    "\r\n",
    "from sklearn.model_selection import train_test_split\r\n",
    "from sklearn.preprocessing import StandardScaler\r\n",
    "\r\n",
    "import torch"
   ],
   "outputs": [],
   "metadata": {}
  },
  {
   "cell_type": "code",
   "execution_count": 94,
   "source": [
    "inputs = pd.read_csv(\"iris.csv\")\r\n",
    "inputs.pop(\"Id\")\r\n",
    "\r\n",
    "targets = inputs.pop(\"Species\")\r\n",
    "\r\n",
    "inputs = np.array(inputs)\r\n",
    "inputs_og = inputs\r\n",
    "\r\n",
    "targets = np.array(targets)\r\n",
    "targets_og = targets   \r\n",
    "new_targets = []\r\n",
    "\r\n",
    "for _ in range(len(targets)):\r\n",
    "    if targets[_]==\"Iris-setosa\":\r\n",
    "        new_targets.append([1,0,0])\r\n",
    "    elif targets[_]==\"Iris-versicolor\":\r\n",
    "        new_targets.append([0,1,0])\r\n",
    "    else:\r\n",
    "        new_targets.append([0,0,1])\r\n",
    "\r\n",
    "     \r\n",
    "targets = np.array(new_targets)\r\n",
    "\r\n"
   ],
   "outputs": [],
   "metadata": {}
  },
  {
   "cell_type": "code",
   "execution_count": 95,
   "source": [
    "inputs_train, inputs_test, targets_train, targets_test = train_test_split(inputs, targets, test_size= 0.2, random_state=342)\r\n",
    "\r\n",
    "print(inputs_train.shape, targets_train.shape)\r\n"
   ],
   "outputs": [
    {
     "output_type": "stream",
     "name": "stdout",
     "text": [
      "(120, 4) (120, 3)\n"
     ]
    }
   ],
   "metadata": {}
  },
  {
   "cell_type": "code",
   "execution_count": 96,
   "source": [
    "inputs_train = StandardScaler().fit_transform(inputs_train)\r\n",
    "inputs_test = StandardScaler().fit_transform(inputs_test)"
   ],
   "outputs": [],
   "metadata": {}
  },
  {
   "cell_type": "code",
   "execution_count": 97,
   "source": [
    "inputs_train = torch.from_numpy(inputs_train.astype(np.float32)) \r\n",
    "inputs_test = torch.from_numpy(inputs_test.astype(np.float32)) \r\n",
    "targets_train = torch.from_numpy(targets_train.astype(np.float32)) \r\n",
    "targets_test = torch.from_numpy(targets_test.astype(np.float32)) "
   ],
   "outputs": [],
   "metadata": {}
  },
  {
   "cell_type": "code",
   "execution_count": 98,
   "source": [
    "class IrisModel(torch.nn.Module):\r\n",
    "    def __init__(self,input_dim, output_dim):\r\n",
    "        super().__init__()\r\n",
    "        self.linear = torch.nn.Linear(input_dim, output_dim)\r\n",
    "    \r\n",
    "    def forward(self, inputs):\r\n",
    "        targets_pred = torch.softmax(self.linear(inputs),dim=-1) \r\n",
    "        return targets_pred\r\n",
    "        "
   ],
   "outputs": [],
   "metadata": {}
  },
  {
   "cell_type": "code",
   "execution_count": 99,
   "source": [
    "#pipeline\r\n",
    "\r\n",
    "logistic_model = IrisModel(4,3)\r\n",
    "\r\n",
    "loss_fn = torch.nn.BCELoss()\r\n",
    "\r\n",
    "opt = torch.optim.SGD(logistic_model.parameters(), lr=1e-2)"
   ],
   "outputs": [],
   "metadata": {}
  },
  {
   "cell_type": "code",
   "execution_count": 100,
   "source": [
    "epochs = 500\r\n",
    "\r\n",
    "for epoch in range(epochs):\r\n",
    "    targets_pred = logistic_model(inputs_train)\r\n",
    "    loss = loss_fn(targets_pred, targets_train)\r\n",
    "    \r\n",
    "    loss.backward()\r\n",
    "    \r\n",
    "    opt.step()\r\n",
    "    opt.zero_grad()\r\n",
    "    \r\n",
    "    if (epoch+1)%10 == 0:\r\n",
    "        \r\n",
    "        print(\"Epoch: \", epoch+1, \"  Loss: \", loss.item())\r\n",
    "        \r\n",
    "        with torch.no_grad():\r\n",
    "        \r\n",
    "            targets_test_pred = logistic_model(inputs_test)\r\n",
    "            targets_test_cls = targets_test_pred.detach().clone()\r\n",
    "\r\n",
    "            for i in range(len(targets_test_cls)):\r\n",
    "                for j in range(len(targets_test_cls[i])):\r\n",
    "                    if targets_test_cls[i][j] == max(targets_test_cls[i]):\r\n",
    "                        targets_test_cls[i][j] = 1\r\n",
    "                    else:\r\n",
    "                        targets_test_cls[i][j] = 0\r\n",
    "            \r\n",
    "            targets_test_temp = targets_test.detach().clone()\r\n",
    "\r\n",
    "            \r\n",
    "            correct = 0\r\n",
    "            \r\n",
    "            for i in range(len(targets_test_temp)):\r\n",
    "                if targets_test_temp[i].eq(targets_test_cls[i]).sum()==3:\r\n",
    "                    correct += 1\r\n",
    "            \r\n",
    "            acc = correct/len(targets_test)\r\n",
    "            accuracy = round(acc*100)\r\n",
    "            \r\n",
    "            print(\"Accuracy : \",accuracy,\"%\")\r\n",
    "            \r\n",
    "            if accuracy>90:\r\n",
    "                break \r\n",
    "            "
   ],
   "outputs": [
    {
     "output_type": "stream",
     "name": "stdout",
     "text": [
      "Epoch:  10   Loss:  0.749512791633606\n",
      "Accuracy :  23 %\n",
      "Epoch:  20   Loss:  0.7155160903930664\n",
      "Accuracy :  33 %\n",
      "Epoch:  30   Loss:  0.6844174861907959\n",
      "Accuracy :  40 %\n",
      "Epoch:  40   Loss:  0.6560032367706299\n",
      "Accuracy :  40 %\n",
      "Epoch:  50   Loss:  0.6300598382949829\n",
      "Accuracy :  47 %\n",
      "Epoch:  60   Loss:  0.6063777208328247\n",
      "Accuracy :  50 %\n",
      "Epoch:  70   Loss:  0.5847547054290771\n",
      "Accuracy :  57 %\n",
      "Epoch:  80   Loss:  0.5649980902671814\n",
      "Accuracy :  63 %\n",
      "Epoch:  90   Loss:  0.5469275712966919\n",
      "Accuracy :  67 %\n",
      "Epoch:  100   Loss:  0.5303756594657898\n",
      "Accuracy :  70 %\n",
      "Epoch:  110   Loss:  0.5151890516281128\n",
      "Accuracy :  73 %\n",
      "Epoch:  120   Loss:  0.5012282729148865\n",
      "Accuracy :  77 %\n",
      "Epoch:  130   Loss:  0.48836779594421387\n",
      "Accuracy :  80 %\n",
      "Epoch:  140   Loss:  0.47649502754211426\n",
      "Accuracy :  80 %\n",
      "Epoch:  150   Loss:  0.4655095338821411\n",
      "Accuracy :  77 %\n",
      "Epoch:  160   Loss:  0.4553220868110657\n",
      "Accuracy :  80 %\n",
      "Epoch:  170   Loss:  0.44585341215133667\n",
      "Accuracy :  80 %\n",
      "Epoch:  180   Loss:  0.43703338503837585\n",
      "Accuracy :  80 %\n",
      "Epoch:  190   Loss:  0.42879968881607056\n",
      "Accuracy :  77 %\n",
      "Epoch:  200   Loss:  0.42109739780426025\n",
      "Accuracy :  77 %\n",
      "Epoch:  210   Loss:  0.4138775169849396\n",
      "Accuracy :  77 %\n",
      "Epoch:  220   Loss:  0.40709659457206726\n",
      "Accuracy :  80 %\n",
      "Epoch:  230   Loss:  0.40071606636047363\n",
      "Accuracy :  80 %\n",
      "Epoch:  240   Loss:  0.3947012722492218\n",
      "Accuracy :  80 %\n",
      "Epoch:  250   Loss:  0.38902151584625244\n",
      "Accuracy :  80 %\n",
      "Epoch:  260   Loss:  0.3836492896080017\n",
      "Accuracy :  80 %\n",
      "Epoch:  270   Loss:  0.3785597085952759\n",
      "Accuracy :  80 %\n",
      "Epoch:  280   Loss:  0.3737305998802185\n",
      "Accuracy :  83 %\n",
      "Epoch:  290   Loss:  0.3691418170928955\n",
      "Accuracy :  83 %\n",
      "Epoch:  300   Loss:  0.36477532982826233\n",
      "Accuracy :  83 %\n",
      "Epoch:  310   Loss:  0.36061468720436096\n",
      "Accuracy :  83 %\n",
      "Epoch:  320   Loss:  0.35664495825767517\n",
      "Accuracy :  83 %\n",
      "Epoch:  330   Loss:  0.35285264253616333\n",
      "Accuracy :  83 %\n",
      "Epoch:  340   Loss:  0.3492254614830017\n",
      "Accuracy :  83 %\n",
      "Epoch:  350   Loss:  0.34575212001800537\n",
      "Accuracy :  83 %\n",
      "Epoch:  360   Loss:  0.3424224257469177\n",
      "Accuracy :  83 %\n",
      "Epoch:  370   Loss:  0.33922699093818665\n",
      "Accuracy :  87 %\n",
      "Epoch:  380   Loss:  0.3361571133136749\n",
      "Accuracy :  87 %\n",
      "Epoch:  390   Loss:  0.33320504426956177\n",
      "Accuracy :  87 %\n",
      "Epoch:  400   Loss:  0.330363392829895\n",
      "Accuracy :  87 %\n",
      "Epoch:  410   Loss:  0.3276256024837494\n",
      "Accuracy :  87 %\n",
      "Epoch:  420   Loss:  0.3249853849411011\n",
      "Accuracy :  87 %\n",
      "Epoch:  430   Loss:  0.3224371373653412\n",
      "Accuracy :  87 %\n",
      "Epoch:  440   Loss:  0.31997567415237427\n",
      "Accuracy :  87 %\n",
      "Epoch:  450   Loss:  0.3175960183143616\n",
      "Accuracy :  87 %\n",
      "Epoch:  460   Loss:  0.31529363989830017\n",
      "Accuracy :  87 %\n",
      "Epoch:  470   Loss:  0.31306445598602295\n",
      "Accuracy :  87 %\n",
      "Epoch:  480   Loss:  0.3109045624732971\n",
      "Accuracy :  87 %\n",
      "Epoch:  490   Loss:  0.30881035327911377\n",
      "Accuracy :  90 %\n",
      "Epoch:  500   Loss:  0.3067784607410431\n",
      "Accuracy :  90 %\n"
     ]
    }
   ],
   "metadata": {}
  },
  {
   "cell_type": "code",
   "execution_count": 120,
   "source": [
    "index = 130\r\n",
    "\r\n",
    "inputs_og = StandardScaler().fit_transform(inputs_og.astype(np.float32))\r\n",
    "\r\n",
    "x = inputs_og[index].reshape(1,-1)\r\n",
    "x = torch.from_numpy(x)\r\n",
    "\r\n",
    "pred = logistic_model(x)\r\n",
    "\r\n",
    "print(pred)\r\n",
    "\r\n",
    "pred = pred.detach().numpy().reshape(-1)\r\n",
    "ans = np.where(pred == max(pred))\r\n",
    "\r\n",
    "if ans[0][0]==0:\r\n",
    "    final_ans = \"Iris-setosa\"\r\n",
    "elif ans[0][0]==1:\r\n",
    "    final_ans = \"Iris-versicolor\"\r\n",
    "else:\r\n",
    "    final_ans = \"Iris-virginica\"\r\n",
    "\r\n",
    "print(\"Prediction: \",final_ans, \"  Target: \",targets_og[index])\r\n",
    "\r\n"
   ],
   "outputs": [
    {
     "output_type": "stream",
     "name": "stdout",
     "text": [
      "tensor([[0.8257, 0.1619, 0.0124]], grad_fn=<SoftmaxBackward>)\n",
      "Prediction:  Iris-setosa   Target:  Iris-setosa\n"
     ]
    }
   ],
   "metadata": {}
  },
  {
   "cell_type": "code",
   "execution_count": null,
   "source": [],
   "outputs": [],
   "metadata": {}
  }
 ],
 "metadata": {
  "orig_nbformat": 4,
  "language_info": {
   "name": "python",
   "version": "3.9.1",
   "mimetype": "text/x-python",
   "codemirror_mode": {
    "name": "ipython",
    "version": 3
   },
   "pygments_lexer": "ipython3",
   "nbconvert_exporter": "python",
   "file_extension": ".py"
  },
  "kernelspec": {
   "name": "python3",
   "display_name": "Python 3.9.1 64-bit"
  },
  "interpreter": {
   "hash": "2f97e602bf3efd1202fb41503b5059ddd336053f3958a92ca7b4a7a1e22459bb"
  }
 },
 "nbformat": 4,
 "nbformat_minor": 2
}
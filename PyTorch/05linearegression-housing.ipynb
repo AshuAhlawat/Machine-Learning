{
 "metadata": {
  "language_info": {
   "codemirror_mode": {
    "name": "ipython",
    "version": 3
   },
   "file_extension": ".py",
   "mimetype": "text/x-python",
   "name": "python",
   "nbconvert_exporter": "python",
   "pygments_lexer": "ipython3",
   "version": "3.9.1"
  },
  "orig_nbformat": 4,
  "kernelspec": {
   "name": "python3",
   "display_name": "Python 3.9.1 64-bit"
  },
  "interpreter": {
   "hash": "2f97e602bf3efd1202fb41503b5059ddd336053f3958a92ca7b4a7a1e22459bb"
  }
 },
 "nbformat": 4,
 "nbformat_minor": 2,
 "cells": [
  {
   "cell_type": "code",
   "execution_count": 1,
   "metadata": {},
   "outputs": [],
   "source": [
    "import numpy as np\n",
    "import pandas as pd\n",
    "import torch"
   ]
  },
  {
   "cell_type": "code",
   "execution_count": 2,
   "metadata": {},
   "outputs": [
    {
     "output_type": "stream",
     "name": "stdout",
     "text": [
      "    housing_median_age  total_rooms  total_bedrooms  households  median_income\n0                 41.0        880.0           129.0       126.0         8.3252\n1                 21.0       7099.0          1106.0      1138.0         8.3014\n2                 52.0       1467.0           190.0       177.0         7.2574\n3                 52.0       1274.0           235.0       219.0         5.6431\n4                 52.0       1627.0           280.0       259.0         3.8462\n5                 52.0        919.0           213.0       193.0         4.0368\n6                 52.0       2535.0           489.0       514.0         3.6591\n7                 52.0       3104.0           687.0       647.0         3.1200\n8                 42.0       2555.0           665.0       595.0         2.0804\n9                 52.0       3549.0           707.0       714.0         3.6912\n10                52.0       2202.0           434.0       402.0         3.2031\n11                52.0       3503.0           752.0       734.0         3.2705\n12                52.0       2491.0           474.0       468.0         3.0750\n13                52.0        696.0           191.0       174.0         2.6736\n14                52.0       2643.0           626.0       620.0         1.9167\n15                50.0       1120.0           283.0       264.0         2.1250\n16                52.0       1966.0           347.0       331.0         2.7750\n17                52.0       1228.0           293.0       303.0         2.1202\n18                50.0       2239.0           455.0       419.0         1.9911\n19                52.0       1503.0           298.0       275.0         2.6033\n20                40.0        751.0           184.0       166.0         1.3578\n21                42.0       1639.0           367.0       366.0         1.7135\n22                52.0       2436.0           541.0       478.0         1.7250\n23                52.0       1688.0           337.0       325.0         2.1806\n24                52.0       2224.0           437.0       422.0         2.6000\n25                41.0        535.0           123.0       119.0         2.4038\n26                49.0       1130.0           244.0       239.0         2.4597\n27                52.0       1898.0           421.0       397.0         1.8080\n28                50.0       2082.0           492.0       473.0         1.6424\n29                52.0        729.0           160.0       155.0         1.6875\n30                49.0       1916.0           447.0       378.0         1.9274\n31                52.0       2153.0           481.0       441.0         1.9615\n32                48.0       1922.0           409.0       335.0         1.7969\n33                49.0       1655.0           366.0       329.0         1.3750\n34                51.0       2665.0           574.0       536.0         2.7303\n35                49.0       1215.0           282.0       264.0         1.4861\n36                48.0       1798.0           432.0       374.0         1.0972\n37                52.0       1511.0           390.0       403.0         1.4103\n38                52.0       1470.0           330.0       309.0         3.4800\n39                52.0       2432.0           715.0       696.0         2.5898\n    population  median_house_value\n0        322.0            452600.0\n1       2401.0            358500.0\n2        496.0            352100.0\n3        558.0            341300.0\n4        565.0            342200.0\n5        413.0            269700.0\n6       1094.0            299200.0\n7       1157.0            241400.0\n8       1206.0            226700.0\n9       1551.0            261100.0\n10       910.0            281500.0\n11      1504.0            241800.0\n12      1098.0            213500.0\n13       345.0            191300.0\n14      1212.0            159200.0\n15       697.0            140000.0\n16       793.0            152500.0\n17       648.0            155500.0\n18       990.0            158700.0\n19       690.0            162900.0\n20       409.0            147500.0\n21       929.0            159800.0\n22      1015.0            113900.0\n23       853.0             99700.0\n24      1006.0            132600.0\n25       317.0            107500.0\n26       607.0             93800.0\n27      1102.0            105500.0\n28      1131.0            108900.0\n29       395.0            132000.0\n30       863.0            122300.0\n31      1168.0            115200.0\n32      1026.0            110400.0\n33       754.0            104900.0\n34      1258.0            109700.0\n35       570.0             97200.0\n36       987.0            104500.0\n37       901.0            103900.0\n38       689.0            191400.0\n39      1377.0            176000.0\n"
     ]
    }
   ],
   "source": [
    "dataset = pd.read_csv(\"housing.csv\")\r\n",
    "\r\n",
    "inputs = dataset[[\"housing_median_age\",\"total_rooms\",\"total_bedrooms\",\"households\",\"median_income\"]]\r\n",
    "print(inputs)\r\n",
    "targets = dataset[[\"population\",\"median_house_value\"]]\r\n",
    "print(targets)\r\n"
   ]
  },
  {
   "cell_type": "code",
   "execution_count": 3,
   "metadata": {},
   "outputs": [],
   "source": [
    "inputs = np.array(inputs, dtype='float32')\r\n",
    "for i in inputs:\r\n",
    "    i[4]= i[4]*100\r\n",
    "\r\n",
    "targets = np.array(targets, dtype='float32')\r\n",
    "for i in targets:\r\n",
    "    i[1]= i[1]/100"
   ]
  },
  {
   "cell_type": "code",
   "execution_count": 12,
   "metadata": {},
   "outputs": [
    {
     "output_type": "error",
     "ename": "TypeError",
     "evalue": "expected np.ndarray (got Tensor)",
     "traceback": [
      "\u001b[1;31m---------------------------------------------------------------------------\u001b[0m",
      "\u001b[1;31mTypeError\u001b[0m                                 Traceback (most recent call last)",
      "\u001b[1;32m<ipython-input-12-73fcc722c86a>\u001b[0m in \u001b[0;36m<module>\u001b[1;34m\u001b[0m\n\u001b[1;32m----> 1\u001b[1;33m \u001b[0minputs\u001b[0m \u001b[1;33m=\u001b[0m \u001b[0mtorch\u001b[0m\u001b[1;33m.\u001b[0m\u001b[0mfrom_numpy\u001b[0m\u001b[1;33m(\u001b[0m\u001b[0minputs\u001b[0m\u001b[1;33m)\u001b[0m\u001b[1;33m\u001b[0m\u001b[1;33m\u001b[0m\u001b[0m\n\u001b[0m\u001b[0;32m      2\u001b[0m \u001b[0mtargets\u001b[0m \u001b[1;33m=\u001b[0m \u001b[0mtorch\u001b[0m\u001b[1;33m.\u001b[0m\u001b[0mfrom_numpy\u001b[0m\u001b[1;33m(\u001b[0m\u001b[0mtargets\u001b[0m\u001b[1;33m)\u001b[0m\u001b[1;33m\u001b[0m\u001b[1;33m\u001b[0m\u001b[0m\n\u001b[0;32m      3\u001b[0m \u001b[0mprint\u001b[0m\u001b[1;33m(\u001b[0m\u001b[0mtargets\u001b[0m\u001b[1;33m)\u001b[0m\u001b[1;33m\u001b[0m\u001b[1;33m\u001b[0m\u001b[0m\n",
      "\u001b[1;31mTypeError\u001b[0m: expected np.ndarray (got Tensor)"
     ]
    }
   ],
   "source": [
    "inputs = torch.from_numpy(inputs)\n",
    "targets = torch.from_numpy(targets)\n",
    "print(targets)"
   ]
  },
  {
   "cell_type": "code",
   "execution_count": 5,
   "metadata": {},
   "outputs": [
    {
     "output_type": "stream",
     "name": "stdout",
     "text": [
      "Batch : 1\n",
      "tensor([[  52.0000, 2491.0000,  474.0000,  468.0000,  307.5000],\n",
      "        [  52.0000, 3549.0000,  707.0000,  714.0000,  369.1200],\n",
      "        [  49.0000, 1916.0000,  447.0000,  378.0000,  192.7400],\n",
      "        [  42.0000, 1639.0000,  367.0000,  366.0000,  171.3500],\n",
      "        [  52.0000, 1274.0000,  235.0000,  219.0000,  564.3100]])\n",
      "tensor([[1098., 2135.],\n",
      "        [1551., 2611.],\n",
      "        [ 863., 1223.],\n",
      "        [ 929., 1598.],\n",
      "        [ 558., 3413.]])\n",
      "Batch : 2\n",
      "tensor([[  52.0000, 2535.0000,  489.0000,  514.0000,  365.9100],\n",
      "        [  52.0000,  729.0000,  160.0000,  155.0000,  168.7500],\n",
      "        [  21.0000, 7099.0000, 1106.0000, 1138.0000,  830.1400],\n",
      "        [  52.0000, 1467.0000,  190.0000,  177.0000,  725.7400],\n",
      "        [  52.0000, 3503.0000,  752.0000,  734.0000,  327.0500]])\n",
      "tensor([[1094., 2992.],\n",
      "        [ 395., 1320.],\n",
      "        [2401., 3585.],\n",
      "        [ 496., 3521.],\n",
      "        [1504., 2418.]])\n",
      "Batch : 3\n",
      "tensor([[  52.0000, 2436.0000,  541.0000,  478.0000,  172.5000],\n",
      "        [  50.0000, 1120.0000,  283.0000,  264.0000,  212.5000],\n",
      "        [  51.0000, 2665.0000,  574.0000,  536.0000,  273.0300],\n",
      "        [  52.0000, 2202.0000,  434.0000,  402.0000,  320.3100],\n",
      "        [  52.0000, 1503.0000,  298.0000,  275.0000,  260.3300]])\n",
      "tensor([[1015., 1139.],\n",
      "        [ 697., 1400.],\n",
      "        [1258., 1097.],\n",
      "        [ 910., 2815.],\n",
      "        [ 690., 1629.]])\n",
      "Batch : 4\n",
      "tensor([[  52.0000,  696.0000,  191.0000,  174.0000,  267.3600],\n",
      "        [  52.0000, 1511.0000,  390.0000,  403.0000,  141.0300],\n",
      "        [  52.0000, 3104.0000,  687.0000,  647.0000,  312.0000],\n",
      "        [  52.0000, 1228.0000,  293.0000,  303.0000,  212.0200],\n",
      "        [  52.0000, 1470.0000,  330.0000,  309.0000,  348.0000]])\n",
      "tensor([[ 345., 1913.],\n",
      "        [ 901., 1039.],\n",
      "        [1157., 2414.],\n",
      "        [ 648., 1555.],\n",
      "        [ 689., 1914.]])\n",
      "Batch : 5\n",
      "tensor([[  52.0000, 1966.0000,  347.0000,  331.0000,  277.5000],\n",
      "        [  41.0000,  880.0000,  129.0000,  126.0000,  832.5200],\n",
      "        [  48.0000, 1798.0000,  432.0000,  374.0000,  109.7200],\n",
      "        [  40.0000,  751.0000,  184.0000,  166.0000,  135.7800],\n",
      "        [  41.0000,  535.0000,  123.0000,  119.0000,  240.3800]])\n",
      "tensor([[ 793., 1525.],\n",
      "        [ 322., 4526.],\n",
      "        [ 987., 1045.],\n",
      "        [ 409., 1475.],\n",
      "        [ 317., 1075.]])\n",
      "Batch : 6\n",
      "tensor([[  42.0000, 2555.0000,  665.0000,  595.0000,  208.0400],\n",
      "        [  52.0000,  919.0000,  213.0000,  193.0000,  403.6800],\n",
      "        [  52.0000, 1898.0000,  421.0000,  397.0000,  180.8000],\n",
      "        [  49.0000, 1215.0000,  282.0000,  264.0000,  148.6100],\n",
      "        [  48.0000, 1922.0000,  409.0000,  335.0000,  179.6900]])\n",
      "tensor([[1206., 2267.],\n",
      "        [ 413., 2697.],\n",
      "        [1102., 1055.],\n",
      "        [ 570.,  972.],\n",
      "        [1026., 1104.]])\n",
      "Batch : 7\n",
      "tensor([[  52.0000, 1688.0000,  337.0000,  325.0000,  218.0600],\n",
      "        [  52.0000, 1627.0000,  280.0000,  259.0000,  384.6200],\n",
      "        [  50.0000, 2239.0000,  455.0000,  419.0000,  199.1100],\n",
      "        [  52.0000, 2153.0000,  481.0000,  441.0000,  196.1500],\n",
      "        [  52.0000, 2224.0000,  437.0000,  422.0000,  260.0000]])\n",
      "tensor([[ 853.,  997.],\n",
      "        [ 565., 3422.],\n",
      "        [ 990., 1587.],\n",
      "        [1168., 1152.],\n",
      "        [1006., 1326.]])\n",
      "Batch : 8\n",
      "tensor([[  49.0000, 1130.0000,  244.0000,  239.0000,  245.9700],\n",
      "        [  52.0000, 2432.0000,  715.0000,  696.0000,  258.9800],\n",
      "        [  50.0000, 2082.0000,  492.0000,  473.0000,  164.2400],\n",
      "        [  52.0000, 2643.0000,  626.0000,  620.0000,  191.6700],\n",
      "        [  49.0000, 1655.0000,  366.0000,  329.0000,  137.5000]])\n",
      "tensor([[ 607.,  938.],\n",
      "        [1377., 1760.],\n",
      "        [1131., 1089.],\n",
      "        [1212., 1592.],\n",
      "        [ 754., 1049.]])\n"
     ]
    }
   ],
   "source": [
    "#training_dataset\n",
    "train_ds = torch.utils.data.TensorDataset(inputs, targets)\n",
    "\n",
    "batch_size = 5\n",
    "train_dl = torch.utils.data.DataLoader(train_ds, batch_size, shuffle=True)\n",
    "\n",
    "i = 1\n",
    "for input_batch, target_batch in train_dl:\n",
    "    print(\"Batch :\", i)\n",
    "    print(input_batch)\n",
    "    print(target_batch)\n",
    "    i += 1\n"
   ]
  },
  {
   "cell_type": "code",
   "execution_count": 6,
   "metadata": {},
   "outputs": [
    {
     "output_type": "stream",
     "name": "stdout",
     "text": [
      "Parameter containing:\ntensor([[-0.0489,  0.0765,  0.0442, -0.1435, -0.0545],\n        [ 0.2803,  0.1374,  0.0512, -0.3154, -0.3342]], requires_grad=True)\nParameter containing:\ntensor([ 0.1121, -0.0612], requires_grad=True)\n"
     ]
    },
    {
     "output_type": "execute_result",
     "data": {
      "text/plain": [
       "[Parameter containing:\n",
       " tensor([[-0.0489,  0.0765,  0.0442, -0.1435, -0.0545],\n",
       "         [ 0.2803,  0.1374,  0.0512, -0.3154, -0.3342]], requires_grad=True),\n",
       " Parameter containing:\n",
       " tensor([ 0.1121, -0.0612], requires_grad=True)]"
      ]
     },
     "metadata": {},
     "execution_count": 6
    }
   ],
   "source": [
    "model = torch.nn.Linear(5,2)\n",
    "print(model.weight)\n",
    "print(model.bias)\n",
    "list(model.parameters())"
   ]
  },
  {
   "cell_type": "code",
   "execution_count": 7,
   "metadata": {},
   "outputs": [],
   "source": [
    "loss_fn = torch.nn.functional.mse_loss"
   ]
  },
  {
   "cell_type": "code",
   "execution_count": 8,
   "metadata": {},
   "outputs": [],
   "source": [
    "#optimizer\n",
    "opt = torch.optim.SGD(model.parameters(), lr=1e-7)"
   ]
  },
  {
   "cell_type": "code",
   "execution_count": 9,
   "metadata": {},
   "outputs": [],
   "source": [
    "def train(num_epochs, model, loss_function, training_dataloader):\n",
    "    for epoch in range(num_epochs):\n",
    "        for input_batch, target_batch in training_dataloader:\n",
    "            \n",
    "            pred = model(input_batch)\n",
    "            loss = loss_function(pred, target_batch)\n",
    "\n",
    "            loss.backward()\n",
    "            \n",
    "            opt.step()\n",
    "            opt.zero_grad()\n",
    "            \n",
    "        if loss.item()< 5000:\n",
    "            print(loss.item())\n",
    "            print(pred)\n",
    "            print(model.weight)\n",
    "            print(model.bias)"
   ]
  },
  {
   "cell_type": "code",
   "execution_count": 10,
   "metadata": {
    "tags": []
   },
   "outputs": [
    {
     "output_type": "stream",
     "name": "stdout",
     "text": [
      "4729.23486328125\n",
      "tensor([[1514.0844, 2462.0469],\n",
      "        [1469.9332, 2569.5269],\n",
      "        [ 653.0056, 1628.3613],\n",
      "        [ 428.8909, 1883.5319],\n",
      "        [ 879.8331, 1155.2767]], grad_fn=<AddmmBackward>)\n",
      "Parameter containing:\n",
      "tensor([[ 2.7815,  0.1505,  0.7651,  0.4759, -0.1632],\n",
      "        [ 4.9484, -0.3878,  2.1807,  0.1870,  5.3960]], requires_grad=True)\n",
      "Parameter containing:\n",
      "tensor([ 0.1695, -0.0011], requires_grad=True)\n",
      "4783.6064453125\n",
      "tensor([[ 978.3007, 1480.4398],\n",
      "        [ 692.4753, 1543.4081],\n",
      "        [ 618.4153, 1445.3613],\n",
      "        [ 917.2300, 1280.0093],\n",
      "        [ 825.2886, 1504.5469]], grad_fn=<AddmmBackward>)\n",
      "Parameter containing:\n",
      "tensor([[ 2.9124,  0.1571,  0.7012,  0.5084, -0.1714],\n",
      "        [ 5.1131, -0.5333,  2.0936,  0.1844,  5.3528]], requires_grad=True)\n",
      "Parameter containing:\n",
      "tensor([ 0.1730, -0.0016], requires_grad=True)\n",
      "4297.19287109375\n",
      "tensor([[ 959.2810, 1534.2592],\n",
      "        [ 420.4493, 1275.0067],\n",
      "        [ 777.0987, 1211.4509],\n",
      "        [1021.1812, 2083.3506],\n",
      "        [1486.4028, 2445.7905]], grad_fn=<AddmmBackward>)\n",
      "Parameter containing:\n",
      "tensor([[ 3.0760,  0.1511,  0.6103,  0.5725, -0.1892],\n",
      "        [ 5.3155, -0.3722,  2.0307,  0.2550,  5.3577]], requires_grad=True)\n",
      "Parameter containing:\n",
      "tensor([ 0.1780, -0.0038], requires_grad=True)\n",
      "4855.4189453125\n",
      "tensor([[ 635.0536, 1479.0791],\n",
      "        [ 854.3254, 1563.0225],\n",
      "        [ 660.5096, 1083.6592],\n",
      "        [ 271.6629, 4520.6187],\n",
      "        [ 690.2307, 1464.1658]], grad_fn=<AddmmBackward>)\n",
      "Parameter containing:\n",
      "tensor([[ 3.1742,  0.1721,  0.5549,  0.6204, -0.1955],\n",
      "        [ 5.4326, -0.4970,  1.9581,  0.2680,  5.3394]], requires_grad=True)\n",
      "Parameter containing:\n",
      "tensor([ 0.1814, -0.0064], requires_grad=True)\n"
     ]
    }
   ],
   "source": [
    "train(20000, model, loss_fn, train_dl)"
   ]
  }
 ]
}
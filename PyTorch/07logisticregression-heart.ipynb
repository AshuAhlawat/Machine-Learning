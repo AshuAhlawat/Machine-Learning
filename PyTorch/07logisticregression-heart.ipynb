{
 "cells": [
  {
   "cell_type": "code",
   "execution_count": 15,
   "source": [
    "import pandas as pd\n",
    "import numpy as np\n",
    "\n",
    "from sklearn.model_selection import train_test_split\n",
    "from sklearn.preprocessing import StandardScaler\n",
    "\n",
    "import torch"
   ],
   "outputs": [],
   "metadata": {}
  },
  {
   "cell_type": "code",
   "execution_count": 16,
   "source": [
    "inputs = pd.read_csv(\"./data/heart.csv\")\n",
    "targets = inputs.pop(\"target\")\n",
    "\n",
    "inputs = np.array(inputs)\n",
    "targets = np.array(targets)\n",
    "\n",
    "print(inputs)\n",
    "print(targets)\n"
   ],
   "outputs": [
    {
     "output_type": "stream",
     "name": "stdout",
     "text": [
      "[[63.  1.  3. ...  0.  0.  1.]\n",
      " [37.  1.  2. ...  0.  0.  2.]\n",
      " [41.  0.  1. ...  2.  0.  2.]\n",
      " ...\n",
      " [68.  1.  0. ...  1.  2.  3.]\n",
      " [57.  1.  0. ...  1.  1.  3.]\n",
      " [57.  0.  1. ...  1.  1.  2.]]\n",
      "[1 1 1 1 1 1 1 1 1 1 1 1 1 1 1 1 1 1 1 1 1 1 1 1 1 1 1 1 1 1 1 1 1 1 1 1 1\n",
      " 1 1 1 1 1 1 1 1 1 1 1 1 1 1 1 1 1 1 1 1 1 1 1 1 1 1 1 1 1 1 1 1 1 1 1 1 1\n",
      " 1 1 1 1 1 1 1 1 1 1 1 1 1 1 1 1 1 1 1 1 1 1 1 1 1 1 1 1 1 1 1 1 1 1 1 1 1\n",
      " 1 1 1 1 1 1 1 1 1 1 1 1 1 1 1 1 1 1 1 1 1 1 1 1 1 1 1 1 1 1 1 1 1 1 1 1 1\n",
      " 1 1 1 1 1 1 1 1 1 1 1 1 1 1 1 1 1 0 0 0 0 0 0 0 0 0 0 0 0 0 0 0 0 0 0 0 0\n",
      " 0 0 0 0 0 0 0 0 0 0 0 0 0 0 0 0 0 0 0 0 0 0 0 0 0 0 0 0 0 0 0 0 0 0 0 0 0\n",
      " 0 0 0 0 0 0 0 0 0 0 0 0 0 0 0 0 0 0 0 0 0 0 0 0 0 0 0 0 0 0 0 0 0 0 0 0 0\n",
      " 0 0 0 0 0 0 0 0 0 0 0 0 0 0 0 0 0 0 0 0 0 0 0 0 0 0 0 0 0 0 0 0 0 0 0 0 0\n",
      " 0 0 0 0 0 0 0]\n"
     ]
    }
   ],
   "metadata": {}
  },
  {
   "cell_type": "code",
   "execution_count": 17,
   "source": [
    "inputs_train, inputs_test, targets_train, targets_test = train_test_split(inputs, targets, test_size=0.33)\n",
    "\n",
    "print(inputs_train.shape, targets_train.shape)\n",
    "print(inputs_test.shape, targets_test.shape)\n",
    "targets_train"
   ],
   "outputs": [
    {
     "output_type": "stream",
     "name": "stdout",
     "text": [
      "(203, 13) (203,)\n",
      "(100, 13) (100,)\n"
     ]
    },
    {
     "output_type": "execute_result",
     "data": {
      "text/plain": [
       "array([0, 1, 0, 0, 0, 0, 0, 0, 0, 0, 0, 1, 1, 0, 1, 1, 1, 1, 0, 0, 0, 1,\n",
       "       1, 1, 0, 1, 0, 0, 0, 1, 0, 1, 0, 1, 1, 1, 1, 0, 1, 0, 0, 1, 1, 0,\n",
       "       1, 1, 1, 1, 1, 0, 1, 0, 1, 0, 0, 0, 0, 1, 1, 0, 1, 1, 0, 1, 1, 1,\n",
       "       1, 1, 0, 0, 1, 1, 1, 0, 1, 1, 1, 0, 1, 0, 1, 1, 1, 1, 1, 0, 0, 0,\n",
       "       0, 1, 1, 0, 0, 1, 1, 0, 0, 1, 1, 1, 1, 1, 0, 0, 1, 1, 1, 1, 1, 0,\n",
       "       0, 0, 0, 0, 0, 1, 0, 1, 0, 0, 0, 1, 0, 1, 0, 1, 1, 1, 1, 0, 1, 1,\n",
       "       0, 0, 1, 0, 1, 0, 1, 1, 1, 1, 1, 0, 0, 1, 1, 0, 0, 1, 1, 1, 1, 1,\n",
       "       1, 0, 1, 0, 0, 0, 0, 1, 1, 1, 0, 1, 1, 1, 1, 0, 0, 1, 0, 1, 1, 1,\n",
       "       1, 1, 1, 0, 0, 1, 0, 1, 1, 1, 0, 0, 1, 0, 0, 1, 1, 0, 1, 0, 1, 0,\n",
       "       1, 0, 0, 0, 0], dtype=int64)"
      ]
     },
     "metadata": {},
     "execution_count": 17
    }
   ],
   "metadata": {}
  },
  {
   "cell_type": "code",
   "execution_count": 18,
   "source": [
    "inputs_train = StandardScaler().fit_transform(inputs_train)\n",
    "inputs_test = StandardScaler().fit_transform(inputs_test)\n",
    "\n"
   ],
   "outputs": [],
   "metadata": {}
  },
  {
   "cell_type": "code",
   "execution_count": 19,
   "source": [
    "inputs_train = torch.from_numpy(inputs_train.astype(np.float32))\n",
    "inputs_test = torch.from_numpy(inputs_test.astype(np.float32))\n",
    "targets_train = torch.from_numpy(targets_train.astype(np.float32))\n",
    "targets_test = torch.from_numpy(targets_test.astype(np.float32))\n"
   ],
   "outputs": [],
   "metadata": {}
  },
  {
   "cell_type": "code",
   "execution_count": 20,
   "source": [
    "targets_train = targets_train.reshape(-1,1)\n",
    "targets_test = targets_test.reshape(-1,1)\n",
    "targets_test.shape"
   ],
   "outputs": [
    {
     "output_type": "execute_result",
     "data": {
      "text/plain": [
       "torch.Size([100, 1])"
      ]
     },
     "metadata": {},
     "execution_count": 20
    }
   ],
   "metadata": {}
  },
  {
   "cell_type": "code",
   "execution_count": 21,
   "source": [
    "class HeartModel(torch.nn.Module):\n",
    "    def __init__(self,input_dim,output_dim):\n",
    "        super().__init__()\n",
    "        self.linear = torch.nn.Linear(input_dim,output_dim)\n",
    "    \n",
    "    def forward(self, inputs):\n",
    "        targets_pred = torch.sigmoid(self.linear(inputs))\n",
    "        return targets_pred\n",
    "    \n",
    "    def predict(self, input):\n",
    "        return self.linear(input)"
   ],
   "outputs": [],
   "metadata": {}
  },
  {
   "cell_type": "code",
   "execution_count": 22,
   "source": [
    "#model\n",
    "logistic_model = HeartModel(13,1)\n"
   ],
   "outputs": [],
   "metadata": {}
  },
  {
   "cell_type": "code",
   "execution_count": 23,
   "source": [
    "#loss function\n",
    "loss_fn = torch.nn.BCELoss()"
   ],
   "outputs": [],
   "metadata": {}
  },
  {
   "cell_type": "code",
   "execution_count": 24,
   "source": [
    "#optimizer\n",
    "opt = torch.optim.SGD(logistic_model.parameters(), lr = 3e-2)"
   ],
   "outputs": [],
   "metadata": {}
  },
  {
   "cell_type": "code",
   "execution_count": 25,
   "source": [
    "def fit(num_epoch, model, loss_function, optimizer, inputs_train,inputs_test,targets_train, targets_test):\n",
    "    for epoch in range(num_epoch):\n",
    "        targets_pred = model(inputs_train)\n",
    "        \n",
    "        loss = loss_function(targets_pred, targets_train)\n",
    "        \n",
    "        loss.backward()\n",
    "        \n",
    "        optimizer.step()\n",
    "        optimizer.zero_grad()\n",
    "        \n",
    "        if (epoch+1)%10 == 0:\n",
    "            print(\"Epoch: \", epoch+1, \"  Loss: \", loss.item())\n",
    "    \n",
    "            with torch.no_grad():\n",
    "                test_targets_pred = model(inputs_test)\n",
    "                test_targets_pred_class = test_targets_pred.round()\n",
    "                \n",
    "                acc = test_targets_pred_class.eq(targets_test).sum()/len(targets_test)\n",
    "                print(\"Accuracy:\" , int(100*acc.item()),\"%\")\n",
    "    \n"
   ],
   "outputs": [],
   "metadata": {}
  },
  {
   "cell_type": "code",
   "execution_count": 26,
   "source": [
    "fit(300, logistic_model, loss_fn, opt, inputs_train, inputs_test, targets_train, targets_test)"
   ],
   "outputs": [
    {
     "output_type": "stream",
     "name": "stdout",
     "text": [
      "Epoch:  10   Loss:  0.7692760825157166\n",
      "Accuracy: 34 %\n",
      "Epoch:  20   Loss:  0.675794780254364\n",
      "Accuracy: 55 %\n",
      "Epoch:  30   Loss:  0.6107206344604492\n",
      "Accuracy: 68 %\n",
      "Epoch:  40   Loss:  0.564536988735199\n",
      "Accuracy: 75 %\n",
      "Epoch:  50   Loss:  0.5308471322059631\n",
      "Accuracy: 80 %\n",
      "Epoch:  60   Loss:  0.5055646300315857\n",
      "Accuracy: 81 %\n",
      "Epoch:  70   Loss:  0.48608970642089844\n",
      "Accuracy: 81 %\n",
      "Epoch:  80   Loss:  0.47073954343795776\n",
      "Accuracy: 81 %\n",
      "Epoch:  90   Loss:  0.45839765667915344\n",
      "Accuracy: 83 %\n",
      "Epoch:  100   Loss:  0.44830310344696045\n",
      "Accuracy: 85 %\n",
      "Epoch:  110   Loss:  0.43992358446121216\n",
      "Accuracy: 86 %\n",
      "Epoch:  120   Loss:  0.43287792801856995\n",
      "Accuracy: 83 %\n",
      "Epoch:  130   Loss:  0.4268871247768402\n",
      "Accuracy: 83 %\n",
      "Epoch:  140   Loss:  0.42174282670021057\n",
      "Accuracy: 83 %\n",
      "Epoch:  150   Loss:  0.4172867238521576\n",
      "Accuracy: 81 %\n",
      "Epoch:  160   Loss:  0.4133968651294708\n",
      "Accuracy: 82 %\n",
      "Epoch:  170   Loss:  0.4099775552749634\n",
      "Accuracy: 81 %\n",
      "Epoch:  180   Loss:  0.4069531559944153\n",
      "Accuracy: 81 %\n",
      "Epoch:  190   Loss:  0.4042627811431885\n",
      "Accuracy: 81 %\n",
      "Epoch:  200   Loss:  0.4018573760986328\n",
      "Accuracy: 81 %\n",
      "Epoch:  210   Loss:  0.3996965289115906\n",
      "Accuracy: 81 %\n",
      "Epoch:  220   Loss:  0.39774706959724426\n",
      "Accuracy: 81 %\n",
      "Epoch:  230   Loss:  0.39598140120506287\n",
      "Accuracy: 83 %\n",
      "Epoch:  240   Loss:  0.3943762481212616\n",
      "Accuracy: 83 %\n",
      "Epoch:  250   Loss:  0.39291220903396606\n",
      "Accuracy: 83 %\n",
      "Epoch:  260   Loss:  0.39157265424728394\n",
      "Accuracy: 85 %\n",
      "Epoch:  270   Loss:  0.3903433382511139\n",
      "Accuracy: 85 %\n",
      "Epoch:  280   Loss:  0.3892122507095337\n",
      "Accuracy: 86 %\n",
      "Epoch:  290   Loss:  0.3881688117980957\n",
      "Accuracy: 85 %\n",
      "Epoch:  300   Loss:  0.38720396161079407\n",
      "Accuracy: 85 %\n"
     ]
    }
   ],
   "metadata": {}
  },
  {
   "cell_type": "code",
   "execution_count": 28,
   "source": [
    "index = 2\n",
    "\n",
    "inputs = StandardScaler().fit_transform(inputs.astype(np.float32))\n",
    "x = inputs[index].reshape(1,-1)\n",
    "x = torch.from_numpy(x)\n",
    "\n",
    "pred = logistic_model(x)\n",
    "print(pred)\n",
    "print(\"Prediction: \",round(pred.item()), \"  Target: \",targets[index])\n",
    "\n"
   ],
   "outputs": [
    {
     "output_type": "stream",
     "name": "stdout",
     "text": [
      "tensor([[0.6403]], grad_fn=<SigmoidBackward>)\n",
      "Prediction:  1   Target:  1\n"
     ]
    }
   ],
   "metadata": {}
  },
  {
   "cell_type": "code",
   "execution_count": null,
   "source": [],
   "outputs": [],
   "metadata": {}
  }
 ],
 "metadata": {
  "orig_nbformat": 4,
  "language_info": {
   "name": "python",
   "version": "3.9.1",
   "mimetype": "text/x-python",
   "codemirror_mode": {
    "name": "ipython",
    "version": 3
   },
   "pygments_lexer": "ipython3",
   "nbconvert_exporter": "python",
   "file_extension": ".py"
  },
  "kernelspec": {
   "name": "python3",
   "display_name": "Python 3.9.1 64-bit"
  },
  "interpreter": {
   "hash": "2f97e602bf3efd1202fb41503b5059ddd336053f3958a92ca7b4a7a1e22459bb"
  }
 },
 "nbformat": 4,
 "nbformat_minor": 2
}
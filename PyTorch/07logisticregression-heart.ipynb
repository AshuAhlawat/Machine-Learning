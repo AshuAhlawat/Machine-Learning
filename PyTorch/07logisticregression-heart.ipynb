{
 "cells": [
  {
   "cell_type": "code",
   "execution_count": 1,
   "source": [
    "import pandas as pd\r\n",
    "import numpy as np\r\n",
    "\r\n",
    "from sklearn.model_selection import train_test_split\r\n",
    "from sklearn.preprocessing import StandardScaler\r\n",
    "\r\n",
    "import torch"
   ],
   "outputs": [],
   "metadata": {}
  },
  {
   "cell_type": "code",
   "execution_count": 2,
   "source": [
    "inputs = pd.read_csv(\"heart.csv\")\r\n",
    "targets = inputs.pop(\"target\")\r\n",
    "\r\n",
    "inputs = np.array(inputs)\r\n",
    "targets = np.array(targets)\r\n",
    "\r\n",
    "print(inputs)\r\n",
    "print(targets)\r\n"
   ],
   "outputs": [
    {
     "output_type": "stream",
     "name": "stdout",
     "text": [
      "[[63.  1.  3. ...  0.  0.  1.]\n",
      " [37.  1.  2. ...  0.  0.  2.]\n",
      " [41.  0.  1. ...  2.  0.  2.]\n",
      " ...\n",
      " [68.  1.  0. ...  1.  2.  3.]\n",
      " [57.  1.  0. ...  1.  1.  3.]\n",
      " [57.  0.  1. ...  1.  1.  2.]]\n",
      "[1 1 1 1 1 1 1 1 1 1 1 1 1 1 1 1 1 1 1 1 1 1 1 1 1 1 1 1 1 1 1 1 1 1 1 1 1\n",
      " 1 1 1 1 1 1 1 1 1 1 1 1 1 1 1 1 1 1 1 1 1 1 1 1 1 1 1 1 1 1 1 1 1 1 1 1 1\n",
      " 1 1 1 1 1 1 1 1 1 1 1 1 1 1 1 1 1 1 1 1 1 1 1 1 1 1 1 1 1 1 1 1 1 1 1 1 1\n",
      " 1 1 1 1 1 1 1 1 1 1 1 1 1 1 1 1 1 1 1 1 1 1 1 1 1 1 1 1 1 1 1 1 1 1 1 1 1\n",
      " 1 1 1 1 1 1 1 1 1 1 1 1 1 1 1 1 1 0 0 0 0 0 0 0 0 0 0 0 0 0 0 0 0 0 0 0 0\n",
      " 0 0 0 0 0 0 0 0 0 0 0 0 0 0 0 0 0 0 0 0 0 0 0 0 0 0 0 0 0 0 0 0 0 0 0 0 0\n",
      " 0 0 0 0 0 0 0 0 0 0 0 0 0 0 0 0 0 0 0 0 0 0 0 0 0 0 0 0 0 0 0 0 0 0 0 0 0\n",
      " 0 0 0 0 0 0 0 0 0 0 0 0 0 0 0 0 0 0 0 0 0 0 0 0 0 0 0 0 0 0 0 0 0 0 0 0 0\n",
      " 0 0 0 0 0 0 0]\n"
     ]
    }
   ],
   "metadata": {}
  },
  {
   "cell_type": "code",
   "execution_count": 3,
   "source": [
    "inputs_train, inputs_test, targets_train, targets_test = train_test_split(inputs, targets, test_size=0.33)\r\n",
    "\r\n",
    "print(inputs_train.shape, targets_train.shape)\r\n",
    "print(inputs_test.shape, targets_test.shape)\r\n",
    "targets_train"
   ],
   "outputs": [
    {
     "output_type": "stream",
     "name": "stdout",
     "text": [
      "(203, 13) (203,)\n",
      "(100, 13) (100,)\n"
     ]
    },
    {
     "output_type": "execute_result",
     "data": {
      "text/plain": [
       "array([1, 0, 1, 0, 0, 0, 0, 0, 0, 1, 1, 1, 0, 0, 1, 1, 1, 1, 0, 0, 1, 0,\n",
       "       1, 1, 1, 1, 0, 1, 1, 0, 1, 1, 1, 1, 1, 0, 0, 0, 1, 1, 1, 1, 1, 1,\n",
       "       1, 0, 0, 0, 0, 0, 1, 1, 1, 0, 1, 1, 0, 1, 0, 1, 0, 1, 0, 1, 1, 1,\n",
       "       0, 1, 0, 1, 0, 0, 0, 1, 0, 0, 1, 0, 0, 1, 0, 1, 0, 1, 0, 0, 0, 0,\n",
       "       0, 0, 0, 1, 1, 0, 1, 1, 1, 0, 1, 1, 0, 0, 0, 0, 1, 0, 1, 1, 0, 0,\n",
       "       1, 1, 1, 1, 0, 1, 0, 0, 1, 1, 1, 0, 0, 0, 0, 1, 1, 0, 0, 0, 0, 0,\n",
       "       1, 1, 0, 1, 1, 1, 0, 0, 0, 0, 0, 0, 0, 1, 0, 1, 0, 0, 1, 1, 1, 0,\n",
       "       0, 1, 1, 0, 1, 0, 0, 1, 0, 0, 0, 1, 1, 0, 1, 1, 0, 0, 1, 1, 1, 0,\n",
       "       1, 0, 0, 1, 0, 0, 1, 0, 1, 0, 0, 0, 0, 1, 1, 0, 1, 1, 1, 1, 0, 0,\n",
       "       1, 1, 1, 0, 0], dtype=int64)"
      ]
     },
     "metadata": {},
     "execution_count": 3
    }
   ],
   "metadata": {}
  },
  {
   "cell_type": "code",
   "execution_count": 4,
   "source": [
    "inputs_train = StandardScaler().fit_transform(inputs_train)\r\n",
    "inputs_test = StandardScaler().fit_transform(inputs_test)"
   ],
   "outputs": [],
   "metadata": {}
  },
  {
   "cell_type": "code",
   "execution_count": 5,
   "source": [
    "inputs_train = torch.from_numpy(inputs_train.astype(np.float32))\r\n",
    "inputs_test = torch.from_numpy(inputs_test.astype(np.float32))\r\n",
    "targets_train = torch.from_numpy(targets_train.astype(np.float32))\r\n",
    "targets_test = torch.from_numpy(targets_test.astype(np.float32))\r\n"
   ],
   "outputs": [],
   "metadata": {}
  },
  {
   "cell_type": "code",
   "execution_count": 6,
   "source": [
    "targets_train = targets_train.reshape(-1,1)\r\n",
    "targets_test = targets_test.reshape(-1,1)\r\n",
    "targets_test.shape"
   ],
   "outputs": [
    {
     "output_type": "execute_result",
     "data": {
      "text/plain": [
       "torch.Size([100, 1])"
      ]
     },
     "metadata": {},
     "execution_count": 6
    }
   ],
   "metadata": {}
  },
  {
   "cell_type": "code",
   "execution_count": 7,
   "source": [
    "class HeartModel(torch.nn.Module):\r\n",
    "    def __init__(self,input_dim,output_dim):\r\n",
    "        super().__init__()\r\n",
    "        self.linear = torch.nn.Linear(input_dim,output_dim)\r\n",
    "    \r\n",
    "    def forward(self, inputs):\r\n",
    "        targets_pred = torch.sigmoid(self.linear(inputs))\r\n",
    "        return targets_pred"
   ],
   "outputs": [],
   "metadata": {}
  },
  {
   "cell_type": "code",
   "execution_count": 8,
   "source": [
    "#model\r\n",
    "logistic_model = HeartModel(13,1)\r\n"
   ],
   "outputs": [],
   "metadata": {}
  },
  {
   "cell_type": "code",
   "execution_count": 9,
   "source": [
    "#loss function\r\n",
    "loss_fn = torch.nn.BCELoss()"
   ],
   "outputs": [],
   "metadata": {}
  },
  {
   "cell_type": "code",
   "execution_count": 10,
   "source": [
    "#optimizer\r\n",
    "opt = torch.optim.SGD(logistic_model.parameters(), lr = 1e-2)"
   ],
   "outputs": [],
   "metadata": {}
  },
  {
   "cell_type": "code",
   "execution_count": 11,
   "source": [
    "def fit(num_epoch, model, loss_function, optimizer, inputs_train,inputs_test,targets_train, targets_test):\r\n",
    "    for epoch in range(num_epoch):\r\n",
    "        targets_pred = model(inputs_train)\r\n",
    "        \r\n",
    "        loss = loss_function(targets_pred, targets_train)\r\n",
    "        \r\n",
    "        loss.backward()\r\n",
    "        \r\n",
    "        optimizer.step()\r\n",
    "        optimizer.zero_grad()\r\n",
    "        \r\n",
    "        if (epoch+1)%10 == 0:\r\n",
    "            print(\"Epoch: \", epoch+1, \"  Loss: \", loss.item())\r\n",
    "    \r\n",
    "            with torch.no_grad():\r\n",
    "                test_targets_pred = model(inputs_test)\r\n",
    "                test_targets_pred_class = test_targets_pred.round()\r\n",
    "                \r\n",
    "                acc = test_targets_pred_class.eq(targets_test).sum()/len(targets_test)\r\n",
    "                print(\"Accuracy:\" , int(100*acc.item()),\"%\")"
   ],
   "outputs": [],
   "metadata": {}
  },
  {
   "cell_type": "code",
   "execution_count": 12,
   "source": [
    "fit(300, logistic_model, loss_fn, opt, inputs_train, inputs_test, targets_train, targets_test)"
   ],
   "outputs": [
    {
     "output_type": "stream",
     "name": "stdout",
     "text": [
      "Epoch:  10   Loss:  0.6200892329216003\n",
      "Accuracy: 74 %\n",
      "Epoch:  20   Loss:  0.5991184711456299\n",
      "Accuracy: 74 %\n",
      "Epoch:  30   Loss:  0.5804542899131775\n",
      "Accuracy: 75 %\n",
      "Epoch:  40   Loss:  0.5637960433959961\n",
      "Accuracy: 76 %\n",
      "Epoch:  50   Loss:  0.5488828420639038\n",
      "Accuracy: 76 %\n",
      "Epoch:  60   Loss:  0.5354897379875183\n",
      "Accuracy: 79 %\n",
      "Epoch:  70   Loss:  0.5234233736991882\n",
      "Accuracy: 80 %\n",
      "Epoch:  80   Loss:  0.5125175714492798\n",
      "Accuracy: 80 %\n",
      "Epoch:  90   Loss:  0.5026298761367798\n",
      "Accuracy: 81 %\n",
      "Epoch:  100   Loss:  0.4936375021934509\n",
      "Accuracy: 82 %\n",
      "Epoch:  110   Loss:  0.4854351878166199\n",
      "Accuracy: 81 %\n",
      "Epoch:  120   Loss:  0.47793200612068176\n",
      "Accuracy: 81 %\n",
      "Epoch:  130   Loss:  0.47104933857917786\n",
      "Accuracy: 81 %\n",
      "Epoch:  140   Loss:  0.4647192060947418\n",
      "Accuracy: 81 %\n",
      "Epoch:  150   Loss:  0.4588824510574341\n",
      "Accuracy: 81 %\n",
      "Epoch:  160   Loss:  0.45348766446113586\n",
      "Accuracy: 81 %\n",
      "Epoch:  170   Loss:  0.44848981499671936\n",
      "Accuracy: 81 %\n",
      "Epoch:  180   Loss:  0.44384947419166565\n",
      "Accuracy: 81 %\n",
      "Epoch:  190   Loss:  0.43953192234039307\n",
      "Accuracy: 80 %\n",
      "Epoch:  200   Loss:  0.4355068504810333\n",
      "Accuracy: 80 %\n",
      "Epoch:  210   Loss:  0.4317471981048584\n",
      "Accuracy: 80 %\n",
      "Epoch:  220   Loss:  0.42822903394699097\n",
      "Accuracy: 80 %\n",
      "Epoch:  230   Loss:  0.4249311089515686\n",
      "Accuracy: 80 %\n",
      "Epoch:  240   Loss:  0.4218345880508423\n",
      "Accuracy: 80 %\n",
      "Epoch:  250   Loss:  0.4189225137233734\n",
      "Accuracy: 81 %\n",
      "Epoch:  260   Loss:  0.41617974638938904\n",
      "Accuracy: 81 %\n",
      "Epoch:  270   Loss:  0.41359275579452515\n",
      "Accuracy: 81 %\n",
      "Epoch:  280   Loss:  0.411149263381958\n",
      "Accuracy: 81 %\n",
      "Epoch:  290   Loss:  0.4088383615016937\n",
      "Accuracy: 81 %\n",
      "Epoch:  300   Loss:  0.40664994716644287\n",
      "Accuracy: 81 %\n"
     ]
    }
   ],
   "metadata": {}
  }
 ],
 "metadata": {
  "orig_nbformat": 4,
  "language_info": {
   "name": "python",
   "version": "3.9.1",
   "mimetype": "text/x-python",
   "codemirror_mode": {
    "name": "ipython",
    "version": 3
   },
   "pygments_lexer": "ipython3",
   "nbconvert_exporter": "python",
   "file_extension": ".py"
  },
  "kernelspec": {
   "name": "python3",
   "display_name": "Python 3.9.1 64-bit"
  },
  "interpreter": {
   "hash": "2f97e602bf3efd1202fb41503b5059ddd336053f3958a92ca7b4a7a1e22459bb"
  }
 },
 "nbformat": 4,
 "nbformat_minor": 2
}
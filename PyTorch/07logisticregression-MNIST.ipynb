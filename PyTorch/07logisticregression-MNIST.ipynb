{
 "cells": [
  {
   "cell_type": "code",
   "execution_count": 2,
   "source": [
    "import torch\r\n",
    "import torchvision"
   ],
   "outputs": [],
   "metadata": {}
  },
  {
   "cell_type": "code",
   "execution_count": 3,
   "source": [
    "dataset = torchvision.datasets.MNIST(root=\"./data\", train=True, download=True, transform=torchvision.transforms.ToTensor())\r\n"
   ],
   "outputs": [
    {
     "output_type": "stream",
     "name": "stderr",
     "text": [
      "C:\\Users\\ashua\\AppData\\Local\\Programs\\Python\\Python39\\lib\\site-packages\\torchvision\\datasets\\mnist.py:498: UserWarning: The given NumPy array is not writeable, and PyTorch does not support non-writeable tensors. This means you can write to the underlying (supposedly non-writeable) NumPy array using the tensor. You may want to copy the array to protect its data or make it writeable before converting it to a tensor. This type of warning will be suppressed for the rest of this program. (Triggered internally at  ..\\torch\\csrc\\utils\\tensor_numpy.cpp:180.)\n",
      "  return torch.from_numpy(parsed.astype(m[2], copy=False)).view(*s)\n"
     ]
    }
   ],
   "metadata": {}
  },
  {
   "cell_type": "code",
   "execution_count": 14,
   "source": [
    "train_ds, val_ds = torch.utils.data.random_split(dataset, [50000, 10000])\r\n",
    "\r\n",
    "print(len(train_ds), len(val_ds))\r\n",
    "\r\n"
   ],
   "outputs": [
    {
     "output_type": "stream",
     "name": "stdout",
     "text": [
      "50000 10000\n"
     ]
    },
    {
     "output_type": "execute_result",
     "data": {
      "text/plain": [
       "torch.utils.data.dataset.Subset"
      ]
     },
     "metadata": {},
     "execution_count": 14
    }
   ],
   "metadata": {}
  },
  {
   "cell_type": "code",
   "execution_count": 5,
   "source": [
    "from torch.utils.data.dataloader import DataLoader\r\n",
    "\r\n",
    "batch_size = 100\r\n",
    "\r\n",
    "train_dl = DataLoader(train_ds, batch_size)\r\n",
    "val_dl = DataLoader(val_ds, batch_size)"
   ],
   "outputs": [],
   "metadata": {}
  },
  {
   "cell_type": "code",
   "execution_count": 6,
   "source": [
    "input_size = 28*28\r\n",
    "num_classes = 10\r\n",
    "\r\n",
    "class MnistModel(torch.nn.Module):\r\n",
    "    def __init__(self):\r\n",
    "        super().__init__()\r\n",
    "        self.linear = torch.nn.Linear(input_size, num_classes)\r\n",
    "        \r\n",
    "    def forward(self, image):\r\n",
    "        image = image.reshape(-1,784)\r\n",
    "        return self.linear(image)\r\n",
    "    \r\n",
    "    def training_step(self, batch):\r\n",
    "        images, labels = batch \r\n",
    "        out = self(images)\r\n",
    "        loss = torch.nn.functional.cross_entropy(out, labels) \r\n",
    "        return loss\r\n",
    "\r\n",
    "    def validation_step(self, batch):\r\n",
    "        images, labels = batch \r\n",
    "        out = self(images)                    \r\n",
    "        loss = torch.nn.functional.cross_entropy(out, labels)   \r\n",
    "        acc = accuracy(out, labels)           \r\n",
    "        return {'loss': loss, 'accuracy': acc}\r\n",
    "    \r\n",
    "    def validation_epoch_end(self, outputs):\r\n",
    "        batch_losses = [x['loss'] for x in outputs]\r\n",
    "        epoch_loss = torch.stack(batch_losses).mean()\r\n",
    "        batch_accuracy = [x['accuracy'] for x in outputs]\r\n",
    "        epoch_accuracy = torch.stack(batch_accuracy).mean()\r\n",
    "        return {'loss': epoch_loss.item(), 'accuracy': epoch_accuracy.item()}\r\n",
    "        \r\n",
    "    def epoch_end(self, epoch, result):\r\n",
    "        print(\"Epoch [{}], loss: {:.4f}, accuracy: {:.4f}\".format(epoch, result['loss'], result['accuracy']))\r\n",
    "        \r\n",
    "model = MnistModel()    \r\n",
    "\r\n",
    "print(model.linear.weight.shape,model.linear.bias.shape)\r\n",
    "list(model.parameters())"
   ],
   "outputs": [
    {
     "output_type": "stream",
     "name": "stdout",
     "text": [
      "torch.Size([10, 784]) torch.Size([10])\n"
     ]
    },
    {
     "output_type": "execute_result",
     "data": {
      "text/plain": [
       "[Parameter containing:\n",
       " tensor([[-0.0194,  0.0319,  0.0357,  ...,  0.0130, -0.0153,  0.0258],\n",
       "         [-0.0199, -0.0257, -0.0349,  ...,  0.0053,  0.0055,  0.0214],\n",
       "         [-0.0061,  0.0021, -0.0293,  ..., -0.0231,  0.0332,  0.0060],\n",
       "         ...,\n",
       "         [-0.0228,  0.0357,  0.0330,  ..., -0.0348,  0.0201, -0.0230],\n",
       "         [ 0.0176,  0.0059,  0.0241,  ..., -0.0212,  0.0346,  0.0204],\n",
       "         [-0.0039,  0.0188, -0.0255,  ..., -0.0243, -0.0028, -0.0080]],\n",
       "        requires_grad=True),\n",
       " Parameter containing:\n",
       " tensor([-0.0055, -0.0251, -0.0303, -0.0007, -0.0226, -0.0210, -0.0090, -0.0056,\n",
       "         -0.0182,  0.0085], requires_grad=True)]"
      ]
     },
     "metadata": {},
     "execution_count": 6
    }
   ],
   "metadata": {}
  },
  {
   "cell_type": "code",
   "execution_count": 7,
   "source": [
    "for images, label in train_dl:\r\n",
    "    print(images.shape)\r\n",
    "    outputs = model(images)\r\n",
    "    break"
   ],
   "outputs": [
    {
     "output_type": "stream",
     "name": "stdout",
     "text": [
      "torch.Size([100, 1, 28, 28])\n"
     ]
    }
   ],
   "metadata": {}
  },
  {
   "cell_type": "code",
   "execution_count": 8,
   "source": [
    "def accuracy(outputs, label):\r\n",
    "    preds = torch.max(outputs, dim=1)\r\n",
    "\r\n",
    "    return (sum(preds[1] == label)/ len(label))\r\n",
    "\r\n",
    "print(accuracy(outputs,label))"
   ],
   "outputs": [
    {
     "output_type": "stream",
     "name": "stdout",
     "text": [
      "tensor(0.0800)\n"
     ]
    }
   ],
   "metadata": {}
  },
  {
   "cell_type": "code",
   "execution_count": 9,
   "source": [
    "def fit(epochs, lr, model, train_loader, val_loader, opt_func=torch.optim.SGD):\r\n",
    "    optimizer = opt_func(model.parameters(), lr)\r\n",
    "    history = [] \r\n",
    "    \r\n",
    "    for epoch in range(epochs):\r\n",
    "        \r\n",
    "        for batch in train_loader:\r\n",
    "            loss = model.training_step(batch)\r\n",
    "            \r\n",
    "            loss.backward()\r\n",
    "            \r\n",
    "            optimizer.step()\r\n",
    "            optimizer.zero_grad()\r\n",
    "        \r\n",
    "        result = evaluate(model, val_loader)\r\n",
    "        model.epoch_end(epoch, result)\r\n",
    "        history.append(result)\r\n",
    "\r\n",
    "    return history"
   ],
   "outputs": [],
   "metadata": {}
  },
  {
   "cell_type": "code",
   "execution_count": 10,
   "source": [
    "def evaluate(model, val_loader):\r\n",
    "    outputs = [model.validation_step(batch) for batch in val_loader]\r\n",
    "    return model.validation_epoch_end(outputs)"
   ],
   "outputs": [],
   "metadata": {}
  },
  {
   "cell_type": "code",
   "execution_count": 11,
   "source": [
    "result0 = evaluate(model, val_dl)\r\n",
    "print(result0)"
   ],
   "outputs": [
    {
     "output_type": "stream",
     "name": "stdout",
     "text": [
      "{'loss': 2.301473379135132, 'accuracy': 0.10029999911785126}\n"
     ]
    }
   ],
   "metadata": {}
  },
  {
   "cell_type": "code",
   "execution_count": 12,
   "source": [
    "history1 = fit(3, 0.001, model, train_dl, val_dl)"
   ],
   "outputs": [
    {
     "output_type": "stream",
     "name": "stdout",
     "text": [
      "Epoch [0], loss: 1.8642, accuracy: 0.6398\n",
      "Epoch [1], loss: 1.5652, accuracy: 0.7357\n",
      "Epoch [2], loss: 1.3576, accuracy: 0.7731\n"
     ]
    }
   ],
   "metadata": {}
  },
  {
   "cell_type": "code",
   "execution_count": 13,
   "source": [
    "from PIL import Image\r\n",
    "test_dataset = torchvision.datasets.MNIST(root=\"./data\", train=False)\r\n",
    "\r\n",
    "x=4\r\n",
    "\r\n",
    "\r\n",
    "img, label = test_dataset[x]\r\n",
    "img.resize((280,280)).show()\r\n",
    "\r\n",
    "test_dataset = torchvision.datasets.MNIST(root=\"./data\", train=False, transform=torchvision.transforms.ToTensor())\r\n",
    "\r\n",
    "def predict_image(img, model):\r\n",
    "    xb = img.unsqueeze(0)\r\n",
    "    yb = model(xb)\r\n",
    "    print(yb)\r\n",
    "    _, preds = torch.max(yb, dim=1)\r\n",
    "    print(preds)\r\n",
    "    print(_)\r\n",
    "    return preds[0].item()\r\n",
    "\r\n",
    "img, label = test_dataset[x]\r\n",
    "predict_image(img, model)\r\n"
   ],
   "outputs": [
    {
     "output_type": "stream",
     "name": "stdout",
     "text": [
      "tensor([[-0.0595, -1.3121,  0.4483, -0.5267,  0.9997, -0.2762,  0.1878,  0.3818,\n",
      "          0.1153,  0.6561]], grad_fn=<AddmmBackward>)\n",
      "tensor([4])\n",
      "tensor([0.9997], grad_fn=<MaxBackward0>)\n"
     ]
    },
    {
     "output_type": "execute_result",
     "data": {
      "text/plain": [
       "4"
      ]
     },
     "metadata": {},
     "execution_count": 13
    }
   ],
   "metadata": {}
  }
 ],
 "metadata": {
  "orig_nbformat": 4,
  "language_info": {
   "name": "python",
   "version": "3.9.1",
   "mimetype": "text/x-python",
   "codemirror_mode": {
    "name": "ipython",
    "version": 3
   },
   "pygments_lexer": "ipython3",
   "nbconvert_exporter": "python",
   "file_extension": ".py"
  },
  "kernelspec": {
   "name": "python3",
   "display_name": "Python 3.9.1 64-bit"
  },
  "interpreter": {
   "hash": "2f97e602bf3efd1202fb41503b5059ddd336053f3958a92ca7b4a7a1e22459bb"
  }
 },
 "nbformat": 4,
 "nbformat_minor": 2
}
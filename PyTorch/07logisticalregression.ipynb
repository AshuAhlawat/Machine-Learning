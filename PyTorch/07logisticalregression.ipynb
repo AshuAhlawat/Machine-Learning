{
 "cells": [
  {
   "cell_type": "code",
   "execution_count": null,
   "source": [
    "import torch\r\n",
    "import torchvision"
   ],
   "outputs": [],
   "metadata": {}
  },
  {
   "cell_type": "code",
   "execution_count": null,
   "source": [
    "dataset = torchvision.datasets.MNIST(root=\"./data\", train=True, download=True, transform=torchvision.transforms.ToTensor())\r\n"
   ],
   "outputs": [],
   "metadata": {}
  },
  {
   "cell_type": "code",
   "execution_count": null,
   "source": [
    "train_ds, val_ds = torch.utils.data.random_split(dataset, [50000, 10000])\r\n",
    "\r\n",
    "print(len(train_ds), len(val_ds))"
   ],
   "outputs": [],
   "metadata": {}
  },
  {
   "cell_type": "code",
   "execution_count": null,
   "source": [
    "from torch.utils.data.dataloader import DataLoader\r\n",
    "\r\n",
    "batch_size = 100\r\n",
    "\r\n",
    "train_dl = DataLoader(train_ds, batch_size)\r\n",
    "val_dl = DataLoader(val_ds, batch_size)"
   ],
   "outputs": [],
   "metadata": {}
  },
  {
   "cell_type": "code",
   "execution_count": null,
   "source": [
    "input_size = 28*28\r\n",
    "num_classes = 10\r\n",
    "\r\n",
    "class MnistModel(torch.nn.Module):\r\n",
    "    def __init__(self):\r\n",
    "        super().__init__()\r\n",
    "        self.linear = torch.nn.Linear(input_size, num_classes)\r\n",
    "        \r\n",
    "    def forward(self, image):\r\n",
    "        image = image.reshape(-1,784)\r\n",
    "        return self.linear(image)\r\n",
    "    \r\n",
    "    def training_step(self, batch):\r\n",
    "        images, labels = batch \r\n",
    "        out = self(images)\r\n",
    "        loss = torch.nn.functional.cross_entropy(out, labels) \r\n",
    "        return loss\r\n",
    "\r\n",
    "    def validation_step(self, batch):\r\n",
    "        images, labels = batch \r\n",
    "        out = self(images)                    \r\n",
    "        loss = torch.nn.functional.cross_entropy(out, labels)   \r\n",
    "        acc = accuracy(out, labels)           \r\n",
    "        return {'loss': loss, 'accuracy': acc}\r\n",
    "    \r\n",
    "    def validation_epoch_end(self, outputs):\r\n",
    "        batch_losses = [x['loss'] for x in outputs]\r\n",
    "        epoch_loss = torch.stack(batch_losses).mean()\r\n",
    "        batch_accuracy = [x['accuracy'] for x in outputs]\r\n",
    "        epoch_accuracy = torch.stack(batch_accuracy).mean()\r\n",
    "        return {'loss': epoch_loss.item(), 'accuracy': epoch_accuracy.item()}\r\n",
    "        \r\n",
    "    def epoch_end(self, epoch, result):\r\n",
    "        print(\"Epoch [{}], loss: {:.4f}, accuracy: {:.4f}\".format(epoch, result['loss'], result['accuracy']))\r\n",
    "        \r\n",
    "model = MnistModel()    \r\n",
    "\r\n",
    "print(model.linear.weight.shape,model.linear.bias.shape)\r\n",
    "list(model.parameters())"
   ],
   "outputs": [],
   "metadata": {}
  },
  {
   "cell_type": "code",
   "execution_count": null,
   "source": [
    "for images, label in train_dl:\r\n",
    "    print(images.shape)\r\n",
    "    outputs = model(images)\r\n",
    "    break"
   ],
   "outputs": [],
   "metadata": {}
  },
  {
   "cell_type": "code",
   "execution_count": null,
   "source": [
    "def accuracy(outputs, label):\r\n",
    "    preds = torch.max(outputs, dim=1)\r\n",
    "\r\n",
    "    return (sum(preds[1] == label)/ len(label))\r\n",
    "\r\n",
    "print(accuracy(outputs,label))"
   ],
   "outputs": [],
   "metadata": {}
  },
  {
   "cell_type": "code",
   "execution_count": null,
   "source": [
    "def fit(epochs, lr, model, train_loader, val_loader, opt_func=torch.optim.SGD):\r\n",
    "    optimizer = opt_func(model.parameters(), lr)\r\n",
    "    history = [] \r\n",
    "    \r\n",
    "    for epoch in range(epochs):\r\n",
    "        \r\n",
    "        for batch in train_loader:\r\n",
    "            loss = model.training_step(batch)\r\n",
    "            \r\n",
    "            loss.backward()\r\n",
    "            \r\n",
    "            optimizer.step()\r\n",
    "            optimizer.zero_grad()\r\n",
    "        \r\n",
    "        result = evaluate(model, val_loader)\r\n",
    "        model.epoch_end(epoch, result)\r\n",
    "        history.append(result)\r\n",
    "\r\n",
    "    return history"
   ],
   "outputs": [],
   "metadata": {}
  },
  {
   "cell_type": "code",
   "execution_count": null,
   "source": [
    "def evaluate(model, val_loader):\r\n",
    "    outputs = [model.validation_step(batch) for batch in val_loader]\r\n",
    "    return model.validation_epoch_end(outputs)"
   ],
   "outputs": [],
   "metadata": {}
  },
  {
   "cell_type": "code",
   "execution_count": null,
   "source": [
    "result0 = evaluate(model, val_dl)\r\n",
    "print(result0)"
   ],
   "outputs": [],
   "metadata": {}
  },
  {
   "cell_type": "code",
   "execution_count": null,
   "source": [
    "history1 = fit(3, 0.001, model, train_dl, val_dl)"
   ],
   "outputs": [],
   "metadata": {}
  },
  {
   "cell_type": "code",
   "execution_count": 192,
   "source": [
    "from PIL import Image\r\n",
    "test_dataset = torchvision.datasets.MNIST(root=\"./data\", train=False)\r\n",
    "\r\n",
    "x=9\r\n",
    "\r\n",
    "\r\n",
    "img, label = test_dataset[x]\r\n",
    "img.resize((280,280)).show()\r\n",
    "\r\n",
    "test_dataset = torchvision.datasets.MNIST(root=\"./data\", train=False, transform=torchvision.transforms.ToTensor())\r\n",
    "\r\n",
    "def predict_image(img, model):\r\n",
    "    xb = img.unsqueeze(0)\r\n",
    "    yb = model(xb)\r\n",
    "    _, preds = torch.max(yb, dim=1)\r\n",
    "    return preds[0].item()\r\n",
    "\r\n",
    "img, label = test_dataset[x]\r\n",
    "predict_image(img, model)\r\n"
   ],
   "outputs": [
    {
     "output_type": "execute_result",
     "data": {
      "text/plain": [
       "1"
      ]
     },
     "metadata": {},
     "execution_count": 192
    }
   ],
   "metadata": {}
  }
 ],
 "metadata": {
  "orig_nbformat": 4,
  "language_info": {
   "name": "python"
  }
 },
 "nbformat": 4,
 "nbformat_minor": 2
}
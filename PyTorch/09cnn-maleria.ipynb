{
  "nbformat": 4,
  "nbformat_minor": 2,
  "metadata": {
    "colab": {
      "name": "09cnn01maleria.ipynb",
      "provenance": [],
      "collapsed_sections": []
    },
    "kernelspec": {
      "name": "python3",
      "display_name": "Python 3.9.1 64-bit"
    },
    "language_info": {
      "name": "python",
      "version": "3.9.1",
      "mimetype": "text/x-python",
      "codemirror_mode": {
        "name": "ipython",
        "version": 3
      },
      "pygments_lexer": "ipython3",
      "nbconvert_exporter": "python",
      "file_extension": ".py"
    },
    "accelerator": "GPU",
    "interpreter": {
      "hash": "2f97e602bf3efd1202fb41503b5059ddd336053f3958a92ca7b4a7a1e22459bb"
    }
  },
  "cells": [
    {
      "cell_type": "code",
      "execution_count": 1,
      "source": [
        "# from google.colab import drive\r\n",
        "# drive.mount(\"/content/drive/\", force_remount=True)"
      ],
      "outputs": [],
      "metadata": {
        "id": "ED5V7ft0e8qO"
      }
    },
    {
      "cell_type": "code",
      "execution_count": 2,
      "source": [
        "# import zipfile\r\n",
        "\r\n",
        "# with zipfile.ZipFile(\"./drive/MyDrive/cell_images.zip\") as f:\r\n",
        "#   f.extractall(\"./data\")"
      ],
      "outputs": [],
      "metadata": {
        "id": "2LazNH58WeJe"
      }
    },
    {
      "cell_type": "code",
      "execution_count": 3,
      "source": [
        "import torchvision\r\n",
        "import os\r\n",
        "\r\n",
        "os.listdir(\".\")\r\n",
        "\r\n",
        "data_dir = \"./data/cell_images\"\r\n",
        "\r\n",
        "dataset = torchvision.datasets.ImageFolder(data_dir, transform = torchvision.transforms.ToTensor())\r\n",
        "\r\n",
        "print(len(dataset))\r\n",
        "print(dataset.classes)\r\n",
        "print(dataset[0][0].shape, dataset[0][1])"
      ],
      "outputs": [
        {
          "output_type": "stream",
          "name": "stdout",
          "text": [
            "27500\n",
            "['infected', 'uninfected']\n",
            "torch.Size([3, 64, 64]) 0\n"
          ]
        }
      ],
      "metadata": {
        "colab": {
          "base_uri": "https://localhost:8080/"
        },
        "id": "OYh2x5sriITe",
        "outputId": "cb8414f0-8eae-4833-c79a-3c0a39de55af"
      }
    },
    {
      "cell_type": "code",
      "execution_count": 4,
      "source": [
        "from torch.utils.data import random_split\r\n",
        "from torch.utils.data.dataloader import DataLoader\r\n",
        "\r\n",
        "train_ds, test_ds = random_split(dataset, [25000, 2500])\r\n",
        "\r\n",
        "train_dl = DataLoader(train_ds,100)\r\n",
        "test_dl = DataLoader(test_ds,100)"
      ],
      "outputs": [],
      "metadata": {
        "id": "6B6GYcOXebDY"
      }
    },
    {
      "cell_type": "code",
      "execution_count": 5,
      "source": [
        "import torch\r\n",
        "import torch.nn as nn\r\n",
        "\r\n",
        "class MaleriaModel(nn.Module):\r\n",
        "  def __init__(self):\r\n",
        "    super().__init__()\r\n",
        "\r\n",
        "    self.network= nn.Sequential(\r\n",
        "        # 3 64 64\r\n",
        "        nn.Conv2d(3,32,kernel_size=3, stride=1, padding=1),\r\n",
        "        nn.ReLU(),\r\n",
        "        nn.MaxPool2d(2,2),\r\n",
        "        # 32 32 32\r\n",
        "        nn.Conv2d(32,64,kernel_size=3, stride=1, padding=1),\r\n",
        "        nn.ReLU(),\r\n",
        "        nn.MaxPool2d(2,2),\r\n",
        "        # 64 16 16\r\n",
        "        nn.Conv2d(64,128,kernel_size=3, stride=1, padding=1),\r\n",
        "        nn.ReLU(),\r\n",
        "        nn.MaxPool2d(2,2),\r\n",
        "\r\n",
        "        nn.Conv2d(128,128,kernel_size=3, stride=1, padding=1),\r\n",
        "        nn.ReLU(),\r\n",
        "        nn.MaxPool2d(2,2),\r\n",
        "        # 128 4 4\r\n",
        "        nn.Flatten(),\r\n",
        "        # 128*4*4\r\n",
        "        nn.Linear(128*4*4,128),\r\n",
        "        nn.ReLU(),\r\n",
        "        # 128\r\n",
        "        nn.Linear(128,16),\r\n",
        "        nn.ReLU(),\r\n",
        "\r\n",
        "        nn.Linear(16,2),\r\n",
        "        # 2\r\n",
        "    )\r\n",
        "\r\n",
        "  def forward(self,inputs):\r\n",
        "\r\n",
        "    out = self.network(inputs)\r\n",
        "    return torch.softmax(out, dim=-1)"
      ],
      "outputs": [],
      "metadata": {
        "id": "Gs8JVmtV8NkJ"
      }
    },
    {
      "cell_type": "code",
      "execution_count": 6,
      "source": [
        "device = torch.device(\"cuda\" if torch.cuda.is_available() else \"cpu\")\r\n",
        "print(device)\r\n",
        "\r\n",
        "model = MaleriaModel().to(device)\r\n",
        "loss_fn = torch.nn.BCELoss()\r\n",
        "opt = torch.optim.SGD(model.parameters(), lr = 3e-2)"
      ],
      "outputs": [
        {
          "output_type": "stream",
          "name": "stdout",
          "text": [
            "cpu\n"
          ]
        }
      ],
      "metadata": {
        "colab": {
          "base_uri": "https://localhost:8080/"
        },
        "id": "iQAyXvyRyP81",
        "outputId": "a5dce478-e7c5-44dd-ab6e-883d4996f152"
      }
    },
    {
      "cell_type": "code",
      "execution_count": 7,
      "source": [
        "\r\n",
        "# Trained in google colab for about 20 epochs, got 95% accuracy\r\n",
        "\r\n",
        "import numpy as np\r\n",
        "\r\n",
        "def fit(epochs):\r\n",
        "  for epoch in range(epochs):\r\n",
        "    print(\"Epoch: \",epoch)\r\n",
        "    for image_batch, label_batch in train_dl:\r\n",
        "\r\n",
        "      targets = []\r\n",
        "      for label in label_batch:\r\n",
        "        x = np.zeros(2)\r\n",
        "        x[int(label)]=1\r\n",
        "        targets.append(x.astype(np.float32))\r\n",
        "\r\n",
        "      targets = torch.tensor(targets)\r\n",
        "      preds = model(image_batch.to(device))\r\n",
        "      \r\n",
        "      loss = loss_fn(preds.to(device), targets.to(device))\r\n",
        "      loss.backward()\r\n",
        "\r\n",
        "      opt.step()\r\n",
        "      opt.zero_grad()\r\n",
        "\r\n",
        "    print(\"Loss: \",loss.item())\r\n",
        "\r\n",
        "    with torch.no_grad():\r\n",
        "      correct = 0\r\n",
        "      for image_batch,label_batch in test_dl:\r\n",
        "\r\n",
        "        preds = model(image_batch.to(device))\r\n",
        "        preds_cls = []\r\n",
        "        for i in range(len(label_batch)):\r\n",
        "          if (round(preds[i][label_batch[i]].item()) == 1):\r\n",
        "            correct+=1\r\n",
        "      \r\n",
        "      acc = correct/len(test_ds)\r\n",
        "      print(\"Accuracy: \",round(acc*100,1))\r\n",
        "\r\n",
        "# fit(20)"
      ],
      "outputs": [],
      "metadata": {
        "colab": {
          "base_uri": "https://localhost:8080/"
        },
        "id": "yHCRIepHYPkp",
        "outputId": "9c2ab861-ac48-47fc-d7b6-a2eab3dba9cc"
      }
    },
    {
      "cell_type": "code",
      "execution_count": 8,
      "source": [
        "# loading 96% auurate model weights \r\n",
        "\r\n",
        "model_pred = MaleriaModel()\r\n",
        "try:\r\n",
        "    if torch.cuda.is_available():\r\n",
        "        model_pred.load_state_dict(torch.load(\"./saved_models/MaleriaModel.pth\"))\r\n",
        "    else:\r\n",
        "        model_pred.load_state_dict(torch.load(\"./saved_models/MaleriaModel.pth\",map_location=torch.device(\"cpu\")))\r\n",
        "except Exception as e:\r\n",
        "    print(e)\r\n",
        "    print(\"Error Occured in loading saved weights, training for new weights\")\r\n",
        "    fit(20)\r\n"
      ],
      "outputs": [],
      "metadata": {
        "colab": {
          "base_uri": "https://localhost:8080/"
        },
        "id": "4ksN0qhPGajH",
        "outputId": "82c4e50e-56d4-4ab6-e3ae-d29dc15019b5"
      }
    },
    {
      "cell_type": "code",
      "execution_count": 9,
      "source": [
        "\r\n",
        "import matplotlib.pyplot as plt\r\n",
        "from PIL import Image\r\n",
        "\r\n",
        "#Enter image path which you want to predict\r\n",
        "def predict(path_to_image):\r\n",
        "    img = Image.open(path_to_image)\r\n",
        "    \r\n",
        "    if img.size != (64,64):\r\n",
        "        img.resize((64,64))\r\n",
        "\r\n",
        "    img_arr = np.asarray(img)\r\n",
        "    plt.imshow(img_arr)\r\n",
        "    \r\n",
        "    img_arr = img_arr/255\r\n",
        "    \r\n",
        "    img_tensor = torch.Tensor([img_arr])\r\n",
        "    \r\n",
        "    img_tensor = img_tensor.permute(0,3,2,1)\r\n",
        "    \r\n",
        "    pred = model_pred(img_tensor)\r\n",
        "\r\n",
        "    if pred[0][0].item()>=pred[0][1].item():\r\n",
        "        print(\"Infected\")\r\n",
        "    else:\r\n",
        "        print(\"Uninfected\")\r\n"
      ],
      "outputs": [],
      "metadata": {}
    },
    {
      "cell_type": "code",
      "execution_count": 10,
      "source": [
        "predict(\"./data/cell_images/uninfected/1000.png\")"
      ],
      "outputs": [
        {
          "output_type": "stream",
          "name": "stderr",
          "text": [
            "C:\\Users\\ashua\\AppData\\Local\\Programs\\Python\\Python39\\lib\\site-packages\\torch\\nn\\functional.py:718: UserWarning: Named tensors and all their associated APIs are an experimental feature and subject to change. Please do not use them for anything important until they are released as stable. (Triggered internally at  ..\\c10/core/TensorImpl.h:1156.)\n",
            "  return torch.max_pool2d(input, kernel_size, stride, padding, dilation, ceil_mode)\n"
          ]
        },
        {
          "output_type": "stream",
          "name": "stdout",
          "text": [
            "tensor([[0.0060, 0.9940]], grad_fn=<SoftmaxBackward>)\n",
            "Uninfected\n"
          ]
        },
        {
          "output_type": "display_data",
          "data": {
            "text/plain": [
              "<Figure size 432x288 with 1 Axes>"
            ],
            "image/svg+xml": "<?xml version=\"1.0\" encoding=\"utf-8\" standalone=\"no\"?>\r\n<!DOCTYPE svg PUBLIC \"-//W3C//DTD SVG 1.1//EN\"\r\n  \"http://www.w3.org/Graphics/SVG/1.1/DTD/svg11.dtd\">\r\n<!-- Created with matplotlib (https://matplotlib.org/) -->\r\n<svg height=\"250.618594pt\" version=\"1.1\" viewBox=\"0 0 251.565 250.618594\" width=\"251.565pt\" xmlns=\"http://www.w3.org/2000/svg\" xmlns:xlink=\"http://www.w3.org/1999/xlink\">\r\n <metadata>\r\n  <rdf:RDF xmlns:cc=\"http://creativecommons.org/ns#\" xmlns:dc=\"http://purl.org/dc/elements/1.1/\" xmlns:rdf=\"http://www.w3.org/1999/02/22-rdf-syntax-ns#\">\r\n   <cc:Work>\r\n    <dc:type rdf:resource=\"http://purl.org/dc/dcmitype/StillImage\"/>\r\n    <dc:date>2021-08-25T04:15:29.307839</dc:date>\r\n    <dc:format>image/svg+xml</dc:format>\r\n    <dc:creator>\r\n     <cc:Agent>\r\n      <dc:title>Matplotlib v3.3.4, https://matplotlib.org/</dc:title>\r\n     </cc:Agent>\r\n    </dc:creator>\r\n   </cc:Work>\r\n  </rdf:RDF>\r\n </metadata>\r\n <defs>\r\n  <style type=\"text/css\">*{stroke-linecap:butt;stroke-linejoin:round;}</style>\r\n </defs>\r\n <g id=\"figure_1\">\r\n  <g id=\"patch_1\">\r\n   <path d=\"M 0 250.618594 \r\nL 251.565 250.618594 \r\nL 251.565 0 \r\nL 0 0 \r\nz\r\n\" style=\"fill:none;\"/>\r\n  </g>\r\n  <g id=\"axes_1\">\r\n   <g id=\"patch_2\">\r\n    <path d=\"M 26.925 226.740469 \r\nL 244.365 226.740469 \r\nL 244.365 9.300469 \r\nL 26.925 9.300469 \r\nz\r\n\" style=\"fill:#ffffff;\"/>\r\n   </g>\r\n   <g clip-path=\"url(#p76ec5a2b0b)\">\r\n    <image height=\"218\" id=\"image8c7592ad12\" transform=\"scale(1 -1)translate(0 -218)\" width=\"218\" x=\"26.925\" xlink:href=\"data:image/png;base64,\r\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\" y=\"-8.740469\"/>\r\n   </g>\r\n   <g id=\"matplotlib.axis_1\">\r\n    <g id=\"xtick_1\">\r\n     <g id=\"line2d_1\">\r\n      <defs>\r\n       <path d=\"M 0 0 \r\nL 0 3.5 \r\n\" id=\"md9f60afabc\" style=\"stroke:#000000;stroke-width:0.8;\"/>\r\n      </defs>\r\n      <g>\r\n       <use style=\"stroke:#000000;stroke-width:0.8;\" x=\"28.62375\" xlink:href=\"#md9f60afabc\" y=\"226.740469\"/>\r\n      </g>\r\n     </g>\r\n     <g id=\"text_1\">\r\n      <!-- 0 -->\r\n      <g transform=\"translate(25.4425 241.338906)scale(0.1 -0.1)\">\r\n       <defs>\r\n        <path d=\"M 31.78125 66.40625 \r\nQ 24.171875 66.40625 20.328125 58.90625 \r\nQ 16.5 51.421875 16.5 36.375 \r\nQ 16.5 21.390625 20.328125 13.890625 \r\nQ 24.171875 6.390625 31.78125 6.390625 \r\nQ 39.453125 6.390625 43.28125 13.890625 \r\nQ 47.125 21.390625 47.125 36.375 \r\nQ 47.125 51.421875 43.28125 58.90625 \r\nQ 39.453125 66.40625 31.78125 66.40625 \r\nz\r\nM 31.78125 74.21875 \r\nQ 44.046875 74.21875 50.515625 64.515625 \r\nQ 56.984375 54.828125 56.984375 36.375 \r\nQ 56.984375 17.96875 50.515625 8.265625 \r\nQ 44.046875 -1.421875 31.78125 -1.421875 \r\nQ 19.53125 -1.421875 13.0625 8.265625 \r\nQ 6.59375 17.96875 6.59375 36.375 \r\nQ 6.59375 54.828125 13.0625 64.515625 \r\nQ 19.53125 74.21875 31.78125 74.21875 \r\nz\r\n\" id=\"DejaVuSans-48\"/>\r\n       </defs>\r\n       <use xlink:href=\"#DejaVuSans-48\"/>\r\n      </g>\r\n     </g>\r\n    </g>\r\n    <g id=\"xtick_2\">\r\n     <g id=\"line2d_2\">\r\n      <g>\r\n       <use style=\"stroke:#000000;stroke-width:0.8;\" x=\"62.59875\" xlink:href=\"#md9f60afabc\" y=\"226.740469\"/>\r\n      </g>\r\n     </g>\r\n     <g id=\"text_2\">\r\n      <!-- 10 -->\r\n      <g transform=\"translate(56.23625 241.338906)scale(0.1 -0.1)\">\r\n       <defs>\r\n        <path d=\"M 12.40625 8.296875 \r\nL 28.515625 8.296875 \r\nL 28.515625 63.921875 \r\nL 10.984375 60.40625 \r\nL 10.984375 69.390625 \r\nL 28.421875 72.90625 \r\nL 38.28125 72.90625 \r\nL 38.28125 8.296875 \r\nL 54.390625 8.296875 \r\nL 54.390625 0 \r\nL 12.40625 0 \r\nz\r\n\" id=\"DejaVuSans-49\"/>\r\n       </defs>\r\n       <use xlink:href=\"#DejaVuSans-49\"/>\r\n       <use x=\"63.623047\" xlink:href=\"#DejaVuSans-48\"/>\r\n      </g>\r\n     </g>\r\n    </g>\r\n    <g id=\"xtick_3\">\r\n     <g id=\"line2d_3\">\r\n      <g>\r\n       <use style=\"stroke:#000000;stroke-width:0.8;\" x=\"96.57375\" xlink:href=\"#md9f60afabc\" y=\"226.740469\"/>\r\n      </g>\r\n     </g>\r\n     <g id=\"text_3\">\r\n      <!-- 20 -->\r\n      <g transform=\"translate(90.21125 241.338906)scale(0.1 -0.1)\">\r\n       <defs>\r\n        <path d=\"M 19.1875 8.296875 \r\nL 53.609375 8.296875 \r\nL 53.609375 0 \r\nL 7.328125 0 \r\nL 7.328125 8.296875 \r\nQ 12.9375 14.109375 22.625 23.890625 \r\nQ 32.328125 33.6875 34.8125 36.53125 \r\nQ 39.546875 41.84375 41.421875 45.53125 \r\nQ 43.3125 49.21875 43.3125 52.78125 \r\nQ 43.3125 58.59375 39.234375 62.25 \r\nQ 35.15625 65.921875 28.609375 65.921875 \r\nQ 23.96875 65.921875 18.8125 64.3125 \r\nQ 13.671875 62.703125 7.8125 59.421875 \r\nL 7.8125 69.390625 \r\nQ 13.765625 71.78125 18.9375 73 \r\nQ 24.125 74.21875 28.421875 74.21875 \r\nQ 39.75 74.21875 46.484375 68.546875 \r\nQ 53.21875 62.890625 53.21875 53.421875 \r\nQ 53.21875 48.921875 51.53125 44.890625 \r\nQ 49.859375 40.875 45.40625 35.40625 \r\nQ 44.1875 33.984375 37.640625 27.21875 \r\nQ 31.109375 20.453125 19.1875 8.296875 \r\nz\r\n\" id=\"DejaVuSans-50\"/>\r\n       </defs>\r\n       <use xlink:href=\"#DejaVuSans-50\"/>\r\n       <use x=\"63.623047\" xlink:href=\"#DejaVuSans-48\"/>\r\n      </g>\r\n     </g>\r\n    </g>\r\n    <g id=\"xtick_4\">\r\n     <g id=\"line2d_4\">\r\n      <g>\r\n       <use style=\"stroke:#000000;stroke-width:0.8;\" x=\"130.54875\" xlink:href=\"#md9f60afabc\" y=\"226.740469\"/>\r\n      </g>\r\n     </g>\r\n     <g id=\"text_4\">\r\n      <!-- 30 -->\r\n      <g transform=\"translate(124.18625 241.338906)scale(0.1 -0.1)\">\r\n       <defs>\r\n        <path d=\"M 40.578125 39.3125 \r\nQ 47.65625 37.796875 51.625 33 \r\nQ 55.609375 28.21875 55.609375 21.1875 \r\nQ 55.609375 10.40625 48.1875 4.484375 \r\nQ 40.765625 -1.421875 27.09375 -1.421875 \r\nQ 22.515625 -1.421875 17.65625 -0.515625 \r\nQ 12.796875 0.390625 7.625 2.203125 \r\nL 7.625 11.71875 \r\nQ 11.71875 9.328125 16.59375 8.109375 \r\nQ 21.484375 6.890625 26.8125 6.890625 \r\nQ 36.078125 6.890625 40.9375 10.546875 \r\nQ 45.796875 14.203125 45.796875 21.1875 \r\nQ 45.796875 27.640625 41.28125 31.265625 \r\nQ 36.765625 34.90625 28.71875 34.90625 \r\nL 20.21875 34.90625 \r\nL 20.21875 43.015625 \r\nL 29.109375 43.015625 \r\nQ 36.375 43.015625 40.234375 45.921875 \r\nQ 44.09375 48.828125 44.09375 54.296875 \r\nQ 44.09375 59.90625 40.109375 62.90625 \r\nQ 36.140625 65.921875 28.71875 65.921875 \r\nQ 24.65625 65.921875 20.015625 65.03125 \r\nQ 15.375 64.15625 9.8125 62.3125 \r\nL 9.8125 71.09375 \r\nQ 15.4375 72.65625 20.34375 73.4375 \r\nQ 25.25 74.21875 29.59375 74.21875 \r\nQ 40.828125 74.21875 47.359375 69.109375 \r\nQ 53.90625 64.015625 53.90625 55.328125 \r\nQ 53.90625 49.265625 50.4375 45.09375 \r\nQ 46.96875 40.921875 40.578125 39.3125 \r\nz\r\n\" id=\"DejaVuSans-51\"/>\r\n       </defs>\r\n       <use xlink:href=\"#DejaVuSans-51\"/>\r\n       <use x=\"63.623047\" xlink:href=\"#DejaVuSans-48\"/>\r\n      </g>\r\n     </g>\r\n    </g>\r\n    <g id=\"xtick_5\">\r\n     <g id=\"line2d_5\">\r\n      <g>\r\n       <use style=\"stroke:#000000;stroke-width:0.8;\" x=\"164.52375\" xlink:href=\"#md9f60afabc\" y=\"226.740469\"/>\r\n      </g>\r\n     </g>\r\n     <g id=\"text_5\">\r\n      <!-- 40 -->\r\n      <g transform=\"translate(158.16125 241.338906)scale(0.1 -0.1)\">\r\n       <defs>\r\n        <path d=\"M 37.796875 64.3125 \r\nL 12.890625 25.390625 \r\nL 37.796875 25.390625 \r\nz\r\nM 35.203125 72.90625 \r\nL 47.609375 72.90625 \r\nL 47.609375 25.390625 \r\nL 58.015625 25.390625 \r\nL 58.015625 17.1875 \r\nL 47.609375 17.1875 \r\nL 47.609375 0 \r\nL 37.796875 0 \r\nL 37.796875 17.1875 \r\nL 4.890625 17.1875 \r\nL 4.890625 26.703125 \r\nz\r\n\" id=\"DejaVuSans-52\"/>\r\n       </defs>\r\n       <use xlink:href=\"#DejaVuSans-52\"/>\r\n       <use x=\"63.623047\" xlink:href=\"#DejaVuSans-48\"/>\r\n      </g>\r\n     </g>\r\n    </g>\r\n    <g id=\"xtick_6\">\r\n     <g id=\"line2d_6\">\r\n      <g>\r\n       <use style=\"stroke:#000000;stroke-width:0.8;\" x=\"198.49875\" xlink:href=\"#md9f60afabc\" y=\"226.740469\"/>\r\n      </g>\r\n     </g>\r\n     <g id=\"text_6\">\r\n      <!-- 50 -->\r\n      <g transform=\"translate(192.13625 241.338906)scale(0.1 -0.1)\">\r\n       <defs>\r\n        <path d=\"M 10.796875 72.90625 \r\nL 49.515625 72.90625 \r\nL 49.515625 64.59375 \r\nL 19.828125 64.59375 \r\nL 19.828125 46.734375 \r\nQ 21.96875 47.46875 24.109375 47.828125 \r\nQ 26.265625 48.1875 28.421875 48.1875 \r\nQ 40.625 48.1875 47.75 41.5 \r\nQ 54.890625 34.8125 54.890625 23.390625 \r\nQ 54.890625 11.625 47.5625 5.09375 \r\nQ 40.234375 -1.421875 26.90625 -1.421875 \r\nQ 22.3125 -1.421875 17.546875 -0.640625 \r\nQ 12.796875 0.140625 7.71875 1.703125 \r\nL 7.71875 11.625 \r\nQ 12.109375 9.234375 16.796875 8.0625 \r\nQ 21.484375 6.890625 26.703125 6.890625 \r\nQ 35.15625 6.890625 40.078125 11.328125 \r\nQ 45.015625 15.765625 45.015625 23.390625 \r\nQ 45.015625 31 40.078125 35.4375 \r\nQ 35.15625 39.890625 26.703125 39.890625 \r\nQ 22.75 39.890625 18.8125 39.015625 \r\nQ 14.890625 38.140625 10.796875 36.28125 \r\nz\r\n\" id=\"DejaVuSans-53\"/>\r\n       </defs>\r\n       <use xlink:href=\"#DejaVuSans-53\"/>\r\n       <use x=\"63.623047\" xlink:href=\"#DejaVuSans-48\"/>\r\n      </g>\r\n     </g>\r\n    </g>\r\n    <g id=\"xtick_7\">\r\n     <g id=\"line2d_7\">\r\n      <g>\r\n       <use style=\"stroke:#000000;stroke-width:0.8;\" x=\"232.47375\" xlink:href=\"#md9f60afabc\" y=\"226.740469\"/>\r\n      </g>\r\n     </g>\r\n     <g id=\"text_7\">\r\n      <!-- 60 -->\r\n      <g transform=\"translate(226.11125 241.338906)scale(0.1 -0.1)\">\r\n       <defs>\r\n        <path d=\"M 33.015625 40.375 \r\nQ 26.375 40.375 22.484375 35.828125 \r\nQ 18.609375 31.296875 18.609375 23.390625 \r\nQ 18.609375 15.53125 22.484375 10.953125 \r\nQ 26.375 6.390625 33.015625 6.390625 \r\nQ 39.65625 6.390625 43.53125 10.953125 \r\nQ 47.40625 15.53125 47.40625 23.390625 \r\nQ 47.40625 31.296875 43.53125 35.828125 \r\nQ 39.65625 40.375 33.015625 40.375 \r\nz\r\nM 52.59375 71.296875 \r\nL 52.59375 62.3125 \r\nQ 48.875 64.0625 45.09375 64.984375 \r\nQ 41.3125 65.921875 37.59375 65.921875 \r\nQ 27.828125 65.921875 22.671875 59.328125 \r\nQ 17.53125 52.734375 16.796875 39.40625 \r\nQ 19.671875 43.65625 24.015625 45.921875 \r\nQ 28.375 48.1875 33.59375 48.1875 \r\nQ 44.578125 48.1875 50.953125 41.515625 \r\nQ 57.328125 34.859375 57.328125 23.390625 \r\nQ 57.328125 12.15625 50.6875 5.359375 \r\nQ 44.046875 -1.421875 33.015625 -1.421875 \r\nQ 20.359375 -1.421875 13.671875 8.265625 \r\nQ 6.984375 17.96875 6.984375 36.375 \r\nQ 6.984375 53.65625 15.1875 63.9375 \r\nQ 23.390625 74.21875 37.203125 74.21875 \r\nQ 40.921875 74.21875 44.703125 73.484375 \r\nQ 48.484375 72.75 52.59375 71.296875 \r\nz\r\n\" id=\"DejaVuSans-54\"/>\r\n       </defs>\r\n       <use xlink:href=\"#DejaVuSans-54\"/>\r\n       <use x=\"63.623047\" xlink:href=\"#DejaVuSans-48\"/>\r\n      </g>\r\n     </g>\r\n    </g>\r\n   </g>\r\n   <g id=\"matplotlib.axis_2\">\r\n    <g id=\"ytick_1\">\r\n     <g id=\"line2d_8\">\r\n      <defs>\r\n       <path d=\"M 0 0 \r\nL -3.5 0 \r\n\" id=\"m931764534e\" style=\"stroke:#000000;stroke-width:0.8;\"/>\r\n      </defs>\r\n      <g>\r\n       <use style=\"stroke:#000000;stroke-width:0.8;\" x=\"26.925\" xlink:href=\"#m931764534e\" y=\"10.999219\"/>\r\n      </g>\r\n     </g>\r\n     <g id=\"text_8\">\r\n      <!-- 0 -->\r\n      <g transform=\"translate(13.5625 14.798437)scale(0.1 -0.1)\">\r\n       <use xlink:href=\"#DejaVuSans-48\"/>\r\n      </g>\r\n     </g>\r\n    </g>\r\n    <g id=\"ytick_2\">\r\n     <g id=\"line2d_9\">\r\n      <g>\r\n       <use style=\"stroke:#000000;stroke-width:0.8;\" x=\"26.925\" xlink:href=\"#m931764534e\" y=\"44.974219\"/>\r\n      </g>\r\n     </g>\r\n     <g id=\"text_9\">\r\n      <!-- 10 -->\r\n      <g transform=\"translate(7.2 48.773437)scale(0.1 -0.1)\">\r\n       <use xlink:href=\"#DejaVuSans-49\"/>\r\n       <use x=\"63.623047\" xlink:href=\"#DejaVuSans-48\"/>\r\n      </g>\r\n     </g>\r\n    </g>\r\n    <g id=\"ytick_3\">\r\n     <g id=\"line2d_10\">\r\n      <g>\r\n       <use style=\"stroke:#000000;stroke-width:0.8;\" x=\"26.925\" xlink:href=\"#m931764534e\" y=\"78.949219\"/>\r\n      </g>\r\n     </g>\r\n     <g id=\"text_10\">\r\n      <!-- 20 -->\r\n      <g transform=\"translate(7.2 82.748437)scale(0.1 -0.1)\">\r\n       <use xlink:href=\"#DejaVuSans-50\"/>\r\n       <use x=\"63.623047\" xlink:href=\"#DejaVuSans-48\"/>\r\n      </g>\r\n     </g>\r\n    </g>\r\n    <g id=\"ytick_4\">\r\n     <g id=\"line2d_11\">\r\n      <g>\r\n       <use style=\"stroke:#000000;stroke-width:0.8;\" x=\"26.925\" xlink:href=\"#m931764534e\" y=\"112.924219\"/>\r\n      </g>\r\n     </g>\r\n     <g id=\"text_11\">\r\n      <!-- 30 -->\r\n      <g transform=\"translate(7.2 116.723437)scale(0.1 -0.1)\">\r\n       <use xlink:href=\"#DejaVuSans-51\"/>\r\n       <use x=\"63.623047\" xlink:href=\"#DejaVuSans-48\"/>\r\n      </g>\r\n     </g>\r\n    </g>\r\n    <g id=\"ytick_5\">\r\n     <g id=\"line2d_12\">\r\n      <g>\r\n       <use style=\"stroke:#000000;stroke-width:0.8;\" x=\"26.925\" xlink:href=\"#m931764534e\" y=\"146.899219\"/>\r\n      </g>\r\n     </g>\r\n     <g id=\"text_12\">\r\n      <!-- 40 -->\r\n      <g transform=\"translate(7.2 150.698437)scale(0.1 -0.1)\">\r\n       <use xlink:href=\"#DejaVuSans-52\"/>\r\n       <use x=\"63.623047\" xlink:href=\"#DejaVuSans-48\"/>\r\n      </g>\r\n     </g>\r\n    </g>\r\n    <g id=\"ytick_6\">\r\n     <g id=\"line2d_13\">\r\n      <g>\r\n       <use style=\"stroke:#000000;stroke-width:0.8;\" x=\"26.925\" xlink:href=\"#m931764534e\" y=\"180.874219\"/>\r\n      </g>\r\n     </g>\r\n     <g id=\"text_13\">\r\n      <!-- 50 -->\r\n      <g transform=\"translate(7.2 184.673437)scale(0.1 -0.1)\">\r\n       <use xlink:href=\"#DejaVuSans-53\"/>\r\n       <use x=\"63.623047\" xlink:href=\"#DejaVuSans-48\"/>\r\n      </g>\r\n     </g>\r\n    </g>\r\n    <g id=\"ytick_7\">\r\n     <g id=\"line2d_14\">\r\n      <g>\r\n       <use style=\"stroke:#000000;stroke-width:0.8;\" x=\"26.925\" xlink:href=\"#m931764534e\" y=\"214.849219\"/>\r\n      </g>\r\n     </g>\r\n     <g id=\"text_14\">\r\n      <!-- 60 -->\r\n      <g transform=\"translate(7.2 218.648437)scale(0.1 -0.1)\">\r\n       <use xlink:href=\"#DejaVuSans-54\"/>\r\n       <use x=\"63.623047\" xlink:href=\"#DejaVuSans-48\"/>\r\n      </g>\r\n     </g>\r\n    </g>\r\n   </g>\r\n   <g id=\"patch_3\">\r\n    <path d=\"M 26.925 226.740469 \r\nL 26.925 9.300469 \r\n\" style=\"fill:none;stroke:#000000;stroke-linecap:square;stroke-linejoin:miter;stroke-width:0.8;\"/>\r\n   </g>\r\n   <g id=\"patch_4\">\r\n    <path d=\"M 244.365 226.740469 \r\nL 244.365 9.300469 \r\n\" style=\"fill:none;stroke:#000000;stroke-linecap:square;stroke-linejoin:miter;stroke-width:0.8;\"/>\r\n   </g>\r\n   <g id=\"patch_5\">\r\n    <path d=\"M 26.925 226.740469 \r\nL 244.365 226.740469 \r\n\" style=\"fill:none;stroke:#000000;stroke-linecap:square;stroke-linejoin:miter;stroke-width:0.8;\"/>\r\n   </g>\r\n   <g id=\"patch_6\">\r\n    <path d=\"M 26.925 9.300469 \r\nL 244.365 9.300469 \r\n\" style=\"fill:none;stroke:#000000;stroke-linecap:square;stroke-linejoin:miter;stroke-width:0.8;\"/>\r\n   </g>\r\n  </g>\r\n </g>\r\n <defs>\r\n  <clipPath id=\"p76ec5a2b0b\">\r\n   <rect height=\"217.44\" width=\"217.44\" x=\"26.925\" y=\"9.300469\"/>\r\n  </clipPath>\r\n </defs>\r\n</svg>\r\n",
            "image/png": "[encoded data removed]"
          },
          "metadata": {
            "needs_background": "light"
          }
        }
      ],
      "metadata": {}
    }
  ]
}
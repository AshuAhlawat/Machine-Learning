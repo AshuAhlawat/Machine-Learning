{
  "nbformat": 4,
  "nbformat_minor": 2,
  "metadata": {
    "colab": {
      "name": "09cnn01maleria.ipynb",
      "provenance": [],
      "collapsed_sections": []
    },
    "kernelspec": {
      "name": "python3",
      "display_name": "Python 3.9.1 64-bit"
    },
    "language_info": {
      "name": "python",
      "version": "3.9.1",
      "mimetype": "text/x-python",
      "codemirror_mode": {
        "name": "ipython",
        "version": 3
      },
      "pygments_lexer": "ipython3",
      "nbconvert_exporter": "python",
      "file_extension": ".py"
    },
    "accelerator": "GPU",
    "interpreter": {
      "hash": "2f97e602bf3efd1202fb41503b5059ddd336053f3958a92ca7b4a7a1e22459bb"
    }
  },
  "cells": [
    {
      "cell_type": "code",
      "execution_count": 1,
      "source": [
        "# from google.colab import drive\r\n",
        "# drive.mount(\"/content/drive/\", force_remount=True)"
      ],
      "outputs": [],
      "metadata": {
        "id": "ED5V7ft0e8qO"
      }
    },
    {
      "cell_type": "code",
      "execution_count": 2,
      "source": [
        "# import zipfile\r\n",
        "\r\n",
        "# with zipfile.ZipFile(\"./drive/MyDrive/cell_images.zip\") as f:\r\n",
        "#   f.extractall(\"./data\")"
      ],
      "outputs": [],
      "metadata": {
        "id": "2LazNH58WeJe"
      }
    },
    {
      "cell_type": "code",
      "execution_count": 3,
      "source": [
        "import torchvision\r\n",
        "import os\r\n",
        "\r\n",
        "os.listdir(\".\")\r\n",
        "\r\n",
        "data_dir = \"./data/cell_images\"\r\n",
        "\r\n",
        "dataset = torchvision.datasets.ImageFolder(data_dir, transform = torchvision.transforms.ToTensor())\r\n",
        "\r\n",
        "print(len(dataset))\r\n",
        "print(dataset.classes)\r\n",
        "print(dataset[0][0].shape, dataset[0][1])"
      ],
      "outputs": [
        {
          "output_type": "stream",
          "name": "stdout",
          "text": [
            "27500\n",
            "['infected', 'uninfected']\n",
            "torch.Size([3, 64, 64]) 0\n"
          ]
        }
      ],
      "metadata": {
        "colab": {
          "base_uri": "https://localhost:8080/"
        },
        "id": "OYh2x5sriITe",
        "outputId": "cb8414f0-8eae-4833-c79a-3c0a39de55af"
      }
    },
    {
      "cell_type": "code",
      "execution_count": 4,
      "source": [
        "from torch.utils.data import random_split\r\n",
        "from torch.utils.data.dataloader import DataLoader\r\n",
        "\r\n",
        "train_ds, test_ds = random_split(dataset, [25000, 2500])\r\n",
        "\r\n",
        "train_dl = DataLoader(train_ds,100)\r\n",
        "test_dl = DataLoader(test_ds,100)"
      ],
      "outputs": [],
      "metadata": {
        "id": "6B6GYcOXebDY"
      }
    },
    {
      "cell_type": "code",
      "execution_count": 5,
      "source": [
        "import torch\r\n",
        "import torch.nn as nn\r\n",
        "\r\n",
        "class MaleriaModel(nn.Module):\r\n",
        "  def __init__(self):\r\n",
        "    super().__init__()\r\n",
        "\r\n",
        "    self.network= nn.Sequential(\r\n",
        "        # 3 64 64\r\n",
        "        nn.Conv2d(3,32,kernel_size=3, stride=1, padding=1),\r\n",
        "        nn.ReLU(),\r\n",
        "        nn.MaxPool2d(2,2),\r\n",
        "        # 32 32 32\r\n",
        "        nn.Conv2d(32,64,kernel_size=3, stride=1, padding=1),\r\n",
        "        nn.ReLU(),\r\n",
        "        nn.MaxPool2d(2,2),\r\n",
        "        # 64 16 16\r\n",
        "        nn.Conv2d(64,128,kernel_size=3, stride=1, padding=1),\r\n",
        "        nn.ReLU(),\r\n",
        "        nn.MaxPool2d(2,2),\r\n",
        "\r\n",
        "        nn.Conv2d(128,128,kernel_size=3, stride=1, padding=1),\r\n",
        "        nn.ReLU(),\r\n",
        "        nn.MaxPool2d(2,2),\r\n",
        "        # 128 4 4\r\n",
        "        nn.Flatten(),\r\n",
        "        # 128*4*4\r\n",
        "        nn.Linear(128*4*4,128),\r\n",
        "        nn.ReLU(),\r\n",
        "        # 128\r\n",
        "        nn.Linear(128,16),\r\n",
        "        nn.ReLU(),\r\n",
        "\r\n",
        "        nn.Linear(16,2),\r\n",
        "        # 2\r\n",
        "    )\r\n",
        "\r\n",
        "  def forward(self,inputs):\r\n",
        "\r\n",
        "    out = self.network(inputs)\r\n",
        "    return torch.softmax(out, dim=-1)"
      ],
      "outputs": [],
      "metadata": {
        "id": "Gs8JVmtV8NkJ"
      }
    },
    {
      "cell_type": "code",
      "execution_count": 6,
      "source": [
        "device = torch.device(\"cuda\" if torch.cuda.is_available() else \"cpu\")\r\n",
        "print(device)\r\n",
        "\r\n",
        "model = MaleriaModel().to(device)\r\n",
        "loss_fn = nn.BCELoss()\r\n",
        "opt = torch.optim.SGD(model.parameters(), lr = 3e-2)"
      ],
      "outputs": [
        {
          "output_type": "stream",
          "name": "stdout",
          "text": [
            "cpu\n"
          ]
        }
      ],
      "metadata": {
        "colab": {
          "base_uri": "https://localhost:8080/"
        },
        "id": "iQAyXvyRyP81",
        "outputId": "a5dce478-e7c5-44dd-ab6e-883d4996f152"
      }
    },
    {
      "cell_type": "code",
      "execution_count": 7,
      "source": [
        "\r\n",
        "# Trained in google colab for about 20 epochs, got 95% accuracy\r\n",
        "\r\n",
        "import numpy as np\r\n",
        "\r\n",
        "def fit(epochs):\r\n",
        "  for epoch in range(epochs):\r\n",
        "    print(\"Epoch: \",epoch)\r\n",
        "    for image_batch, label_batch in train_dl:\r\n",
        "\r\n",
        "      targets = []\r\n",
        "      for label in label_batch:\r\n",
        "        x = np.zeros(2)\r\n",
        "        x[int(label)]=1\r\n",
        "        targets.append(x.astype(np.float32))\r\n",
        "\r\n",
        "      targets = torch.tensor(targets)\r\n",
        "      preds = model(image_batch.to(device))\r\n",
        "      \r\n",
        "      loss = loss_fn(preds.to(device), targets.to(device))\r\n",
        "      loss.backward()\r\n",
        "\r\n",
        "      opt.step()\r\n",
        "      opt.zero_grad()\r\n",
        "\r\n",
        "    print(\"Loss: \",loss.item())\r\n",
        "\r\n",
        "    with torch.no_grad():\r\n",
        "      correct = 0\r\n",
        "      for image_batch,label_batch in test_dl:\r\n",
        "\r\n",
        "        preds = model(image_batch.to(device))\r\n",
        "        \r\n",
        "        for i in range(len(label_batch)):\r\n",
        "          if (round(preds[i][label_batch[i]].item()) == 1):\r\n",
        "            correct+=1\r\n",
        "      \r\n",
        "      acc = correct/len(test_ds)\r\n",
        "      print(\"Accuracy: \",round(acc*100,1))\r\n",
        "\r\n",
        "# fit(20)"
      ],
      "outputs": [],
      "metadata": {
        "colab": {
          "base_uri": "https://localhost:8080/"
        },
        "id": "yHCRIepHYPkp",
        "outputId": "9c2ab861-ac48-47fc-d7b6-a2eab3dba9cc"
      }
    },
    {
      "cell_type": "code",
      "execution_count": 8,
      "source": [
        "# loading 96% auurate model weights \r\n",
        "\r\n",
        "model_pred = MaleriaModel()\r\n",
        "try:\r\n",
        "    if torch.cuda.is_available():\r\n",
        "        model_pred.load_state_dict(torch.load(\"./saved_models/MaleriaModel.pth\"))\r\n",
        "    else:\r\n",
        "        model_pred.load_state_dict(torch.load(\"./saved_models/MaleriaModel.pth\",map_location=torch.device(\"cpu\")))\r\n",
        "except Exception as e:\r\n",
        "    print(e)\r\n",
        "    print(\"Error Occured in loading saved weights, training for new weights\")\r\n",
        "    fit(20)\r\n"
      ],
      "outputs": [],
      "metadata": {
        "colab": {
          "base_uri": "https://localhost:8080/"
        },
        "id": "4ksN0qhPGajH",
        "outputId": "82c4e50e-56d4-4ab6-e3ae-d29dc15019b5"
      }
    },
    {
      "cell_type": "code",
      "execution_count": 9,
      "source": [
        "\r\n",
        "import matplotlib.pyplot as plt\r\n",
        "from PIL import Image\r\n",
        "\r\n",
        "#Enter image path which you want to predict\r\n",
        "def predict(path_to_image):\r\n",
        "    img = Image.open(path_to_image)\r\n",
        "    \r\n",
        "    if img.size != (64,64):\r\n",
        "        img.resize((64,64))\r\n",
        "\r\n",
        "    img_arr = np.asarray(img)\r\n",
        "    plt.imshow(img_arr)\r\n",
        "    \r\n",
        "    img_arr = img_arr/255\r\n",
        "    \r\n",
        "    img_tensor = torch.Tensor([img_arr])\r\n",
        "    \r\n",
        "    img_tensor = img_tensor.permute(0,3,2,1)\r\n",
        "    \r\n",
        "    pred = model_pred(img_tensor)\r\n",
        "\r\n",
        "    if pred[0][0].item()>=pred[0][1].item():\r\n",
        "        print(\"Infected\")\r\n",
        "    else:\r\n",
        "        print(\"Uninfected\")\r\n"
      ],
      "outputs": [],
      "metadata": {}
    },
    {
      "cell_type": "code",
      "execution_count": 13,
      "source": [
        "predict(\"./data/cell_images/infected/432.png\")"
      ],
      "outputs": [
        {
          "output_type": "stream",
          "name": "stdout",
          "text": [
            "Uninfected\n"
          ]
        },
        {
          "output_type": "display_data",
          "data": {
            "text/plain": [
              "<Figure size 432x288 with 1 Axes>"
            ],
            "image/svg+xml": "<?xml version=\"1.0\" encoding=\"utf-8\" standalone=\"no\"?>\r\n<!DOCTYPE svg PUBLIC \"-//W3C//DTD SVG 1.1//EN\"\r\n  \"http://www.w3.org/Graphics/SVG/1.1/DTD/svg11.dtd\">\r\n<!-- Created with matplotlib (https://matplotlib.org/) -->\r\n<svg height=\"250.618594pt\" version=\"1.1\" viewBox=\"0 0 251.565 250.618594\" width=\"251.565pt\" xmlns=\"http://www.w3.org/2000/svg\" xmlns:xlink=\"http://www.w3.org/1999/xlink\">\r\n <metadata>\r\n  <rdf:RDF xmlns:cc=\"http://creativecommons.org/ns#\" xmlns:dc=\"http://purl.org/dc/elements/1.1/\" xmlns:rdf=\"http://www.w3.org/1999/02/22-rdf-syntax-ns#\">\r\n   <cc:Work>\r\n    <dc:type rdf:resource=\"http://purl.org/dc/dcmitype/StillImage\"/>\r\n    <dc:date>2021-08-25T10:13:00.951797</dc:date>\r\n    <dc:format>image/svg+xml</dc:format>\r\n    <dc:creator>\r\n     <cc:Agent>\r\n      <dc:title>Matplotlib v3.3.4, https://matplotlib.org/</dc:title>\r\n     </cc:Agent>\r\n    </dc:creator>\r\n   </cc:Work>\r\n  </rdf:RDF>\r\n </metadata>\r\n <defs>\r\n  <style type=\"text/css\">*{stroke-linecap:butt;stroke-linejoin:round;}</style>\r\n </defs>\r\n <g id=\"figure_1\">\r\n  <g id=\"patch_1\">\r\n   <path d=\"M 0 250.618594 \r\nL 251.565 250.618594 \r\nL 251.565 0 \r\nL 0 0 \r\nz\r\n\" style=\"fill:none;\"/>\r\n  </g>\r\n  <g id=\"axes_1\">\r\n   <g id=\"patch_2\">\r\n    <path d=\"M 26.925 226.740469 \r\nL 244.365 226.740469 \r\nL 244.365 9.300469 \r\nL 26.925 9.300469 \r\nz\r\n\" style=\"fill:#ffffff;\"/>\r\n   </g>\r\n   <g clip-path=\"url(#pf11d38ed5a)\">\r\n    <image height=\"218\" id=\"imageb36793a0ab\" transform=\"scale(1 -1)translate(0 -218)\" width=\"218\" x=\"26.925\" xlink:href=\"data:image/png;base64,\r\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\" y=\"-8.740469\"/>\r\n   </g>\r\n   <g id=\"matplotlib.axis_1\">\r\n    <g id=\"xtick_1\">\r\n     <g id=\"line2d_1\">\r\n      <defs>\r\n       <path d=\"M 0 0 \r\nL 0 3.5 \r\n\" id=\"mbed35d7a59\" style=\"stroke:#000000;stroke-width:0.8;\"/>\r\n      </defs>\r\n      <g>\r\n       <use style=\"stroke:#000000;stroke-width:0.8;\" x=\"28.62375\" xlink:href=\"#mbed35d7a59\" y=\"226.740469\"/>\r\n      </g>\r\n     </g>\r\n     <g id=\"text_1\">\r\n      <!-- 0 -->\r\n      <g transform=\"translate(25.4425 241.338906)scale(0.1 -0.1)\">\r\n       <defs>\r\n        <path d=\"M 31.78125 66.40625 \r\nQ 24.171875 66.40625 20.328125 58.90625 \r\nQ 16.5 51.421875 16.5 36.375 \r\nQ 16.5 21.390625 20.328125 13.890625 \r\nQ 24.171875 6.390625 31.78125 6.390625 \r\nQ 39.453125 6.390625 43.28125 13.890625 \r\nQ 47.125 21.390625 47.125 36.375 \r\nQ 47.125 51.421875 43.28125 58.90625 \r\nQ 39.453125 66.40625 31.78125 66.40625 \r\nz\r\nM 31.78125 74.21875 \r\nQ 44.046875 74.21875 50.515625 64.515625 \r\nQ 56.984375 54.828125 56.984375 36.375 \r\nQ 56.984375 17.96875 50.515625 8.265625 \r\nQ 44.046875 -1.421875 31.78125 -1.421875 \r\nQ 19.53125 -1.421875 13.0625 8.265625 \r\nQ 6.59375 17.96875 6.59375 36.375 \r\nQ 6.59375 54.828125 13.0625 64.515625 \r\nQ 19.53125 74.21875 31.78125 74.21875 \r\nz\r\n\" id=\"DejaVuSans-48\"/>\r\n       </defs>\r\n       <use xlink:href=\"#DejaVuSans-48\"/>\r\n      </g>\r\n     </g>\r\n    </g>\r\n    <g id=\"xtick_2\">\r\n     <g id=\"line2d_2\">\r\n      <g>\r\n       <use style=\"stroke:#000000;stroke-width:0.8;\" x=\"62.59875\" xlink:href=\"#mbed35d7a59\" y=\"226.740469\"/>\r\n      </g>\r\n     </g>\r\n     <g id=\"text_2\">\r\n      <!-- 10 -->\r\n      <g transform=\"translate(56.23625 241.338906)scale(0.1 -0.1)\">\r\n       <defs>\r\n        <path d=\"M 12.40625 8.296875 \r\nL 28.515625 8.296875 \r\nL 28.515625 63.921875 \r\nL 10.984375 60.40625 \r\nL 10.984375 69.390625 \r\nL 28.421875 72.90625 \r\nL 38.28125 72.90625 \r\nL 38.28125 8.296875 \r\nL 54.390625 8.296875 \r\nL 54.390625 0 \r\nL 12.40625 0 \r\nz\r\n\" id=\"DejaVuSans-49\"/>\r\n       </defs>\r\n       <use xlink:href=\"#DejaVuSans-49\"/>\r\n       <use x=\"63.623047\" xlink:href=\"#DejaVuSans-48\"/>\r\n      </g>\r\n     </g>\r\n    </g>\r\n    <g id=\"xtick_3\">\r\n     <g id=\"line2d_3\">\r\n      <g>\r\n       <use style=\"stroke:#000000;stroke-width:0.8;\" x=\"96.57375\" xlink:href=\"#mbed35d7a59\" y=\"226.740469\"/>\r\n      </g>\r\n     </g>\r\n     <g id=\"text_3\">\r\n      <!-- 20 -->\r\n      <g transform=\"translate(90.21125 241.338906)scale(0.1 -0.1)\">\r\n       <defs>\r\n        <path d=\"M 19.1875 8.296875 \r\nL 53.609375 8.296875 \r\nL 53.609375 0 \r\nL 7.328125 0 \r\nL 7.328125 8.296875 \r\nQ 12.9375 14.109375 22.625 23.890625 \r\nQ 32.328125 33.6875 34.8125 36.53125 \r\nQ 39.546875 41.84375 41.421875 45.53125 \r\nQ 43.3125 49.21875 43.3125 52.78125 \r\nQ 43.3125 58.59375 39.234375 62.25 \r\nQ 35.15625 65.921875 28.609375 65.921875 \r\nQ 23.96875 65.921875 18.8125 64.3125 \r\nQ 13.671875 62.703125 7.8125 59.421875 \r\nL 7.8125 69.390625 \r\nQ 13.765625 71.78125 18.9375 73 \r\nQ 24.125 74.21875 28.421875 74.21875 \r\nQ 39.75 74.21875 46.484375 68.546875 \r\nQ 53.21875 62.890625 53.21875 53.421875 \r\nQ 53.21875 48.921875 51.53125 44.890625 \r\nQ 49.859375 40.875 45.40625 35.40625 \r\nQ 44.1875 33.984375 37.640625 27.21875 \r\nQ 31.109375 20.453125 19.1875 8.296875 \r\nz\r\n\" id=\"DejaVuSans-50\"/>\r\n       </defs>\r\n       <use xlink:href=\"#DejaVuSans-50\"/>\r\n       <use x=\"63.623047\" xlink:href=\"#DejaVuSans-48\"/>\r\n      </g>\r\n     </g>\r\n    </g>\r\n    <g id=\"xtick_4\">\r\n     <g id=\"line2d_4\">\r\n      <g>\r\n       <use style=\"stroke:#000000;stroke-width:0.8;\" x=\"130.54875\" xlink:href=\"#mbed35d7a59\" y=\"226.740469\"/>\r\n      </g>\r\n     </g>\r\n     <g id=\"text_4\">\r\n      <!-- 30 -->\r\n      <g transform=\"translate(124.18625 241.338906)scale(0.1 -0.1)\">\r\n       <defs>\r\n        <path d=\"M 40.578125 39.3125 \r\nQ 47.65625 37.796875 51.625 33 \r\nQ 55.609375 28.21875 55.609375 21.1875 \r\nQ 55.609375 10.40625 48.1875 4.484375 \r\nQ 40.765625 -1.421875 27.09375 -1.421875 \r\nQ 22.515625 -1.421875 17.65625 -0.515625 \r\nQ 12.796875 0.390625 7.625 2.203125 \r\nL 7.625 11.71875 \r\nQ 11.71875 9.328125 16.59375 8.109375 \r\nQ 21.484375 6.890625 26.8125 6.890625 \r\nQ 36.078125 6.890625 40.9375 10.546875 \r\nQ 45.796875 14.203125 45.796875 21.1875 \r\nQ 45.796875 27.640625 41.28125 31.265625 \r\nQ 36.765625 34.90625 28.71875 34.90625 \r\nL 20.21875 34.90625 \r\nL 20.21875 43.015625 \r\nL 29.109375 43.015625 \r\nQ 36.375 43.015625 40.234375 45.921875 \r\nQ 44.09375 48.828125 44.09375 54.296875 \r\nQ 44.09375 59.90625 40.109375 62.90625 \r\nQ 36.140625 65.921875 28.71875 65.921875 \r\nQ 24.65625 65.921875 20.015625 65.03125 \r\nQ 15.375 64.15625 9.8125 62.3125 \r\nL 9.8125 71.09375 \r\nQ 15.4375 72.65625 20.34375 73.4375 \r\nQ 25.25 74.21875 29.59375 74.21875 \r\nQ 40.828125 74.21875 47.359375 69.109375 \r\nQ 53.90625 64.015625 53.90625 55.328125 \r\nQ 53.90625 49.265625 50.4375 45.09375 \r\nQ 46.96875 40.921875 40.578125 39.3125 \r\nz\r\n\" id=\"DejaVuSans-51\"/>\r\n       </defs>\r\n       <use xlink:href=\"#DejaVuSans-51\"/>\r\n       <use x=\"63.623047\" xlink:href=\"#DejaVuSans-48\"/>\r\n      </g>\r\n     </g>\r\n    </g>\r\n    <g id=\"xtick_5\">\r\n     <g id=\"line2d_5\">\r\n      <g>\r\n       <use style=\"stroke:#000000;stroke-width:0.8;\" x=\"164.52375\" xlink:href=\"#mbed35d7a59\" y=\"226.740469\"/>\r\n      </g>\r\n     </g>\r\n     <g id=\"text_5\">\r\n      <!-- 40 -->\r\n      <g transform=\"translate(158.16125 241.338906)scale(0.1 -0.1)\">\r\n       <defs>\r\n        <path d=\"M 37.796875 64.3125 \r\nL 12.890625 25.390625 \r\nL 37.796875 25.390625 \r\nz\r\nM 35.203125 72.90625 \r\nL 47.609375 72.90625 \r\nL 47.609375 25.390625 \r\nL 58.015625 25.390625 \r\nL 58.015625 17.1875 \r\nL 47.609375 17.1875 \r\nL 47.609375 0 \r\nL 37.796875 0 \r\nL 37.796875 17.1875 \r\nL 4.890625 17.1875 \r\nL 4.890625 26.703125 \r\nz\r\n\" id=\"DejaVuSans-52\"/>\r\n       </defs>\r\n       <use xlink:href=\"#DejaVuSans-52\"/>\r\n       <use x=\"63.623047\" xlink:href=\"#DejaVuSans-48\"/>\r\n      </g>\r\n     </g>\r\n    </g>\r\n    <g id=\"xtick_6\">\r\n     <g id=\"line2d_6\">\r\n      <g>\r\n       <use style=\"stroke:#000000;stroke-width:0.8;\" x=\"198.49875\" xlink:href=\"#mbed35d7a59\" y=\"226.740469\"/>\r\n      </g>\r\n     </g>\r\n     <g id=\"text_6\">\r\n      <!-- 50 -->\r\n      <g transform=\"translate(192.13625 241.338906)scale(0.1 -0.1)\">\r\n       <defs>\r\n        <path d=\"M 10.796875 72.90625 \r\nL 49.515625 72.90625 \r\nL 49.515625 64.59375 \r\nL 19.828125 64.59375 \r\nL 19.828125 46.734375 \r\nQ 21.96875 47.46875 24.109375 47.828125 \r\nQ 26.265625 48.1875 28.421875 48.1875 \r\nQ 40.625 48.1875 47.75 41.5 \r\nQ 54.890625 34.8125 54.890625 23.390625 \r\nQ 54.890625 11.625 47.5625 5.09375 \r\nQ 40.234375 -1.421875 26.90625 -1.421875 \r\nQ 22.3125 -1.421875 17.546875 -0.640625 \r\nQ 12.796875 0.140625 7.71875 1.703125 \r\nL 7.71875 11.625 \r\nQ 12.109375 9.234375 16.796875 8.0625 \r\nQ 21.484375 6.890625 26.703125 6.890625 \r\nQ 35.15625 6.890625 40.078125 11.328125 \r\nQ 45.015625 15.765625 45.015625 23.390625 \r\nQ 45.015625 31 40.078125 35.4375 \r\nQ 35.15625 39.890625 26.703125 39.890625 \r\nQ 22.75 39.890625 18.8125 39.015625 \r\nQ 14.890625 38.140625 10.796875 36.28125 \r\nz\r\n\" id=\"DejaVuSans-53\"/>\r\n       </defs>\r\n       <use xlink:href=\"#DejaVuSans-53\"/>\r\n       <use x=\"63.623047\" xlink:href=\"#DejaVuSans-48\"/>\r\n      </g>\r\n     </g>\r\n    </g>\r\n    <g id=\"xtick_7\">\r\n     <g id=\"line2d_7\">\r\n      <g>\r\n       <use style=\"stroke:#000000;stroke-width:0.8;\" x=\"232.47375\" xlink:href=\"#mbed35d7a59\" y=\"226.740469\"/>\r\n      </g>\r\n     </g>\r\n     <g id=\"text_7\">\r\n      <!-- 60 -->\r\n      <g transform=\"translate(226.11125 241.338906)scale(0.1 -0.1)\">\r\n       <defs>\r\n        <path d=\"M 33.015625 40.375 \r\nQ 26.375 40.375 22.484375 35.828125 \r\nQ 18.609375 31.296875 18.609375 23.390625 \r\nQ 18.609375 15.53125 22.484375 10.953125 \r\nQ 26.375 6.390625 33.015625 6.390625 \r\nQ 39.65625 6.390625 43.53125 10.953125 \r\nQ 47.40625 15.53125 47.40625 23.390625 \r\nQ 47.40625 31.296875 43.53125 35.828125 \r\nQ 39.65625 40.375 33.015625 40.375 \r\nz\r\nM 52.59375 71.296875 \r\nL 52.59375 62.3125 \r\nQ 48.875 64.0625 45.09375 64.984375 \r\nQ 41.3125 65.921875 37.59375 65.921875 \r\nQ 27.828125 65.921875 22.671875 59.328125 \r\nQ 17.53125 52.734375 16.796875 39.40625 \r\nQ 19.671875 43.65625 24.015625 45.921875 \r\nQ 28.375 48.1875 33.59375 48.1875 \r\nQ 44.578125 48.1875 50.953125 41.515625 \r\nQ 57.328125 34.859375 57.328125 23.390625 \r\nQ 57.328125 12.15625 50.6875 5.359375 \r\nQ 44.046875 -1.421875 33.015625 -1.421875 \r\nQ 20.359375 -1.421875 13.671875 8.265625 \r\nQ 6.984375 17.96875 6.984375 36.375 \r\nQ 6.984375 53.65625 15.1875 63.9375 \r\nQ 23.390625 74.21875 37.203125 74.21875 \r\nQ 40.921875 74.21875 44.703125 73.484375 \r\nQ 48.484375 72.75 52.59375 71.296875 \r\nz\r\n\" id=\"DejaVuSans-54\"/>\r\n       </defs>\r\n       <use xlink:href=\"#DejaVuSans-54\"/>\r\n       <use x=\"63.623047\" xlink:href=\"#DejaVuSans-48\"/>\r\n      </g>\r\n     </g>\r\n    </g>\r\n   </g>\r\n   <g id=\"matplotlib.axis_2\">\r\n    <g id=\"ytick_1\">\r\n     <g id=\"line2d_8\">\r\n      <defs>\r\n       <path d=\"M 0 0 \r\nL -3.5 0 \r\n\" id=\"mf111dcf746\" style=\"stroke:#000000;stroke-width:0.8;\"/>\r\n      </defs>\r\n      <g>\r\n       <use style=\"stroke:#000000;stroke-width:0.8;\" x=\"26.925\" xlink:href=\"#mf111dcf746\" y=\"10.999219\"/>\r\n      </g>\r\n     </g>\r\n     <g id=\"text_8\">\r\n      <!-- 0 -->\r\n      <g transform=\"translate(13.5625 14.798437)scale(0.1 -0.1)\">\r\n       <use xlink:href=\"#DejaVuSans-48\"/>\r\n      </g>\r\n     </g>\r\n    </g>\r\n    <g id=\"ytick_2\">\r\n     <g id=\"line2d_9\">\r\n      <g>\r\n       <use style=\"stroke:#000000;stroke-width:0.8;\" x=\"26.925\" xlink:href=\"#mf111dcf746\" y=\"44.974219\"/>\r\n      </g>\r\n     </g>\r\n     <g id=\"text_9\">\r\n      <!-- 10 -->\r\n      <g transform=\"translate(7.2 48.773437)scale(0.1 -0.1)\">\r\n       <use xlink:href=\"#DejaVuSans-49\"/>\r\n       <use x=\"63.623047\" xlink:href=\"#DejaVuSans-48\"/>\r\n      </g>\r\n     </g>\r\n    </g>\r\n    <g id=\"ytick_3\">\r\n     <g id=\"line2d_10\">\r\n      <g>\r\n       <use style=\"stroke:#000000;stroke-width:0.8;\" x=\"26.925\" xlink:href=\"#mf111dcf746\" y=\"78.949219\"/>\r\n      </g>\r\n     </g>\r\n     <g id=\"text_10\">\r\n      <!-- 20 -->\r\n      <g transform=\"translate(7.2 82.748437)scale(0.1 -0.1)\">\r\n       <use xlink:href=\"#DejaVuSans-50\"/>\r\n       <use x=\"63.623047\" xlink:href=\"#DejaVuSans-48\"/>\r\n      </g>\r\n     </g>\r\n    </g>\r\n    <g id=\"ytick_4\">\r\n     <g id=\"line2d_11\">\r\n      <g>\r\n       <use style=\"stroke:#000000;stroke-width:0.8;\" x=\"26.925\" xlink:href=\"#mf111dcf746\" y=\"112.924219\"/>\r\n      </g>\r\n     </g>\r\n     <g id=\"text_11\">\r\n      <!-- 30 -->\r\n      <g transform=\"translate(7.2 116.723437)scale(0.1 -0.1)\">\r\n       <use xlink:href=\"#DejaVuSans-51\"/>\r\n       <use x=\"63.623047\" xlink:href=\"#DejaVuSans-48\"/>\r\n      </g>\r\n     </g>\r\n    </g>\r\n    <g id=\"ytick_5\">\r\n     <g id=\"line2d_12\">\r\n      <g>\r\n       <use style=\"stroke:#000000;stroke-width:0.8;\" x=\"26.925\" xlink:href=\"#mf111dcf746\" y=\"146.899219\"/>\r\n      </g>\r\n     </g>\r\n     <g id=\"text_12\">\r\n      <!-- 40 -->\r\n      <g transform=\"translate(7.2 150.698437)scale(0.1 -0.1)\">\r\n       <use xlink:href=\"#DejaVuSans-52\"/>\r\n       <use x=\"63.623047\" xlink:href=\"#DejaVuSans-48\"/>\r\n      </g>\r\n     </g>\r\n    </g>\r\n    <g id=\"ytick_6\">\r\n     <g id=\"line2d_13\">\r\n      <g>\r\n       <use style=\"stroke:#000000;stroke-width:0.8;\" x=\"26.925\" xlink:href=\"#mf111dcf746\" y=\"180.874219\"/>\r\n      </g>\r\n     </g>\r\n     <g id=\"text_13\">\r\n      <!-- 50 -->\r\n      <g transform=\"translate(7.2 184.673437)scale(0.1 -0.1)\">\r\n       <use xlink:href=\"#DejaVuSans-53\"/>\r\n       <use x=\"63.623047\" xlink:href=\"#DejaVuSans-48\"/>\r\n      </g>\r\n     </g>\r\n    </g>\r\n    <g id=\"ytick_7\">\r\n     <g id=\"line2d_14\">\r\n      <g>\r\n       <use style=\"stroke:#000000;stroke-width:0.8;\" x=\"26.925\" xlink:href=\"#mf111dcf746\" y=\"214.849219\"/>\r\n      </g>\r\n     </g>\r\n     <g id=\"text_14\">\r\n      <!-- 60 -->\r\n      <g transform=\"translate(7.2 218.648437)scale(0.1 -0.1)\">\r\n       <use xlink:href=\"#DejaVuSans-54\"/>\r\n       <use x=\"63.623047\" xlink:href=\"#DejaVuSans-48\"/>\r\n      </g>\r\n     </g>\r\n    </g>\r\n   </g>\r\n   <g id=\"patch_3\">\r\n    <path d=\"M 26.925 226.740469 \r\nL 26.925 9.300469 \r\n\" style=\"fill:none;stroke:#000000;stroke-linecap:square;stroke-linejoin:miter;stroke-width:0.8;\"/>\r\n   </g>\r\n   <g id=\"patch_4\">\r\n    <path d=\"M 244.365 226.740469 \r\nL 244.365 9.300469 \r\n\" style=\"fill:none;stroke:#000000;stroke-linecap:square;stroke-linejoin:miter;stroke-width:0.8;\"/>\r\n   </g>\r\n   <g id=\"patch_5\">\r\n    <path d=\"M 26.925 226.740469 \r\nL 244.365 226.740469 \r\n\" style=\"fill:none;stroke:#000000;stroke-linecap:square;stroke-linejoin:miter;stroke-width:0.8;\"/>\r\n   </g>\r\n   <g id=\"patch_6\">\r\n    <path d=\"M 26.925 9.300469 \r\nL 244.365 9.300469 \r\n\" style=\"fill:none;stroke:#000000;stroke-linecap:square;stroke-linejoin:miter;stroke-width:0.8;\"/>\r\n   </g>\r\n  </g>\r\n </g>\r\n <defs>\r\n  <clipPath id=\"pf11d38ed5a\">\r\n   <rect height=\"217.44\" width=\"217.44\" x=\"26.925\" y=\"9.300469\"/>\r\n  </clipPath>\r\n </defs>\r\n</svg>\r\n",
            "image/png": "[encoded data removed]"
          },
          "metadata": {
            "needs_background": "light"
          }
        }
      ],
      "metadata": {}
    }
  ]
}
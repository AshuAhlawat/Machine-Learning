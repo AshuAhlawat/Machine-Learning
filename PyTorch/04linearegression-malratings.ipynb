{
 "metadata": {
  "language_info": {
   "codemirror_mode": {
    "name": "ipython",
    "version": 3
   },
   "file_extension": ".py",
   "mimetype": "text/x-python",
   "name": "python",
   "nbconvert_exporter": "python",
   "pygments_lexer": "ipython3",
   "version": "3.9.5"
  },
  "orig_nbformat": 4,
  "kernelspec": {
   "name": "python3",
   "display_name": "Python 3.9.5 64-bit"
  },
  "interpreter": {
   "hash": "916dbcbb3f70747c44a77c7bcd40155683ae19c65e1c03b4aa3499c5328201f1"
  }
 },
 "nbformat": 4,
 "nbformat_minor": 2,
 "cells": [
  {
   "cell_type": "code",
   "execution_count": 1,
   "source": [
    "import numpy as np\n",
    "import torch"
   ],
   "outputs": [],
   "metadata": {}
  },
  {
   "cell_type": "code",
   "execution_count": 2,
   "source": [
    "#Rating, Popularity\n",
    "inputs = np.array(\n",
    "    [\n",
    "        [9.17, 1/3],     \n",
    "        [9.10, 1/10],        \n",
    "        [7.99, 1/20],        \n",
    "        [8.77, 1/44],        \n",
    "        [8.82, 1/92],        \n",
    "        [8.25, 1/161],       \n",
    "        [8.60, 1/360],       \n",
    "        [7.83, 1/552]        \n",
    "    ],\n",
    "    dtype=\"float32\"\n",
    ")\n",
    "\n",
    "#Members, User-Ratings \n",
    "targets = np.array(\n",
    "     [\n",
    "         [2489000, 1514000],\n",
    "         [1958000, 1047000],\n",
    "         [1692000, 996400],\n",
    "         [1378400, 669000],\n",
    "         [983500, 595000],\n",
    "         [688000, 368000],\n",
    "         [415600, 83200],\n",
    "         [287500, 124000],\n",
    "     ],\n",
    "     dtype=\"float32\"\n",
    ")\n",
    "targets = targets/100000"
   ],
   "outputs": [],
   "metadata": {}
  },
  {
   "cell_type": "code",
   "execution_count": 3,
   "source": [
    "inputs = torch.from_numpy(inputs)\n",
    "targets = torch.from_numpy(targets)\n",
    "\n",
    "print(inputs,\"\\n\", targets)"
   ],
   "outputs": [
    {
     "output_type": "stream",
     "name": "stdout",
     "text": [
      "tensor([[9.1700e+00, 3.3333e-01],\n",
      "        [9.1000e+00, 1.0000e-01],\n",
      "        [7.9900e+00, 5.0000e-02],\n",
      "        [8.7700e+00, 2.2727e-02],\n",
      "        [8.8200e+00, 1.0870e-02],\n",
      "        [8.2500e+00, 6.2112e-03],\n",
      "        [8.6000e+00, 2.7778e-03],\n",
      "        [7.8300e+00, 1.8116e-03]]) \n",
      " tensor([[24.8900, 15.1400],\n",
      "        [19.5800, 10.4700],\n",
      "        [16.9200,  9.9640],\n",
      "        [13.7840,  6.6900],\n",
      "        [ 9.8350,  5.9500],\n",
      "        [ 6.8800,  3.6800],\n",
      "        [ 4.1560,  0.8320],\n",
      "        [ 2.8750,  1.2400]], dtype=torch.float64)\n"
     ]
    }
   ],
   "metadata": {}
  },
  {
   "cell_type": "code",
   "execution_count": 4,
   "source": [
    "#weights matrix\n",
    "w = torch.randn(2, 2, requires_grad=True)\n",
    "b = torch.randn(2, requires_grad=True)\n",
    "\n",
    "print(w, \"\\n\", b)"
   ],
   "outputs": [
    {
     "output_type": "stream",
     "name": "stdout",
     "text": [
      "tensor([[ 0.8313, -0.3541],\n",
      "        [-0.5900, -0.8204]], requires_grad=True) \n",
      " tensor([1.0943, 0.7514], requires_grad=True)\n"
     ]
    }
   ],
   "metadata": {}
  },
  {
   "cell_type": "code",
   "execution_count": 5,
   "source": [
    "def model(x):\n",
    "    return x @ w.t() + b"
   ],
   "outputs": [],
   "metadata": {}
  },
  {
   "cell_type": "code",
   "execution_count": 6,
   "source": [
    "predictions = model(inputs)\n",
    "\n",
    "print(predictions)  \n",
    "print(targets)"
   ],
   "outputs": [
    {
     "output_type": "stream",
     "name": "stdout",
     "text": [
      "tensor([[ 8.5993, -4.9329],\n",
      "        [ 8.6237, -4.7001],\n",
      "        [ 7.7187, -4.0041],\n",
      "        [ 8.3768, -4.4420],\n",
      "        [ 8.4225, -4.4618],\n",
      "        [ 7.9503, -4.1216],\n",
      "        [ 8.2425, -4.3253],\n",
      "        [ 7.6027, -3.8702]], grad_fn=<AddBackward0>)\n",
      "tensor([[24.8900, 15.1400],\n",
      "        [19.5800, 10.4700],\n",
      "        [16.9200,  9.9640],\n",
      "        [13.7840,  6.6900],\n",
      "        [ 9.8350,  5.9500],\n",
      "        [ 6.8800,  3.6800],\n",
      "        [ 4.1560,  0.8320],\n",
      "        [ 2.8750,  1.2400]], dtype=torch.float64)\n"
     ]
    }
   ],
   "metadata": {}
  },
  {
   "cell_type": "markdown",
   "source": [],
   "metadata": {}
  },
  {
   "cell_type": "code",
   "execution_count": 7,
   "source": [
    "#mean squared error\n",
    "def mse(t1, t2):\n",
    "    diff = t1 - t2\n",
    "    #error is squared and added and divided by total number of elements\n",
    "    return torch.sum(diff*diff)/diff.numel()"
   ],
   "outputs": [],
   "metadata": {}
  },
  {
   "cell_type": "code",
   "execution_count": 8,
   "source": [
    "loss = mse(predictions, targets)\n",
    "print(loss)"
   ],
   "outputs": [
    {
     "output_type": "stream",
     "name": "stdout",
     "text": [
      "tensor(107.2242, dtype=torch.float64, grad_fn=<DivBackward0>)\n"
     ]
    }
   ],
   "metadata": {}
  },
  {
   "cell_type": "code",
   "execution_count": 9,
   "source": [
    "loss.backward()"
   ],
   "outputs": [],
   "metadata": {}
  },
  {
   "cell_type": "code",
   "execution_count": 10,
   "source": [
    "print(w)\n",
    "print(w.grad)\n",
    "\n",
    "print(b)\n",
    "print(b.grad)\n"
   ],
   "outputs": [
    {
     "output_type": "stream",
     "name": "stdout",
     "text": [
      "tensor([[ 0.8313, -0.3541],\n",
      "        [-0.5900, -0.8204]], requires_grad=True)\n",
      "tensor([[-37.6867,  -0.8872],\n",
      "        [-96.4888,  -1.1681]])\n",
      "tensor([1.0943, 0.7514], requires_grad=True)\n",
      "tensor([ -4.1729, -11.1030])\n"
     ]
    }
   ],
   "metadata": {}
  },
  {
   "cell_type": "code",
   "execution_count": 11,
   "source": [
    "for i in range(600):\n",
    "    preds = model(inputs)\n",
    "    loss = mse(preds, targets)\n",
    "\n",
    "    if(i%10==0):\n",
    "        print(loss)\n",
    "\n",
    "    loss.backward()\n",
    "    \n",
    "    with torch.no_grad():\n",
    "        w -= w.grad * 0.0001\n",
    "        b -= b.grad * 1e-4\n",
    "        w.grad.zero_()\n",
    "        b.grad.zero_()"
   ],
   "outputs": [
    {
     "output_type": "stream",
     "name": "stdout",
     "text": [
      "tensor(107.2242, dtype=torch.float64, grad_fn=<DivBackward0>)\n",
      "tensor(96.1485, dtype=torch.float64, grad_fn=<DivBackward0>)\n",
      "tensor(87.5527, dtype=torch.float64, grad_fn=<DivBackward0>)\n",
      "tensor(80.1524, dtype=torch.float64, grad_fn=<DivBackward0>)\n",
      "tensor(73.7813, dtype=torch.float64, grad_fn=<DivBackward0>)\n",
      "tensor(68.2962, dtype=torch.float64, grad_fn=<DivBackward0>)\n",
      "tensor(63.5739, dtype=torch.float64, grad_fn=<DivBackward0>)\n",
      "tensor(59.5083, dtype=torch.float64, grad_fn=<DivBackward0>)\n",
      "tensor(56.0081, dtype=torch.float64, grad_fn=<DivBackward0>)\n",
      "tensor(52.9946, dtype=torch.float64, grad_fn=<DivBackward0>)\n",
      "tensor(50.4002, dtype=torch.float64, grad_fn=<DivBackward0>)\n",
      "tensor(48.1666, dtype=torch.float64, grad_fn=<DivBackward0>)\n",
      "tensor(46.2435, dtype=torch.float64, grad_fn=<DivBackward0>)\n",
      "tensor(44.5878, dtype=torch.float64, grad_fn=<DivBackward0>)\n",
      "tensor(43.1623, dtype=torch.float64, grad_fn=<DivBackward0>)\n",
      "tensor(41.9350, dtype=torch.float64, grad_fn=<DivBackward0>)\n",
      "tensor(40.8784, dtype=torch.float64, grad_fn=<DivBackward0>)\n",
      "tensor(39.9686, dtype=torch.float64, grad_fn=<DivBackward0>)\n",
      "tensor(39.1852, dtype=torch.float64, grad_fn=<DivBackward0>)\n",
      "tensor(38.5108, dtype=torch.float64, grad_fn=<DivBackward0>)\n",
      "tensor(37.9301, dtype=torch.float64, grad_fn=<DivBackward0>)\n",
      "tensor(37.4300, dtype=torch.float64, grad_fn=<DivBackward0>)\n",
      "tensor(36.9994, dtype=torch.float64, grad_fn=<DivBackward0>)\n",
      "tensor(36.6287, dtype=torch.float64, grad_fn=<DivBackward0>)\n",
      "tensor(36.3094, dtype=torch.float64, grad_fn=<DivBackward0>)\n",
      "tensor(36.0345, dtype=torch.float64, grad_fn=<DivBackward0>)\n",
      "tensor(35.7977, dtype=torch.float64, grad_fn=<DivBackward0>)\n",
      "tensor(35.5938, dtype=torch.float64, grad_fn=<DivBackward0>)\n",
      "tensor(35.4181, dtype=torch.float64, grad_fn=<DivBackward0>)\n",
      "tensor(35.2668, dtype=torch.float64, grad_fn=<DivBackward0>)\n",
      "tensor(35.1365, dtype=torch.float64, grad_fn=<DivBackward0>)\n",
      "tensor(35.0242, dtype=torch.float64, grad_fn=<DivBackward0>)\n",
      "tensor(34.9275, dtype=torch.float64, grad_fn=<DivBackward0>)\n",
      "tensor(34.8441, dtype=torch.float64, grad_fn=<DivBackward0>)\n",
      "tensor(34.7723, dtype=torch.float64, grad_fn=<DivBackward0>)\n",
      "tensor(34.7104, dtype=torch.float64, grad_fn=<DivBackward0>)\n",
      "tensor(34.6570, dtype=torch.float64, grad_fn=<DivBackward0>)\n",
      "tensor(34.6109, dtype=torch.float64, grad_fn=<DivBackward0>)\n",
      "tensor(34.5712, dtype=torch.float64, grad_fn=<DivBackward0>)\n",
      "tensor(34.5370, dtype=torch.float64, grad_fn=<DivBackward0>)\n",
      "tensor(34.5074, dtype=torch.float64, grad_fn=<DivBackward0>)\n",
      "tensor(34.4818, dtype=torch.float64, grad_fn=<DivBackward0>)\n",
      "tensor(34.4598, dtype=torch.float64, grad_fn=<DivBackward0>)\n",
      "tensor(34.4407, dtype=torch.float64, grad_fn=<DivBackward0>)\n",
      "tensor(34.4242, dtype=torch.float64, grad_fn=<DivBackward0>)\n",
      "tensor(34.4099, dtype=torch.float64, grad_fn=<DivBackward0>)\n",
      "tensor(34.3975, dtype=torch.float64, grad_fn=<DivBackward0>)\n",
      "tensor(34.3868, dtype=torch.float64, grad_fn=<DivBackward0>)\n",
      "tensor(34.3775, dtype=torch.float64, grad_fn=<DivBackward0>)\n",
      "tensor(34.3694, dtype=torch.float64, grad_fn=<DivBackward0>)\n",
      "tensor(34.3624, dtype=torch.float64, grad_fn=<DivBackward0>)\n",
      "tensor(34.3562, dtype=torch.float64, grad_fn=<DivBackward0>)\n",
      "tensor(34.3509, dtype=torch.float64, grad_fn=<DivBackward0>)\n",
      "tensor(34.3462, dtype=torch.float64, grad_fn=<DivBackward0>)\n",
      "tensor(34.3420, dtype=torch.float64, grad_fn=<DivBackward0>)\n",
      "tensor(34.3384, dtype=torch.float64, grad_fn=<DivBackward0>)\n",
      "tensor(34.3352, dtype=torch.float64, grad_fn=<DivBackward0>)\n",
      "tensor(34.3324, dtype=torch.float64, grad_fn=<DivBackward0>)\n",
      "tensor(34.3299, dtype=torch.float64, grad_fn=<DivBackward0>)\n",
      "tensor(34.3276, dtype=torch.float64, grad_fn=<DivBackward0>)\n"
     ]
    }
   ],
   "metadata": {
    "tags": []
   }
  },
  {
   "cell_type": "code",
   "execution_count": 12,
   "source": [
    "print(w)\n",
    "print(preds)"
   ],
   "outputs": [
    {
     "output_type": "stream",
     "name": "stdout",
     "text": [
      "tensor([[ 1.3318, -0.3150],\n",
      "        [ 0.6896, -0.7867]], requires_grad=True)\n",
      "tensor([[13.2470,  6.9527],\n",
      "        [13.2273,  7.0880],\n",
      "        [11.7648,  6.3620],\n",
      "        [12.8122,  6.9213],\n",
      "        [12.8825,  6.9651],\n",
      "        [12.1249,  6.5757],\n",
      "        [12.5921,  6.8198],\n",
      "        [11.5669,  6.2896]], grad_fn=<AddBackward0>)\n"
     ]
    }
   ],
   "metadata": {}
  },
  {
   "cell_type": "code",
   "execution_count": 13,
   "source": [
    "predictions = preds*100000\n",
    "print(predictions)\n",
    "\n",
    "print(w)\n",
    "print(b)"
   ],
   "outputs": [
    {
     "output_type": "stream",
     "name": "stdout",
     "text": [
      "tensor([[1324704.0000,  695269.1250],\n",
      "        [1322732.6250,  708799.7500],\n",
      "        [1176481.1250,  636203.5625],\n",
      "        [1281218.6250,  692126.8750],\n",
      "        [1288250.8750,  696507.0000],\n",
      "        [1212486.7500,  657574.4375],\n",
      "        [1259207.0000,  681975.5625],\n",
      "        [1156691.0000,  628963.3750]], grad_fn=<MulBackward0>)\n",
      "tensor([[ 1.3318, -0.3150],\n",
      "        [ 0.6896, -0.7867]], requires_grad=True)\n",
      "tensor([1.1397, 0.8926], requires_grad=True)\n"
     ]
    }
   ],
   "metadata": {}
  },
  {
   "cell_type": "code",
   "execution_count": 14,
   "source": [
    "members = (8.92 *  1.2807 + 9 *0.0855) * 100000\n",
    "users = (8.92*0.8601 +9*1.6151)*100000\n",
    "print(members)\n",
    "print(users)"
   ],
   "outputs": [
    {
     "output_type": "stream",
     "name": "stdout",
     "text": [
      "1219334.4\n",
      "2220799.2\n"
     ]
    }
   ],
   "metadata": {}
  },
  {
   "cell_type": "code",
   "execution_count": null,
   "source": [],
   "outputs": [],
   "metadata": {}
  }
 ]
}
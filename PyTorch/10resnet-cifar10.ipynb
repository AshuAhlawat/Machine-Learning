{
  "nbformat": 4,
  "nbformat_minor": 2,
  "metadata": {
    "orig_nbformat": 4,
    "language_info": {
      "name": "python",
      "version": "3.9.1",
      "mimetype": "text/x-python",
      "codemirror_mode": {
        "name": "ipython",
        "version": 3
      },
      "pygments_lexer": "ipython3",
      "nbconvert_exporter": "python",
      "file_extension": ".py"
    },
    "kernelspec": {
      "name": "python3",
      "display_name": "Python 3.9.1 64-bit"
    },
    "interpreter": {
      "hash": "2f97e602bf3efd1202fb41503b5059ddd336053f3958a92ca7b4a7a1e22459bb"
    },
    "colab": {
      "name": "10resnet-cifar10.ipynb",
      "provenance": []
    },
    "accelerator": "GPU"
  },
  "cells": [
    {
      "cell_type": "code",
      "execution_count": null,
      "source": [
        "# from google.colab import drive\r\n",
        "# drive.mount(\"/content/drive\")"
      ],
      "outputs": [],
      "metadata": {
        "id": "hl360K9tiVpS"
      }
    },
    {
      "cell_type": "code",
      "execution_count": null,
      "source": [
        "# import tarfile\r\n",
        "\r\n",
        "# with tarfile.open('/content/drive/MyDrive/cifar10.tgz', 'r:gz') as tar:\r\n",
        "#     tar.extractall(path=\"\")"
      ],
      "outputs": [],
      "metadata": {
        "id": "ztEf6CwGi8z-"
      }
    },
    {
      "cell_type": "code",
      "execution_count": null,
      "source": [
        "import torchvision.transforms as tfms\r\n",
        "\r\n",
        "mean = (0.4914, 0.4822, 0.4465)\r\n",
        "dev = (0.247, 0.2435, 0.2616)\r\n",
        "\r\n",
        "train_tfms = tfms.Compose([\r\n",
        "    tfms.RandomHorizontalFlip(),\r\n",
        "    tfms.RandomCrop(32,padding=4,padding_mode=\"reflect\"),\r\n",
        "    tfms.ToTensor(),\r\n",
        "    tfms.Normalize(mean,dev),\r\n",
        "])\r\n",
        "\r\n",
        "test_tfms = tfms.Compose([\r\n",
        "    tfms.ToTensor()\r\n",
        "])"
      ],
      "outputs": [],
      "metadata": {
        "id": "UmaN4FD6iPLa"
      }
    },
    {
      "cell_type": "code",
      "execution_count": null,
      "source": [
        "from torchvision.datasets import ImageFolder\r\n",
        "\r\n",
        "root = \"./data/cifar10/\"\r\n",
        "\r\n",
        "train_ds = ImageFolder(root+\"train\",train_tfms)\r\n",
        "test_ds = ImageFolder(root+\"test\",test_tfms)\r\n",
        "\r\n",
        "img_cls = train_ds.classes\r\n",
        "print(img_cls)"
      ],
      "outputs": [],
      "metadata": {
        "colab": {
          "base_uri": "https://localhost:8080/"
        },
        "id": "WEFZdHrJiPLd",
        "outputId": "eb248659-a099-45d5-b58b-c3c944a83a29"
      }
    },
    {
      "cell_type": "code",
      "execution_count": null,
      "source": [
        "from torch.utils.data.dataloader import DataLoader\r\n",
        "\r\n",
        "train_dl = DataLoader(train_ds,200,shuffle=True,num_workers=4, pin_memory=True)\r\n",
        "test_dl = DataLoader(test_ds,500,shuffle=False,num_workers=4, pin_memory=True)\r\n"
      ],
      "outputs": [],
      "metadata": {
        "id": "e1e1AFwPiPLe"
      }
    },
    {
      "cell_type": "code",
      "execution_count": null,
      "source": [
        "# import matplotlib.pyplot as plt\r\n",
        "# from mpl_toolkits.axes_grid1 import ImageGrid\r\n",
        "\r\n",
        "# fig = plt.figure(figsize=(20,20))\r\n",
        "# grid = ImageGrid(fig,111,(10,10))\r\n",
        "\r\n",
        "\r\n",
        "# for images,labels in train_dl:\r\n",
        "#     image_arr = images.permute(0,2,3,1)\r\n",
        "\r\n",
        "#     for axis,image in zip(grid,image_arr):\r\n",
        "#         axis.imshow(image)\r\n",
        "#     plt.show()\r\n",
        "#     break"
      ],
      "outputs": [],
      "metadata": {
        "id": "EJYS30R5iPLf"
      }
    },
    {
      "cell_type": "code",
      "execution_count": null,
      "source": [
        "import torch\r\n",
        "\r\n",
        "device = torch.device(\"cuda\" if torch.cuda.is_available() else \"cpu\")\r\n",
        "print(device)"
      ],
      "outputs": [],
      "metadata": {
        "colab": {
          "base_uri": "https://localhost:8080/"
        },
        "id": "E9RbhCmMUIqH",
        "outputId": "1bb87e7b-71ce-4123-b56c-79aaf0940b4a"
      }
    },
    {
      "cell_type": "code",
      "execution_count": null,
      "source": [
        "\r\n",
        "import torch.nn as nn\r\n",
        "\r\n",
        "class ResNet15(nn.Module):\r\n",
        "    def __init__(self):\r\n",
        "        super().__init__()\r\n",
        "        self.norm15 = nn.BatchNorm2d(15)\r\n",
        "        self.norm30 = nn.BatchNorm2d(30)\r\n",
        "        self.norm60 = nn.BatchNorm2d(60)\r\n",
        "        self.norm120 = nn.BatchNorm2d(120)\r\n",
        "        self.norm200 = nn.BatchNorm2d(200)\r\n",
        "        self.norm360 = nn.BatchNorm2d(360)\r\n",
        "        \r\n",
        "        self.conv1 = nn.Conv2d(3,15,kernel_size=3,stride=1,padding=1)\r\n",
        "        \r\n",
        "        self.conv2 = nn.Conv2d(15,30,kernel_size=3,stride=1,padding=1)\r\n",
        "        \r\n",
        "        self.conv3 = nn.Conv2d(30,60,kernel_size=3,stride=2,padding=1)\r\n",
        "        \r\n",
        "        self.res1 = nn.Conv2d(60,120,kernel_size=1,stride=1,padding=0)\r\n",
        "        self.conv4 = nn.Conv2d(60,120,kernel_size=3,stride=1,padding=1)\r\n",
        "        \r\n",
        "        self.res2 = nn.Conv2d(120,200,kernel_size=1,stride=2,padding=0)\r\n",
        "        self.conv5 = nn.Conv2d(120,200,kernel_size=3,stride=2,padding=1)\r\n",
        "        self.res3 = nn.Conv2d(200,200,kernel_size=1,stride=1,padding=0)\r\n",
        "        self.conv6 = nn.Conv2d(200,200,kernel_size=3,stride=1,padding=1)\r\n",
        "        self.conv7 = nn.Conv2d(200,200,kernel_size=3,stride=1,padding=1)\r\n",
        "        \r\n",
        "        self.res4 = nn.Conv2d(200,360,kernel_size=1,stride=2,padding=0)\r\n",
        "        self.conv8 = nn.Conv2d(200,360,kernel_size=3,stride=2,padding=1)\r\n",
        "        self.res5 = nn.Conv2d(360,360,kernel_size=1,stride=1,padding=0)\r\n",
        "        self.conv9 = nn.Conv2d(360,360,kernel_size=3,stride=1,padding=1)\r\n",
        "        self.conv10 = nn.Conv2d(360,360,kernel_size=3,stride=1,padding=1)\r\n",
        "        \r\n",
        "        \r\n",
        "        self.pool = nn.MaxPool2d(2,2)\r\n",
        "        self.avgpool = nn.AvgPool2d(2,2)\r\n",
        "        self.flat = nn.Flatten()\r\n",
        "        \r\n",
        "        self.linear = nn.Linear(360,10)\r\n",
        "    \r\n",
        "\r\n",
        "    def forward(self, data):\r\n",
        "        # data 3 32 32\r\n",
        "        out = torch.relu(self.norm15(self.conv1(data)))#15 32 32\r\n",
        "        out = torch.relu(self.norm30(self.conv2(out)))#30 32 32\r\n",
        "        \r\n",
        "        out = torch.relu(self.norm60(self.conv3(out)))#60 16 16\r\n",
        "        x = self.res1(out)#120 16 16\r\n",
        "        out = torch.relu(self.norm120(self.conv4(out) + x))#120 16 16\r\n",
        "        \r\n",
        "        x = self.res2(out)#200 8 8\r\n",
        "        out = torch.relu(self.norm200(self.conv5(out) + x))#200 8 8\r\n",
        "        x = out #==self.res3(out)\r\n",
        "        out = torch.relu(self.norm200(self.conv6(out)))#200 8 8\r\n",
        "        out = torch.relu(self.norm200(self.conv7(out) + x))#200 8 8\r\n",
        "        \r\n",
        "        x = self.res4(out)#360 4 4\r\n",
        "        out = torch.relu(self.norm360(self.conv8(out) + x))#360 4 4\r\n",
        "        x = out#==self.res5(out)\r\n",
        "        out = torch.relu(self.norm360(self.conv9(out) + x))#360 4 4\r\n",
        "        out = torch.relu(self.norm360(self.conv10(out)))#360 4 4 \r\n",
        "        \r\n",
        "        \r\n",
        "        out = self.avgpool(out)#360 2 2\r\n",
        "        out = self.avgpool(out)#360 1 1\r\n",
        "        \r\n",
        "        out = self.flat(out)#360\r\n",
        "        out = self.linear(out)#10\r\n",
        "        \r\n",
        "        preds = torch.softmax(out,dim=-1)\r\n",
        "        \r\n",
        "        return preds"
      ],
      "outputs": [],
      "metadata": {
        "id": "qJZM7heOiPLf"
      }
    },
    {
      "cell_type": "code",
      "execution_count": null,
      "source": [
        "Cifar10model = ResNet15().to(device)\r\n",
        "loss_fn = nn.BCELoss()\r\n",
        "opt = torch.optim.Adam(Cifar10model.parameters(),lr=0.001)"
      ],
      "outputs": [],
      "metadata": {
        "id": "9dDqZ_UQiPLg"
      }
    },
    {
      "cell_type": "code",
      "execution_count": null,
      "source": [
        "import numpy as np\r\n",
        "\r\n",
        "def fit(epochs):\r\n",
        "    for epoch in range(epochs):\r\n",
        "        print(\"Epoch: \",epoch+1)\r\n",
        "\r\n",
        "        for images,labels in train_dl:\r\n",
        "            preds = Cifar10model(images.to(device))\r\n",
        "\r\n",
        "            targets = []\r\n",
        "            for label in labels:\r\n",
        "                x = np.zeros(10)\r\n",
        "                x[int(label)] = 1\r\n",
        "                targets.append(x.astype(np.float32))\r\n",
        "\r\n",
        "            targets = torch.tensor(targets)\r\n",
        "\r\n",
        "            loss = loss_fn(preds.to(device), targets.to(device))\r\n",
        "            loss.backward()\r\n",
        "            \r\n",
        "            opt.step()\r\n",
        "            opt.zero_grad()\r\n",
        "\r\n",
        "        print(\"Loss: \",round(loss.item(),6))\r\n",
        "\r\n",
        "        with torch.no_grad():\r\n",
        "            correct = 0\r\n",
        "            for images,labels in test_dl:\r\n",
        "                preds = Cifar10model(images.to(device))\r\n",
        "\r\n",
        "                for i in range(len(preds)):\r\n",
        "                    if preds[i].max()==preds[i][labels[i].item()]:\r\n",
        "                        correct += 1\r\n",
        "            \r\n",
        "            acc = correct/len(test_ds)\r\n",
        "            print(\"Accuracy: \",round(acc*100,3))\r\n",
        "            print(\"\")\r\n",
        "\r\n",
        "fit(1)"
      ],
      "outputs": [],
      "metadata": {
        "colab": {
          "base_uri": "https://localhost:8080/"
        },
        "id": "Wc_Q_uufiPLh",
        "outputId": "36c159ba-b15a-4f90-9b30-942e0d3f7918"
      }
    },
    {
      "cell_type": "code",
      "execution_count": null,
      "source": [
        "# torch.save(Cifar10model.state_dict(),\"/content/drive/MyDrive/CifarR10ResNet15.pth\")\r\n",
        "\r\n",
        "# loading 85% auurate model weights \r\n",
        "\r\n",
        "# model = ResNet15()\r\n",
        "# try:\r\n",
        "#     if torch.cuda.is_available():\r\n",
        "#         model.load_state_dict(torch.load(\"./saved_models/Cifar10ResNet15.pth\"))\r\n",
        "#         print(\"Model Loaded(GPU)\")\r\n",
        "#     else:\r\n",
        "#         model.load_state_dict(torch.load(\"./saved_models/Cifar10ResNet15.pth\",map_location=torch.device(\"cpu\")))\r\n",
        "#         print(\"Model Loaded(CPU)\")\r\n",
        "# except Exception as e:\r\n",
        "#     print(e)\r\n",
        "#     print(\"Error Occured in loading saved weights, training for new weights\")\r\n",
        "#     fit(20)"
      ],
      "outputs": [],
      "metadata": {
        "id": "JXM4TtSKiPLi"
      }
    },
    {
      "cell_type": "code",
      "execution_count": null,
      "source": [
        "from PIL import Image\r\n",
        "import matplotlib.pyplot as plt\r\n",
        "\r\n",
        "def predict(path,model):\r\n",
        "    img = Image.open(path)\r\n",
        "    \r\n",
        "    if img.size != (32,32):\r\n",
        "        img = img.resize((32,32))\r\n",
        "    \r\n",
        "    img_arr = np.asarray(img)\r\n",
        "    plt.imshow(img_arr)\r\n",
        "    \r\n",
        "    img_arr = img_arr/255\r\n",
        "    img_tsr = torch.Tensor([img_arr])\r\n",
        "    img_tsr = img_tsr.permute(0,3,1,2)\r\n",
        "    print(img_tsr.shape)\r\n",
        "    \r\n",
        "    pred = model(img_tsr).detach()\r\n",
        "    pred = np.array(pred[0])\r\n",
        "    pred_index = np.where(pred==max(pred))[0][0]\r\n",
        "    \r\n",
        "    print(\"Prediction: \",img_cls[pred_index])\r\n"
      ],
      "outputs": [],
      "metadata": {}
    },
    {
      "cell_type": "code",
      "execution_count": null,
      "source": [
        "predict(\"./data/cifar10/test//0002.png\",model)"
      ],
      "outputs": [],
      "metadata": {}
    }
  ]
}
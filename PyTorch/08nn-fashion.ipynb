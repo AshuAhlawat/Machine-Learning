{
 "cells": [
  {
   "cell_type": "code",
   "execution_count": 1,
   "source": [
    "import pandas as pd \n",
    "import numpy as np\n",
    "\n",
    "from sklearn.model_selection import train_test_split\n",
    "\n",
    "import torch\n",
    "from torch.utils.data import DataLoader"
   ],
   "outputs": [],
   "metadata": {}
  },
  {
   "cell_type": "code",
   "execution_count": 2,
   "source": [
    "dataset = pd.read_csv(\"./data/fashion/fashion-train.csv\")\n",
    "print(len(dataset))"
   ],
   "outputs": [
    {
     "output_type": "stream",
     "name": "stdout",
     "text": [
      "60000\n"
     ]
    }
   ],
   "metadata": {}
  },
  {
   "cell_type": "code",
   "execution_count": 3,
   "source": [
    "targets_cls = dataset.pop(\"label\")\n",
    "\n",
    "inputs = np.array(dataset)\n",
    "targets_cls = np.array(targets_cls)\n",
    "\n",
    "\n",
    "targets = []"
   ],
   "outputs": [],
   "metadata": {}
  },
  {
   "cell_type": "code",
   "execution_count": 4,
   "source": [
    "for _ in targets_cls:\n",
    "    x = np.zeros(10)\n",
    "    x[_] = 1\n",
    "    targets.append(x) \n",
    "\n",
    "targets = np.array(targets)\n",
    "inputs = inputs/255\n",
    "\n",
    "print(inputs.shape, targets.shape)"
   ],
   "outputs": [
    {
     "output_type": "stream",
     "name": "stdout",
     "text": [
      "(60000, 784) (60000, 10)\n"
     ]
    }
   ],
   "metadata": {}
  },
  {
   "cell_type": "code",
   "execution_count": 5,
   "source": [
    "inputs_train, inputs_test, targets_train, targets_test = train_test_split(inputs, targets, test_size= 0.2, random_state=123)\n",
    "\n",
    "print(inputs_train.shape, targets_train.shape, inputs_test.shape, targets_test.shape)"
   ],
   "outputs": [
    {
     "output_type": "stream",
     "name": "stdout",
     "text": [
      "(48000, 784) (48000, 10) (12000, 784) (12000, 10)\n"
     ]
    }
   ],
   "metadata": {}
  },
  {
   "cell_type": "code",
   "execution_count": 6,
   "source": [
    "inputs_train = torch.from_numpy(inputs_train.astype(np.float32)) \n",
    "inputs_test = torch.from_numpy(inputs_test.astype(np.float32)) \n",
    "targets_train = torch.from_numpy(targets_train.astype(np.float32)) \n",
    "targets_test = torch.from_numpy(targets_test.astype(np.float32)) "
   ],
   "outputs": [],
   "metadata": {}
  },
  {
   "cell_type": "code",
   "execution_count": 7,
   "source": [
    "input_train_dl = DataLoader(inputs_train,10)"
   ],
   "outputs": [],
   "metadata": {}
  },
  {
   "cell_type": "code",
   "execution_count": 8,
   "source": [
    "class FashionModel(torch.nn.Module):\n",
    "    def __init__(self,inputs_dim, layer_dim , output_dim):\n",
    "        super().__init__()\n",
    "        self.linear1 = torch.nn.Linear(inputs_dim, layer_dim)\n",
    "        self.linear2 = torch.nn.Linear(layer_dim, output_dim)\n",
    "    \n",
    "    def forward(self,inputs):\n",
    "        self.output1 = torch.relu(self.linear1(inputs))\n",
    "        targets_pred = torch.softmax(self.linear2(self.output1),dim=-1)\n",
    "        \n",
    "        return(targets_pred)\n",
    "\n",
    "class FashionModel2(torch.nn.Module):\n",
    "    def __init__(self,inputs_dim, output_dim):\n",
    "        super().__init__()\n",
    "        self.linear = torch.nn.Linear(inputs_dim, output_dim)\n",
    "    \n",
    "    def forward(self,inputs):\n",
    "        targets_pred = torch.softmax(self.linear(inputs),dim=-1)\n",
    "        \n",
    "        return(targets_pred)\n",
    "\n",
    "FashionNetwork = FashionModel(784, 64, 10)\n",
    "# FashionNetwork = FashionModel2(784,10)"
   ],
   "outputs": [],
   "metadata": {}
  },
  {
   "cell_type": "code",
   "execution_count": 9,
   "source": [
    "loss_fn = torch.nn.BCELoss()"
   ],
   "outputs": [],
   "metadata": {}
  },
  {
   "cell_type": "code",
   "execution_count": 10,
   "source": [
    "opt = torch.optim.Adam(FashionNetwork.parameters(), lr = 0.01)"
   ],
   "outputs": [],
   "metadata": {}
  },
  {
   "cell_type": "code",
   "execution_count": 11,
   "source": [
    "epochs = 300\n",
    "\n",
    "for epoch in range(epochs):\n",
    "    targets_pred = FashionNetwork(inputs_train)\n",
    "    loss = loss_fn(targets_pred, targets_train)\n",
    "    \n",
    "    loss.backward()\n",
    "    \n",
    "    opt.step()\n",
    "    opt.zero_grad()\n",
    "    \n",
    "    if (epoch+1)%10 == 0:\n",
    "       print(\"Epoch: \", epoch+1, \"  Loss: \", round(loss.item(),4))\n",
    "    \n",
    "    if (epoch+1)%50 == 0:\n",
    "        with torch.no_grad():\n",
    "        \n",
    "            targets_test_pred = FashionNetwork(inputs_test)\n",
    "            targets_test_cls = targets_test_pred.detach().clone()\n",
    "\n",
    "            for i in range(len(targets_test_cls)):\n",
    "                for j in range(len(targets_test_cls[i])):\n",
    "                    if targets_test_cls[i][j] == max(targets_test_cls[i]):\n",
    "                        targets_test_cls[i][j] = 1\n",
    "                    else:\n",
    "                        targets_test_cls[i][j] = 0\n",
    "            \n",
    "            targets_test_temp = targets_test.detach().clone()\n",
    "\n",
    "            \n",
    "            correct = 0\n",
    "            \n",
    "            for i in range(len(targets_test_temp)):\n",
    "                if targets_test_temp[i].eq(targets_test_cls[i]).sum()==10:\n",
    "                    correct += 1\n",
    "            \n",
    "            acc = correct/len(targets_test)\n",
    "            accuracy = round(acc*100)\n",
    "            \n",
    "            print(\"Accuracy : \",accuracy,\"%\")\n",
    "            \n",
    "            if accuracy>90:\n",
    "                break "
   ],
   "outputs": [
    {
     "output_type": "stream",
     "name": "stdout",
     "text": [
      "Epoch:  10   Loss:  0.322\n",
      "Epoch:  20   Loss:  0.3173\n",
      "Epoch:  30   Loss:  0.3129\n",
      "Epoch:  40   Loss:  0.3085\n",
      "Epoch:  50   Loss:  0.3039\n",
      "Accuracy :  42 %\n",
      "Epoch:  60   Loss:  0.2991\n",
      "Epoch:  70   Loss:  0.294\n",
      "Epoch:  80   Loss:  0.2885\n",
      "Epoch:  90   Loss:  0.2826\n",
      "Epoch:  100   Loss:  0.2765\n",
      "Accuracy :  56 %\n",
      "Epoch:  110   Loss:  0.2701\n",
      "Epoch:  120   Loss:  0.2636\n",
      "Epoch:  130   Loss:  0.257\n",
      "Epoch:  140   Loss:  0.2505\n",
      "Epoch:  150   Loss:  0.2441\n",
      "Accuracy :  63 %\n"
     ]
    }
   ],
   "metadata": {}
  },
  {
   "cell_type": "code",
   "execution_count": null,
   "source": [
    "import matplotlib.pyplot as plt\n",
    "\n",
    "index = 1111\n",
    "\n",
    "test = inputs[index]\n",
    "\n",
    "img_arr = test.reshape(28,28)\n",
    "plt.imshow(img_arr, cmap=\"gray\")\n",
    "\n",
    "test = torch.from_numpy(test.reshape(1,-1).astype(np.float32))\n",
    "\n",
    "pred = FashionNetwork(test).detach().numpy()\n",
    "pred_cls = np.where(pred==pred.max())\n",
    "print(\"Prediction: \",pred_cls[1][0])\n",
    "print(\"Target: \",targets_cls[index])\n",
    "\n",
    "print(\"\"\"\n",
    "0 T-shirt/top, \n",
    "1 Trouser, \n",
    "2 Pullover,\n",
    "3 Dress,\n",
    "4 Coat,\n",
    "5 Sandal,\n",
    "6 Shirt,\n",
    "7 Sneaker,\n",
    "8 Bag,\n",
    "9 Ankle boot\n",
    "\"\"\")"
   ],
   "outputs": [
    {
     "output_type": "stream",
     "name": "stdout",
     "text": [
      "Prediction:  9\n",
      "Target:  9\n",
      "\n",
      "0 T-shirt/top, 1 Trouser, \n",
      "2 Pullover,\n",
      "3 Dress,\n",
      "4 Coat,\n",
      "5 Sandal,\n",
      "6 Shirt,\n",
      "7 Sneaker,\n",
      "8 Bag,\n",
      "9 Ankle boot\n",
      "\n"
     ]
    },
    {
     "output_type": "display_data",
     "data": {
      "image/png": "[encoded data removed]",
      "text/plain": [
       "<Figure size 432x288 with 1 Axes>"
      ]
     },
     "metadata": {
      "needs_background": "light"
     }
    }
   ],
   "metadata": {}
  }
 ],
 "metadata": {
  "orig_nbformat": 4,
  "language_info": {
   "name": "python",
   "version": "3.9.5",
   "mimetype": "text/x-python",
   "codemirror_mode": {
    "name": "ipython",
    "version": 3
   },
   "pygments_lexer": "ipython3",
   "nbconvert_exporter": "python",
   "file_extension": ".py"
  },
  "kernelspec": {
   "name": "python3",
   "display_name": "Python 3.9.5 64-bit"
  },
  "interpreter": {
   "hash": "916dbcbb3f70747c44a77c7bcd40155683ae19c65e1c03b4aa3499c5328201f1"
  }
 },
 "nbformat": 4,
 "nbformat_minor": 2
}